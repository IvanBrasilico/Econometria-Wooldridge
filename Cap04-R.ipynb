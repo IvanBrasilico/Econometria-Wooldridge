{
 "cells": [
  {
   "cell_type": "code",
   "execution_count": 2,
   "metadata": {},
   "outputs": [],
   "source": [
    "caminho <- c(\"..\", \"dados\", \"Data Sets- R\")"
   ]
  },
  {
   "cell_type": "markdown",
   "metadata": {},
   "source": [
    "## C2"
   ]
  },
  {
   "cell_type": "code",
   "execution_count": 8,
   "metadata": {},
   "outputs": [
    {
     "data": {
      "text/html": [
       "'../dados/Data Sets- R/lawsch85.RData'"
      ],
      "text/latex": [
       "'../dados/Data Sets- R/lawsch85.RData'"
      ],
      "text/markdown": [
       "'../dados/Data Sets- R/lawsch85.RData'"
      ],
      "text/plain": [
       "[1] \"../dados/Data Sets- R/lawsch85.RData\""
      ]
     },
     "metadata": {},
     "output_type": "display_data"
    }
   ],
   "source": [
    "filepath = append(caminho, \"lawsch85.RData\")\n",
    "filepath = paste(filepath, collapse='/')\n",
    "filepath"
   ]
  },
  {
   "cell_type": "code",
   "execution_count": 9,
   "metadata": {},
   "outputs": [],
   "source": [
    "load(filepath)"
   ]
  },
  {
   "cell_type": "code",
   "execution_count": 26,
   "metadata": {},
   "outputs": [
    {
     "data": {
      "text/plain": [
       "\n",
       "Call:\n",
       "lm(formula = log(salary) ~ LSAT + GPA + log(libvol) + log(cost) + \n",
       "    rank, data = data)\n",
       "\n",
       "Residuals:\n",
       "      Min        1Q    Median        3Q       Max \n",
       "-0.301356 -0.084982 -0.004359  0.077935  0.288614 \n",
       "\n",
       "Coefficients:\n",
       "              Estimate Std. Error t value Pr(>|t|)    \n",
       "(Intercept)  8.3432262  0.5325192  15.667  < 2e-16 ***\n",
       "LSAT         0.0046965  0.0040105   1.171  0.24372    \n",
       "GPA          0.2475238  0.0900371   2.749  0.00683 ** \n",
       "log(libvol)  0.0949932  0.0332544   2.857  0.00499 ** \n",
       "log(cost)    0.0375539  0.0321061   1.170  0.24427    \n",
       "rank        -0.0033246  0.0003485  -9.541  < 2e-16 ***\n",
       "---\n",
       "Signif. codes:  0 ‘***’ 0.001 ‘**’ 0.01 ‘*’ 0.05 ‘.’ 0.1 ‘ ’ 1\n",
       "\n",
       "Residual standard error: 0.1124 on 130 degrees of freedom\n",
       "  (20 observations deleted due to missingness)\n",
       "Multiple R-squared:  0.8417,\tAdjusted R-squared:  0.8356 \n",
       "F-statistic: 138.2 on 5 and 130 DF,  p-value: < 2.2e-16\n"
      ]
     },
     "metadata": {},
     "output_type": "display_data"
    }
   ],
   "source": [
    "regr1 = lm(log(salary) ~ LSAT + GPA + log(libvol) + log(cost) + rank, data=data)\n",
    "summary(regr1)"
   ]
  },
  {
   "cell_type": "code",
   "execution_count": 27,
   "metadata": {},
   "outputs": [
    {
     "data": {
      "text/plain": [
       "\n",
       "Call:\n",
       "lm(formula = log(salary) ~ rank, data = data)\n",
       "\n",
       "Residuals:\n",
       "     Min       1Q   Median       3Q      Max \n",
       "-0.36959 -0.09168 -0.02628  0.10016  0.36529 \n",
       "\n",
       "Coefficients:\n",
       "              Estimate Std. Error t value Pr(>|t|)    \n",
       "(Intercept) 10.9379218  0.0194867  561.30   <2e-16 ***\n",
       "rank        -0.0049415  0.0002014  -24.54   <2e-16 ***\n",
       "---\n",
       "Signif. codes:  0 ‘***’ 0.001 ‘**’ 0.01 ‘*’ 0.05 ‘.’ 0.1 ‘ ’ 1\n",
       "\n",
       "Residual standard error: 0.1227 on 146 degrees of freedom\n",
       "  (8 observations deleted due to missingness)\n",
       "Multiple R-squared:  0.8048,\tAdjusted R-squared:  0.8035 \n",
       "F-statistic:   602 on 1 and 146 DF,  p-value: < 2.2e-16\n"
      ]
     },
     "metadata": {},
     "output_type": "display_data"
    }
   ],
   "source": [
    "regr2 = lm(log(salary) ~ rank, data=data)\n",
    "summary(regr2)"
   ]
  },
  {
   "cell_type": "code",
   "execution_count": 40,
   "metadata": {},
   "outputs": [
    {
     "data": {
      "text/plain": [
       "\n",
       "Call:\n",
       "lm(formula = log(salary) ~ LSAT + GPA + log(libvol) + log(cost) + \n",
       "    rank + log(clsize) + log(faculty), data = data)\n",
       "\n",
       "Residuals:\n",
       "      Min        1Q    Median        3Q       Max \n",
       "-0.299228 -0.085435 -0.001876  0.077239  0.273140 \n",
       "\n",
       "Coefficients:\n",
       "               Estimate Std. Error t value Pr(>|t|)    \n",
       "(Intercept)   8.2599386  0.5847660  14.125  < 2e-16 ***\n",
       "LSAT          0.0052982  0.0042529   1.246  0.21522    \n",
       "GPA           0.2562574  0.0956956   2.678  0.00842 ** \n",
       "log(libvol)   0.0714880  0.0415489   1.721  0.08784 .  \n",
       "log(cost)     0.0389202  0.0352609   1.104  0.27184    \n",
       "rank         -0.0033969  0.0003604  -9.425 3.32e-16 ***\n",
       "log(clsize)   0.0183748  0.0380339   0.483  0.62987    \n",
       "log(faculty) -0.0027450  0.0321624  -0.085  0.93212    \n",
       "---\n",
       "Signif. codes:  0 ‘***’ 0.001 ‘**’ 0.01 ‘*’ 0.05 ‘.’ 0.1 ‘ ’ 1\n",
       "\n",
       "Residual standard error: 0.1138 on 123 degrees of freedom\n",
       "  (25 observations deleted due to missingness)\n",
       "Multiple R-squared:  0.842,\tAdjusted R-squared:  0.833 \n",
       "F-statistic: 93.62 on 7 and 123 DF,  p-value: < 2.2e-16\n"
      ]
     },
     "metadata": {},
     "output_type": "display_data"
    }
   ],
   "source": [
    "regr3 = lm(log(salary) ~ LSAT + GPA + log(libvol) + log(cost) + rank + log(clsize) + log(faculty), data=data)\n",
    "summary(regr3)"
   ]
  },
  {
   "cell_type": "markdown",
   "metadata": {},
   "source": [
    "## i\n",
    "H0: Brank = 0\n",
    "O valor do p-value para rank é muito baixo, em qualquer equação. Portanto, rank é estatisticamente \n",
    "significante e devemos rejeitar a hipótese nula."
   ]
  },
  {
   "cell_type": "code",
   "execution_count": 30,
   "metadata": {},
   "outputs": [
    {
     "data": {
      "text/html": [
       "<table>\n",
       "<thead><tr><th scope=col>Res.Df</th><th scope=col>RSS</th><th scope=col>Df</th><th scope=col>Sum of Sq</th><th scope=col>F</th><th scope=col>Pr(&gt;F)</th></tr></thead>\n",
       "<tbody>\n",
       "\t<tr><td>131         </td><td>2.792977    </td><td>NA          </td><td>      NA    </td><td>      NA    </td><td>          NA</td></tr>\n",
       "\t<tr><td>130         </td><td>1.642730    </td><td> 1          </td><td>1.150247    </td><td>91.02661    </td><td>1.121018e-16</td></tr>\n",
       "</tbody>\n",
       "</table>\n"
      ],
      "text/latex": [
       "\\begin{tabular}{r|llllll}\n",
       " Res.Df & RSS & Df & Sum of Sq & F & Pr(>F)\\\\\n",
       "\\hline\n",
       "\t 131          & 2.792977     & NA           &       NA     &       NA     &           NA\\\\\n",
       "\t 130          & 1.642730     &  1           & 1.150247     & 91.02661     & 1.121018e-16\\\\\n",
       "\\end{tabular}\n"
      ],
      "text/markdown": [
       "\n",
       "Res.Df | RSS | Df | Sum of Sq | F | Pr(>F) | \n",
       "|---|---|\n",
       "| 131          | 2.792977     | NA           |       NA     |       NA     |           NA | \n",
       "| 130          | 1.642730     |  1           | 1.150247     | 91.02661     | 1.121018e-16 | \n",
       "\n",
       "\n"
      ],
      "text/plain": [
       "  Res.Df RSS      Df Sum of Sq F        Pr(>F)      \n",
       "1 131    2.792977 NA       NA        NA           NA\n",
       "2 130    1.642730  1 1.150247  91.02661 1.121018e-16"
      ]
     },
     "metadata": {},
     "output_type": "display_data"
    }
   ],
   "source": [
    "# install.packages(\"car\")\n",
    "library(car)\n",
    "linearHypothesis(regr1, c(\"rank = 0\"))"
   ]
  },
  {
   "cell_type": "markdown",
   "metadata": {},
   "source": [
    "## ii\n",
    "H0: bLSAT, bGPA = 0\n",
    "\n",
    "Temos em regr1:\n",
    "* LSAT         0.0046965  0.0040105   1.171  0.24372   \n",
    "* GPA          0.2475238  0.0900371   2.749  0.00683 ** \n",
    "\n",
    "Portanto, GPA é significante, mas LSAT não é.\n",
    "\n",
    "Em regr4 testou-se LSAT:GPA:\n",
    "* LSAT        -0.1424654  0.0309557  -4.602 9.87e-06 ***\n",
    "* GPA         -6.9187233  1.4988798  -4.616 9.33e-06 ***\n",
    "* LSAT:GPA     0.0446301  0.0093203   4.788 4.53e-06 ***\n",
    "\n",
    "O que inverteu os sinais de bLSAT e bGPA. De qualquer forma, a significância aumentou.\n",
    "\n",
    "LSAT e GPA parecem correlacionados\n",
    "\n",
    "Rodar um f_test confirma a relevância de ambos (abaixo)\n",
    "\n",
    "Também foi rodada uma regressão apenas com LSAT(regr5), o que confirma relevância\n",
    "* LSAT         0.0112920  0.0032932   3.429 0.000811 ******"
   ]
  },
  {
   "cell_type": "code",
   "execution_count": 32,
   "metadata": {},
   "outputs": [
    {
     "data": {
      "text/html": [
       "<table>\n",
       "<thead><tr><th scope=col>Res.Df</th><th scope=col>RSS</th><th scope=col>Df</th><th scope=col>Sum of Sq</th><th scope=col>F</th><th scope=col>Pr(&gt;F)</th></tr></thead>\n",
       "<tbody>\n",
       "\t<tr><td>132         </td><td>1.894238    </td><td>NA          </td><td>       NA   </td><td>     NA     </td><td>          NA</td></tr>\n",
       "\t<tr><td>130         </td><td>1.642730    </td><td> 2          </td><td>0.2515081   </td><td>9.95174     </td><td>9.518231e-05</td></tr>\n",
       "</tbody>\n",
       "</table>\n"
      ],
      "text/latex": [
       "\\begin{tabular}{r|llllll}\n",
       " Res.Df & RSS & Df & Sum of Sq & F & Pr(>F)\\\\\n",
       "\\hline\n",
       "\t 132          & 1.894238     & NA           &        NA    &      NA      &           NA\\\\\n",
       "\t 130          & 1.642730     &  2           & 0.2515081    & 9.95174      & 9.518231e-05\\\\\n",
       "\\end{tabular}\n"
      ],
      "text/markdown": [
       "\n",
       "Res.Df | RSS | Df | Sum of Sq | F | Pr(>F) | \n",
       "|---|---|\n",
       "| 132          | 1.894238     | NA           |        NA    |      NA      |           NA | \n",
       "| 130          | 1.642730     |  2           | 0.2515081    | 9.95174      | 9.518231e-05 | \n",
       "\n",
       "\n"
      ],
      "text/plain": [
       "  Res.Df RSS      Df Sum of Sq F       Pr(>F)      \n",
       "1 132    1.894238 NA        NA      NA           NA\n",
       "2 130    1.642730  2 0.2515081 9.95174 9.518231e-05"
      ]
     },
     "metadata": {},
     "output_type": "display_data"
    }
   ],
   "source": [
    "linearHypothesis(regr1, c(\"LSAT = 0\", \"GPA = 0\"))"
   ]
  },
  {
   "cell_type": "code",
   "execution_count": 34,
   "metadata": {},
   "outputs": [
    {
     "data": {
      "text/plain": [
       "\n",
       "Call:\n",
       "lm(formula = log(salary) ~ LSAT * GPA + log(libvol) + log(cost) + \n",
       "    rank, data = data)\n",
       "\n",
       "Residuals:\n",
       "     Min       1Q   Median       3Q      Max \n",
       "-0.30163 -0.07267 -0.01317  0.05786  0.32407 \n",
       "\n",
       "Coefficients:\n",
       "              Estimate Std. Error t value Pr(>|t|)    \n",
       "(Intercept) 32.5043916  5.0696878   6.412 2.49e-09 ***\n",
       "LSAT        -0.1424654  0.0309557  -4.602 9.87e-06 ***\n",
       "GPA         -6.9187233  1.4988798  -4.616 9.33e-06 ***\n",
       "log(libvol)  0.0549952  0.0318749   1.725   0.0869 .  \n",
       "log(cost)    0.0048934  0.0304719   0.161   0.8727    \n",
       "rank        -0.0036289  0.0003285 -11.046  < 2e-16 ***\n",
       "LSAT:GPA     0.0446301  0.0093203   4.788 4.53e-06 ***\n",
       "---\n",
       "Signif. codes:  0 ‘***’ 0.001 ‘**’ 0.01 ‘*’ 0.05 ‘.’ 0.1 ‘ ’ 1\n",
       "\n",
       "Residual standard error: 0.104 on 129 degrees of freedom\n",
       "  (20 observations deleted due to missingness)\n",
       "Multiple R-squared:  0.8656,\tAdjusted R-squared:  0.8593 \n",
       "F-statistic: 138.4 on 6 and 129 DF,  p-value: < 2.2e-16\n"
      ]
     },
     "metadata": {},
     "output_type": "display_data"
    }
   ],
   "source": [
    "regr4 = lm(log(salary) ~ LSAT*GPA + log(libvol) + log(cost) + rank, data=data)\n",
    "summary(regr4)"
   ]
  },
  {
   "cell_type": "code",
   "execution_count": 38,
   "metadata": {},
   "outputs": [
    {
     "data": {
      "text/plain": [
       "\n",
       "Call:\n",
       "lm(formula = log(salary) ~ LSAT + log(libvol) + log(cost) + rank, \n",
       "    data = data)\n",
       "\n",
       "Residuals:\n",
       "     Min       1Q   Median       3Q      Max \n",
       "-0.29908 -0.09323 -0.01196  0.07840  0.26839 \n",
       "\n",
       "Coefficients:\n",
       "              Estimate Std. Error t value Pr(>|t|)    \n",
       "(Intercept)  8.4632252  0.5438489  15.562  < 2e-16 ***\n",
       "LSAT         0.0112920  0.0032932   3.429 0.000811 ***\n",
       "log(libvol)  0.0987489  0.0340478   2.900 0.004374 ** \n",
       "log(cost)    0.0014094  0.0300148   0.047 0.962619    \n",
       "rank        -0.0036816  0.0003314 -11.111  < 2e-16 ***\n",
       "---\n",
       "Signif. codes:  0 ‘***’ 0.001 ‘**’ 0.01 ‘*’ 0.05 ‘.’ 0.1 ‘ ’ 1\n",
       "\n",
       "Residual standard error: 0.1152 on 131 degrees of freedom\n",
       "  (20 observations deleted due to missingness)\n",
       "Multiple R-squared:  0.8325,\tAdjusted R-squared:  0.8274 \n",
       "F-statistic: 162.8 on 4 and 131 DF,  p-value: < 2.2e-16\n"
      ]
     },
     "metadata": {},
     "output_type": "display_data"
    }
   ],
   "source": [
    "regr5 = lm(log(salary) ~ LSAT + log(libvol) + log(cost) + rank, data=data)\n",
    "summary(regr5)"
   ]
  },
  {
   "cell_type": "markdown",
   "metadata": {},
   "source": [
    "## iii\n",
    "\n",
    "H0: bclsize, bfaculty = 0\n",
    "\n",
    "Em regr3:\n",
    "* log(clsize)   0.0183748  0.0380339   0.483  0.62987    \n",
    "* log(faculty) -0.0027450  0.0321624  -0.085  0.93212\n",
    "\n",
    "Por si só, os t-value e p-value demonstram não significância.\n",
    "\n",
    "O f-test, abaixo, mostra a falta de significância conjunta."
   ]
  },
  {
   "cell_type": "code",
   "execution_count": 41,
   "metadata": {},
   "outputs": [
    {
     "data": {
      "text/html": [
       "<table>\n",
       "<thead><tr><th scope=col>Res.Df</th><th scope=col>RSS</th><th scope=col>Df</th><th scope=col>Sum of Sq</th><th scope=col>F</th><th scope=col>Pr(&gt;F)</th></tr></thead>\n",
       "<tbody>\n",
       "\t<tr><td>125        </td><td>1.597422   </td><td>NA         </td><td>         NA</td><td>       NA  </td><td>       NA  </td></tr>\n",
       "\t<tr><td>123        </td><td>1.593476   </td><td> 2         </td><td>0.003945688</td><td>0.1522833  </td><td>0.8589066  </td></tr>\n",
       "</tbody>\n",
       "</table>\n"
      ],
      "text/latex": [
       "\\begin{tabular}{r|llllll}\n",
       " Res.Df & RSS & Df & Sum of Sq & F & Pr(>F)\\\\\n",
       "\\hline\n",
       "\t 125         & 1.597422    & NA          &          NA &        NA   &        NA  \\\\\n",
       "\t 123         & 1.593476    &  2          & 0.003945688 & 0.1522833   & 0.8589066  \\\\\n",
       "\\end{tabular}\n"
      ],
      "text/markdown": [
       "\n",
       "Res.Df | RSS | Df | Sum of Sq | F | Pr(>F) | \n",
       "|---|---|\n",
       "| 125         | 1.597422    | NA          |          NA |        NA   |        NA   | \n",
       "| 123         | 1.593476    |  2          | 0.003945688 | 0.1522833   | 0.8589066   | \n",
       "\n",
       "\n"
      ],
      "text/plain": [
       "  Res.Df RSS      Df Sum of Sq   F         Pr(>F)   \n",
       "1 125    1.597422 NA          NA        NA        NA\n",
       "2 123    1.593476  2 0.003945688 0.1522833 0.8589066"
      ]
     },
     "metadata": {},
     "output_type": "display_data"
    }
   ],
   "source": [
    "linearHypothesis(regr3, c(\"log(clsize) = 0\", \"log(faculty) = 0\"))"
   ]
  },
  {
   "cell_type": "code",
   "execution_count": null,
   "metadata": {},
   "outputs": [],
   "source": []
  }
 ],
 "metadata": {
  "kernelspec": {
   "display_name": "R",
   "language": "R",
   "name": "ir"
  },
  "language_info": {
   "codemirror_mode": "r",
   "file_extension": ".r",
   "mimetype": "text/x-r-source",
   "name": "R",
   "pygments_lexer": "r",
   "version": "3.4.3"
  }
 },
 "nbformat": 4,
 "nbformat_minor": 2
}
