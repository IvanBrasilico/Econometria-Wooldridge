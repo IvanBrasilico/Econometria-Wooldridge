{
 "cells": [
  {
   "cell_type": "code",
   "execution_count": 2,
   "metadata": {},
   "outputs": [],
   "source": [
    "caminho <- c(\"..\", \"dados\", \"Data Sets- R\")"
   ]
  },
  {
   "cell_type": "markdown",
   "metadata": {},
   "source": [
    "## C1"
   ]
  },
  {
   "cell_type": "code",
   "execution_count": 3,
   "metadata": {},
   "outputs": [
    {
     "data": {
      "text/html": [
       "'../dados/Data Sets- R/hprice1.RData'"
      ],
      "text/latex": [
       "'../dados/Data Sets- R/hprice1.RData'"
      ],
      "text/markdown": [
       "'../dados/Data Sets- R/hprice1.RData'"
      ],
      "text/plain": [
       "[1] \"../dados/Data Sets- R/hprice1.RData\""
      ]
     },
     "metadata": {},
     "output_type": "display_data"
    }
   ],
   "source": [
    "filepath = append(caminho, \"hprice1.RData\")\n",
    "filepath = paste(filepath, collapse='/')\n",
    "filepath"
   ]
  },
  {
   "cell_type": "code",
   "execution_count": null,
   "metadata": {},
   "outputs": [],
   "source": [
    "load(filepath)"
   ]
  }
 ],
 "metadata": {
  "kernelspec": {
   "display_name": "R",
   "language": "R",
   "name": "ir"
  },
  "language_info": {
   "codemirror_mode": "r",
   "file_extension": ".r",
   "mimetype": "text/x-r-source",
   "name": "R",
   "pygments_lexer": "r",
   "version": "3.4.3"
  }
 },
 "nbformat": 4,
 "nbformat_minor": 2
}
