{
 "cells": [
  {
   "cell_type": "code",
   "execution_count": 1,
   "metadata": {},
   "outputs": [],
   "source": [
    "caminho <- c(\"..\", \"dados\", \"Data Sets- R\")"
   ]
  },
  {
   "cell_type": "code",
   "execution_count": 2,
   "metadata": {},
   "outputs": [
    {
     "data": {
      "text/html": [
       "'../dados/Data Sets- R/wage1.RData'"
      ],
      "text/latex": [
       "'../dados/Data Sets- R/wage1.RData'"
      ],
      "text/markdown": [
       "'../dados/Data Sets- R/wage1.RData'"
      ],
      "text/plain": [
       "[1] \"../dados/Data Sets- R/wage1.RData\""
      ]
     },
     "metadata": {},
     "output_type": "display_data"
    }
   ],
   "source": [
    "filepath = append(caminho, \"wage1.RData\")\n",
    "filepath = paste(filepath, collapse='/')\n",
    "filepath"
   ]
  },
  {
   "cell_type": "code",
   "execution_count": 3,
   "metadata": {},
   "outputs": [],
   "source": [
    "load(filepath)"
   ]
  },
  {
   "cell_type": "code",
   "execution_count": 4,
   "metadata": {},
   "outputs": [
    {
     "data": {
      "text/html": [
       "<ol class=list-inline>\n",
       "\t<li>'caminho'</li>\n",
       "\t<li>'data'</li>\n",
       "\t<li>'desc'</li>\n",
       "\t<li>'filepath'</li>\n",
       "\t<li>'self'</li>\n",
       "</ol>\n"
      ],
      "text/latex": [
       "\\begin{enumerate*}\n",
       "\\item 'caminho'\n",
       "\\item 'data'\n",
       "\\item 'desc'\n",
       "\\item 'filepath'\n",
       "\\item 'self'\n",
       "\\end{enumerate*}\n"
      ],
      "text/markdown": [
       "1. 'caminho'\n",
       "2. 'data'\n",
       "3. 'desc'\n",
       "4. 'filepath'\n",
       "5. 'self'\n",
       "\n",
       "\n"
      ],
      "text/plain": [
       "[1] \"caminho\"  \"data\"     \"desc\"     \"filepath\" \"self\"    "
      ]
     },
     "metadata": {},
     "output_type": "display_data"
    }
   ],
   "source": [
    "ls()"
   ]
  },
  {
   "cell_type": "code",
   "execution_count": 5,
   "metadata": {},
   "outputs": [
    {
     "name": "stdout",
     "output_type": "stream",
     "text": [
      "'data.frame':\t526 obs. of  24 variables:\n",
      " $ wage    : num  3.1 3.24 3 6 5.3 ...\n",
      " $ educ    : int  11 12 11 8 12 16 18 12 12 17 ...\n",
      " $ exper   : int  2 22 2 44 7 9 15 5 26 22 ...\n",
      " $ tenure  : int  0 2 0 28 2 8 7 3 4 21 ...\n",
      " $ nonwhite: int  0 0 0 0 0 0 0 0 0 0 ...\n",
      " $ female  : int  1 1 0 0 0 0 0 1 1 0 ...\n",
      " $ married : int  0 1 0 1 1 1 0 0 0 1 ...\n",
      " $ numdep  : int  2 3 2 0 1 0 0 0 2 0 ...\n",
      " $ smsa    : int  1 1 0 1 0 1 1 1 1 1 ...\n",
      " $ northcen: int  0 0 0 0 0 0 0 0 0 0 ...\n",
      " $ south   : int  0 0 0 0 0 0 0 0 0 0 ...\n",
      " $ west    : int  1 1 1 1 1 1 1 1 1 1 ...\n",
      " $ construc: int  0 0 0 0 0 0 0 0 0 0 ...\n",
      " $ ndurman : int  0 0 0 0 0 0 0 0 0 0 ...\n",
      " $ trcommpu: int  0 0 0 0 0 0 0 0 0 0 ...\n",
      " $ trade   : int  0 0 1 0 0 0 1 0 1 0 ...\n",
      " $ services: int  0 1 0 0 0 0 0 0 0 0 ...\n",
      " $ profserv: int  0 0 0 0 0 1 0 0 0 0 ...\n",
      " $ profocc : int  0 0 0 0 0 1 1 1 1 1 ...\n",
      " $ clerocc : int  0 0 0 1 0 0 0 0 0 0 ...\n",
      " $ servocc : int  0 1 0 0 0 0 0 0 0 0 ...\n",
      " $ lwage   : num  1.13 1.18 1.1 1.79 1.67 ...\n",
      " $ expersq : int  4 484 4 1936 49 81 225 25 676 484 ...\n",
      " $ tenursq : int  0 4 0 784 4 64 49 9 16 441 ...\n",
      " - attr(*, \"datalabel\")= chr \"\"\n",
      " - attr(*, \"time.stamp\")= chr \"25 Jun 2011 23:03\"\n",
      " - attr(*, \"formats\")= chr  \"%8.2g\" \"%8.0g\" \"%8.0g\" \"%8.0g\" ...\n",
      " - attr(*, \"types\")= int  254 251 251 251 251 251 251 251 251 251 ...\n",
      " - attr(*, \"val.labels\")= chr  \"\" \"\" \"\" \"\" ...\n",
      " - attr(*, \"var.labels\")= chr  \"average hourly earnings\" \"years of education\" \"years potential experience\" \"years with current employer\" ...\n",
      " - attr(*, \"version\")= int 10\n"
     ]
    }
   ],
   "source": [
    "str(data)"
   ]
  },
  {
   "cell_type": "code",
   "execution_count": 11,
   "metadata": {},
   "outputs": [
    {
     "data": {
      "text/html": [
       "<ol class=list-inline>\n",
       "\t<li>12.5627376425856</li>\n",
       "\t<li>18</li>\n",
       "\t<li>0</li>\n",
       "</ol>\n"
      ],
      "text/latex": [
       "\\begin{enumerate*}\n",
       "\\item 12.5627376425856\n",
       "\\item 18\n",
       "\\item 0\n",
       "\\end{enumerate*}\n"
      ],
      "text/markdown": [
       "1. 12.5627376425856\n",
       "2. 18\n",
       "3. 0\n",
       "\n",
       "\n"
      ],
      "text/plain": [
       "[1] 12.56274 18.00000  0.00000"
      ]
     },
     "metadata": {},
     "output_type": "display_data"
    }
   ],
   "source": [
    "i <- c(mean(data[[\"educ\"]]), max(data[[\"educ\"]]), min(data[[\"educ\"]]))\n",
    "i"
   ]
  },
  {
   "cell_type": "code",
   "execution_count": null,
   "metadata": {},
   "outputs": [],
   "source": []
  }
 ],
 "metadata": {
  "kernelspec": {
   "display_name": "R",
   "language": "R",
   "name": "ir"
  },
  "language_info": {
   "codemirror_mode": "r",
   "file_extension": ".r",
   "mimetype": "text/x-r-source",
   "name": "R",
   "pygments_lexer": "r",
   "version": "3.4.3"
  }
 },
 "nbformat": 4,
 "nbformat_minor": 2
}
