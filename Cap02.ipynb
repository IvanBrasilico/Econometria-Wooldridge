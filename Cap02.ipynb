{
 "cells": [
  {
   "cell_type": "code",
   "execution_count": 1,
   "metadata": {},
   "outputs": [],
   "source": [
    "import os\n",
    "import pandas as pd\n",
    "import statsmodels.api as sm\n",
    "import statsmodels.formula.api as smf\n",
    "caminho = os.path.join('..', 'dados', 'Data Sets- STATA')"
   ]
  },
  {
   "cell_type": "markdown",
   "metadata": {},
   "source": [
    "## C1"
   ]
  },
  {
   "cell_type": "code",
   "execution_count": 2,
   "metadata": {},
   "outputs": [
    {
     "data": {
      "text/html": [
       "<div>\n",
       "<style scoped>\n",
       "    .dataframe tbody tr th:only-of-type {\n",
       "        vertical-align: middle;\n",
       "    }\n",
       "\n",
       "    .dataframe tbody tr th {\n",
       "        vertical-align: top;\n",
       "    }\n",
       "\n",
       "    .dataframe thead th {\n",
       "        text-align: right;\n",
       "    }\n",
       "</style>\n",
       "<table border=\"1\" class=\"dataframe\">\n",
       "  <thead>\n",
       "    <tr style=\"text-align: right;\">\n",
       "      <th></th>\n",
       "      <th>prate</th>\n",
       "      <th>mrate</th>\n",
       "      <th>totpart</th>\n",
       "      <th>totelg</th>\n",
       "      <th>age</th>\n",
       "      <th>totemp</th>\n",
       "      <th>sole</th>\n",
       "      <th>ltotemp</th>\n",
       "    </tr>\n",
       "  </thead>\n",
       "  <tbody>\n",
       "    <tr>\n",
       "      <th>0</th>\n",
       "      <td>26.100000</td>\n",
       "      <td>0.21</td>\n",
       "      <td>1653.0</td>\n",
       "      <td>6322.0</td>\n",
       "      <td>8</td>\n",
       "      <td>8709.0</td>\n",
       "      <td>0</td>\n",
       "      <td>9.072112</td>\n",
       "    </tr>\n",
       "    <tr>\n",
       "      <th>1</th>\n",
       "      <td>100.000000</td>\n",
       "      <td>1.42</td>\n",
       "      <td>262.0</td>\n",
       "      <td>262.0</td>\n",
       "      <td>6</td>\n",
       "      <td>315.0</td>\n",
       "      <td>1</td>\n",
       "      <td>5.752573</td>\n",
       "    </tr>\n",
       "    <tr>\n",
       "      <th>2</th>\n",
       "      <td>97.599998</td>\n",
       "      <td>0.91</td>\n",
       "      <td>166.0</td>\n",
       "      <td>170.0</td>\n",
       "      <td>10</td>\n",
       "      <td>275.0</td>\n",
       "      <td>1</td>\n",
       "      <td>5.616771</td>\n",
       "    </tr>\n",
       "    <tr>\n",
       "      <th>3</th>\n",
       "      <td>100.000000</td>\n",
       "      <td>0.42</td>\n",
       "      <td>257.0</td>\n",
       "      <td>257.0</td>\n",
       "      <td>7</td>\n",
       "      <td>500.0</td>\n",
       "      <td>0</td>\n",
       "      <td>6.214608</td>\n",
       "    </tr>\n",
       "    <tr>\n",
       "      <th>4</th>\n",
       "      <td>82.500000</td>\n",
       "      <td>0.53</td>\n",
       "      <td>591.0</td>\n",
       "      <td>716.0</td>\n",
       "      <td>28</td>\n",
       "      <td>933.0</td>\n",
       "      <td>1</td>\n",
       "      <td>6.838405</td>\n",
       "    </tr>\n",
       "  </tbody>\n",
       "</table>\n",
       "</div>"
      ],
      "text/plain": [
       "        prate  mrate  totpart  totelg  age  totemp  sole   ltotemp\n",
       "0   26.100000   0.21   1653.0  6322.0    8  8709.0     0  9.072112\n",
       "1  100.000000   1.42    262.0   262.0    6   315.0     1  5.752573\n",
       "2   97.599998   0.91    166.0   170.0   10   275.0     1  5.616771\n",
       "3  100.000000   0.42    257.0   257.0    7   500.0     0  6.214608\n",
       "4   82.500000   0.53    591.0   716.0   28   933.0     1  6.838405"
      ]
     },
     "execution_count": 2,
     "metadata": {},
     "output_type": "execute_result"
    }
   ],
   "source": [
    "filename = os.path.join(caminho, '401K.DTA')\n",
    "df = pd.read_stata(filename, preserve_dtypes=False)\n",
    "df.head()"
   ]
  },
  {
   "cell_type": "code",
   "execution_count": 3,
   "metadata": {},
   "outputs": [
    {
     "data": {
      "text/html": [
       "<div>\n",
       "<style scoped>\n",
       "    .dataframe tbody tr th:only-of-type {\n",
       "        vertical-align: middle;\n",
       "    }\n",
       "\n",
       "    .dataframe tbody tr th {\n",
       "        vertical-align: top;\n",
       "    }\n",
       "\n",
       "    .dataframe thead th {\n",
       "        text-align: right;\n",
       "    }\n",
       "</style>\n",
       "<table border=\"1\" class=\"dataframe\">\n",
       "  <thead>\n",
       "    <tr style=\"text-align: right;\">\n",
       "      <th></th>\n",
       "      <th>prate</th>\n",
       "      <th>mrate</th>\n",
       "      <th>totpart</th>\n",
       "      <th>totelg</th>\n",
       "      <th>age</th>\n",
       "      <th>totemp</th>\n",
       "      <th>sole</th>\n",
       "      <th>ltotemp</th>\n",
       "    </tr>\n",
       "  </thead>\n",
       "  <tbody>\n",
       "    <tr>\n",
       "      <th>count</th>\n",
       "      <td>1534.000000</td>\n",
       "      <td>1534.000000</td>\n",
       "      <td>1534.000000</td>\n",
       "      <td>1534.000000</td>\n",
       "      <td>1534.000000</td>\n",
       "      <td>1534.000000</td>\n",
       "      <td>1534.000000</td>\n",
       "      <td>1534.000000</td>\n",
       "    </tr>\n",
       "    <tr>\n",
       "      <th>mean</th>\n",
       "      <td>87.362907</td>\n",
       "      <td>0.731512</td>\n",
       "      <td>1354.230769</td>\n",
       "      <td>1628.534550</td>\n",
       "      <td>13.181226</td>\n",
       "      <td>3568.495437</td>\n",
       "      <td>0.487614</td>\n",
       "      <td>6.686034</td>\n",
       "    </tr>\n",
       "    <tr>\n",
       "      <th>std</th>\n",
       "      <td>16.716537</td>\n",
       "      <td>0.779539</td>\n",
       "      <td>4629.264665</td>\n",
       "      <td>5370.719356</td>\n",
       "      <td>9.171114</td>\n",
       "      <td>11217.939519</td>\n",
       "      <td>0.500010</td>\n",
       "      <td>1.453375</td>\n",
       "    </tr>\n",
       "    <tr>\n",
       "      <th>min</th>\n",
       "      <td>3.000000</td>\n",
       "      <td>0.010000</td>\n",
       "      <td>50.000000</td>\n",
       "      <td>51.000000</td>\n",
       "      <td>4.000000</td>\n",
       "      <td>58.000000</td>\n",
       "      <td>0.000000</td>\n",
       "      <td>4.060443</td>\n",
       "    </tr>\n",
       "    <tr>\n",
       "      <th>25%</th>\n",
       "      <td>78.025000</td>\n",
       "      <td>0.300000</td>\n",
       "      <td>156.250000</td>\n",
       "      <td>176.000000</td>\n",
       "      <td>7.000000</td>\n",
       "      <td>261.000000</td>\n",
       "      <td>0.000000</td>\n",
       "      <td>5.564520</td>\n",
       "    </tr>\n",
       "    <tr>\n",
       "      <th>50%</th>\n",
       "      <td>95.699997</td>\n",
       "      <td>0.460000</td>\n",
       "      <td>276.000000</td>\n",
       "      <td>330.000000</td>\n",
       "      <td>9.000000</td>\n",
       "      <td>588.000000</td>\n",
       "      <td>0.000000</td>\n",
       "      <td>6.376725</td>\n",
       "    </tr>\n",
       "    <tr>\n",
       "      <th>75%</th>\n",
       "      <td>100.000000</td>\n",
       "      <td>0.830000</td>\n",
       "      <td>749.500000</td>\n",
       "      <td>890.500000</td>\n",
       "      <td>18.000000</td>\n",
       "      <td>1804.000000</td>\n",
       "      <td>1.000000</td>\n",
       "      <td>7.497761</td>\n",
       "    </tr>\n",
       "    <tr>\n",
       "      <th>max</th>\n",
       "      <td>100.000000</td>\n",
       "      <td>4.910000</td>\n",
       "      <td>58811.000000</td>\n",
       "      <td>70429.000000</td>\n",
       "      <td>51.000000</td>\n",
       "      <td>144387.000000</td>\n",
       "      <td>1.000000</td>\n",
       "      <td>11.880253</td>\n",
       "    </tr>\n",
       "  </tbody>\n",
       "</table>\n",
       "</div>"
      ],
      "text/plain": [
       "             prate        mrate       totpart        totelg          age  \\\n",
       "count  1534.000000  1534.000000   1534.000000   1534.000000  1534.000000   \n",
       "mean     87.362907     0.731512   1354.230769   1628.534550    13.181226   \n",
       "std      16.716537     0.779539   4629.264665   5370.719356     9.171114   \n",
       "min       3.000000     0.010000     50.000000     51.000000     4.000000   \n",
       "25%      78.025000     0.300000    156.250000    176.000000     7.000000   \n",
       "50%      95.699997     0.460000    276.000000    330.000000     9.000000   \n",
       "75%     100.000000     0.830000    749.500000    890.500000    18.000000   \n",
       "max     100.000000     4.910000  58811.000000  70429.000000    51.000000   \n",
       "\n",
       "              totemp         sole      ltotemp  \n",
       "count    1534.000000  1534.000000  1534.000000  \n",
       "mean     3568.495437     0.487614     6.686034  \n",
       "std     11217.939519     0.500010     1.453375  \n",
       "min        58.000000     0.000000     4.060443  \n",
       "25%       261.000000     0.000000     5.564520  \n",
       "50%       588.000000     0.000000     6.376725  \n",
       "75%      1804.000000     1.000000     7.497761  \n",
       "max    144387.000000     1.000000    11.880253  "
      ]
     },
     "execution_count": 3,
     "metadata": {},
     "output_type": "execute_result"
    }
   ],
   "source": [
    "df.describe()"
   ]
  },
  {
   "cell_type": "code",
   "execution_count": 4,
   "metadata": {},
   "outputs": [
    {
     "data": {
      "text/plain": [
       "<matplotlib.axes._subplots.AxesSubplot at 0x7fd8a18f2cc0>"
      ]
     },
     "execution_count": 4,
     "metadata": {},
     "output_type": "execute_result"
    },
    {
     "data": {
      "image/png": "[encoded data removed]",
      "text/plain": [
       "<matplotlib.figure.Figure at 0x7fd8a1bb9438>"
      ]
     },
     "metadata": {},
     "output_type": "display_data"
    }
   ],
   "source": [
    "%matplotlib inline\n",
    "import seaborn as sns\n",
    "sns.regplot(x='mrate', y='prate', data=df)"
   ]
  },
  {
   "cell_type": "code",
   "execution_count": 5,
   "metadata": {},
   "outputs": [],
   "source": [
    "model = smf.ols(formula='prate ~ mrate', data=df)\n",
    "results = model.fit()"
   ]
  },
  {
   "cell_type": "code",
   "execution_count": 6,
   "metadata": {},
   "outputs": [
    {
     "name": "stdout",
     "output_type": "stream",
     "text": [
      "                            OLS Regression Results                            \n",
      "==============================================================================\n",
      "Dep. Variable:                  prate   R-squared:                       0.075\n",
      "Model:                            OLS   Adj. R-squared:                  0.074\n",
      "Method:                 Least Squares   F-statistic:                     123.7\n",
      "Date:                Sat, 07 Jul 2018   Prob (F-statistic):           1.10e-27\n",
      "Time:                        20:38:51   Log-Likelihood:                -6437.0\n",
      "No. Observations:                1534   AIC:                         1.288e+04\n",
      "Df Residuals:                    1532   BIC:                         1.289e+04\n",
      "Df Model:                           1                                         \n",
      "Covariance Type:            nonrobust                                         \n",
      "==============================================================================\n",
      "                 coef    std err          t      P>|t|      [0.025      0.975]\n",
      "------------------------------------------------------------------------------\n",
      "Intercept     83.0755      0.563    147.484      0.000      81.971      84.180\n",
      "mrate          5.8611      0.527     11.121      0.000       4.827       6.895\n",
      "==============================================================================\n",
      "Omnibus:                      394.767   Durbin-Watson:                   1.908\n",
      "Prob(Omnibus):                  0.000   Jarque-Bera (JB):              870.172\n",
      "Skew:                          -1.444   Prob(JB):                    1.11e-189\n",
      "Kurtosis:                       5.296   Cond. No.                         2.32\n",
      "==============================================================================\n",
      "\n",
      "Warnings:\n",
      "[1] Standard Errors assume that the covariance matrix of the errors is correctly specified.\n"
     ]
    }
   ],
   "source": [
    "print(results.summary())"
   ]
  },
  {
   "cell_type": "code",
   "execution_count": 7,
   "metadata": {},
   "outputs": [
    {
     "data": {
      "text/plain": [
       "Intercept    83.075455\n",
       "mrate         5.861079\n",
       "dtype: float64"
      ]
     },
     "execution_count": 7,
     "metadata": {},
     "output_type": "execute_result"
    }
   ],
   "source": [
    "# item iii\n",
    "results.params"
   ]
  },
  {
   "cell_type": "code",
   "execution_count": 8,
   "metadata": {},
   "outputs": [
    {
     "data": {
      "text/plain": [
       "0    103.589233\n",
       "dtype: float64"
      ]
     },
     "execution_count": 8,
     "metadata": {},
     "output_type": "execute_result"
    }
   ],
   "source": [
    "# item iv\n",
    "results.predict(exog=dict(mrate=[3.5]))"
   ]
  },
  {
   "cell_type": "code",
   "execution_count": 9,
   "metadata": {},
   "outputs": [
    {
     "data": {
      "text/plain": [
       "0.058610791896674064"
      ]
     },
     "execution_count": 9,
     "metadata": {},
     "output_type": "execute_result"
    }
   ],
   "source": [
    "# item v - 5,8%\n",
    "v = results.params['mrate'] / 100\n",
    "v"
   ]
  },
  {
   "cell_type": "markdown",
   "metadata": {},
   "source": [
    "## C8"
   ]
  },
  {
   "cell_type": "code",
   "execution_count": 10,
   "metadata": {},
   "outputs": [
    {
     "name": "stdout",
     "output_type": "stream",
     "text": [
      "xi mean 4.77 xi std 2.81\n"
     ]
    },
    {
     "data": {
      "text/plain": [
       "<matplotlib.axes._subplots.AxesSubplot at 0x7fd89f30b470>"
      ]
     },
     "execution_count": 10,
     "metadata": {},
     "output_type": "execute_result"
    },
    {
     "data": {
      "image/png": "[encoded data removed]",
      "text/plain": [
       "<matplotlib.figure.Figure at 0x7fd89f2fee48>"
      ]
     },
     "metadata": {},
     "output_type": "display_data"
    }
   ],
   "source": [
    "import numpy as np\n",
    "# i \n",
    "xi = np.random.uniform(0, 10, 500)\n",
    "print('xi mean %.2f xi std %.2f' % (xi.mean(), xi.std()))\n",
    "sns.distplot(xi)"
   ]
  },
  {
   "cell_type": "code",
   "execution_count": 11,
   "metadata": {},
   "outputs": [
    {
     "name": "stdout",
     "output_type": "stream",
     "text": [
      "ui mean 0.56 ui std 5.64\n"
     ]
    },
    {
     "data": {
      "text/plain": [
       "<matplotlib.axes._subplots.AxesSubplot at 0x7fd89f34e860>"
      ]
     },
     "execution_count": 11,
     "metadata": {},
     "output_type": "execute_result"
    },
    {
     "data": {
      "image/png": "[encoded data removed]",
      "text/plain": [
       "<matplotlib.figure.Figure at 0x7fd89f31f588>"
      ]
     },
     "metadata": {},
     "output_type": "display_data"
    }
   ],
   "source": [
    "#ii\n",
    "ui = np.random.normal(0, 6, 500)\n",
    "print('ui mean %.2f ui std %.2f' % (ui.mean(), ui.std()))\n",
    "sns.distplot(ui)"
   ]
  },
  {
   "cell_type": "code",
   "execution_count": 12,
   "metadata": {},
   "outputs": [
    {
     "name": "stdout",
     "output_type": "stream",
     "text": [
      "yi mean 11.10 yi std 8.03\n"
     ]
    },
    {
     "data": {
      "text/plain": [
       "<matplotlib.axes._subplots.AxesSubplot at 0x7fd89f209dd8>"
      ]
     },
     "execution_count": 12,
     "metadata": {},
     "output_type": "execute_result"
    },
    {
     "data": {
      "image/png": "[encoded data removed]",
      "text/plain": [
       "<matplotlib.figure.Figure at 0x7fd89f27eba8>"
      ]
     },
     "metadata": {},
     "output_type": "display_data"
    }
   ],
   "source": [
    "#iii\n",
    "yi = np.array([1 + 2*x + u for x, u in zip(xi, ui)])\n",
    "print('yi mean %.2f yi std %.2f' % (yi.mean(), yi.std()))\n",
    "sns.distplot(yi)"
   ]
  },
  {
   "cell_type": "code",
   "execution_count": 13,
   "metadata": {},
   "outputs": [
    {
     "name": "stdout",
     "output_type": "stream",
     "text": [
      "[1.38361529 2.03596495]\n"
     ]
    }
   ],
   "source": [
    "X = sm.add_constant(xi)\n",
    "model = smf.OLS(yi, X)\n",
    "results = model.fit()\n",
    "p = results.params\n",
    "print(p)\n",
    "y_hat = results.predict(X)"
   ]
  },
  {
   "cell_type": "code",
   "execution_count": 14,
   "metadata": {},
   "outputs": [
    {
     "data": {
      "image/png": "[encoded data removed]",
      "text/plain": [
       "<matplotlib.figure.Figure at 0x7fd89f2724a8>"
      ]
     },
     "metadata": {},
     "output_type": "display_data"
    }
   ],
   "source": [
    "import matplotlib.pyplot as plt\n",
    "x = np.arange(-18, 18)\n",
    "plt.figure(figsize=(10, 6))\n",
    "plt.scatter(x=xi, y=yi, label='x')\n",
    "plt.scatter(x=ui, y=yi, label='u')\n",
    "plt.plot(xi, y_hat, label='y_hat', color='black', linewidth=5.0)\n",
    "l = plt.legend()\n"
   ]
  },
  {
   "cell_type": "code",
   "execution_count": 15,
   "metadata": {},
   "outputs": [
    {
     "name": "stdout",
     "output_type": "stream",
     "text": [
      "                            OLS Regression Results                            \n",
      "==============================================================================\n",
      "Dep. Variable:                      y   R-squared:                       0.507\n",
      "Model:                            OLS   Adj. R-squared:                  0.506\n",
      "Method:                 Least Squares   F-statistic:                     512.2\n",
      "Date:                Sat, 07 Jul 2018   Prob (F-statistic):           1.64e-78\n",
      "Time:                        20:38:52   Log-Likelihood:                -1574.1\n",
      "No. Observations:                 500   AIC:                             3152.\n",
      "Df Residuals:                     498   BIC:                             3161.\n",
      "Df Model:                           1                                         \n",
      "Covariance Type:            nonrobust                                         \n",
      "==============================================================================\n",
      "                 coef    std err          t      P>|t|      [0.025      0.975]\n",
      "------------------------------------------------------------------------------\n",
      "const          1.3836      0.498      2.779      0.006       0.405       2.362\n",
      "x1             2.0360      0.090     22.631      0.000       1.859       2.213\n",
      "==============================================================================\n",
      "Omnibus:                        0.628   Durbin-Watson:                   2.015\n",
      "Prob(Omnibus):                  0.730   Jarque-Bera (JB):                0.541\n",
      "Skew:                          -0.079   Prob(JB):                        0.763\n",
      "Kurtosis:                       3.034   Cond. No.                         11.2\n",
      "==============================================================================\n",
      "\n",
      "Warnings:\n",
      "[1] Standard Errors assume that the covariance matrix of the errors is correctly specified.\n"
     ]
    }
   ],
   "source": [
    "print(results.summary())"
   ]
  },
  {
   "cell_type": "code",
   "execution_count": 16,
   "metadata": {},
   "outputs": [
    {
     "name": "stdout",
     "output_type": "stream",
     "text": [
      "res mean -0.00 res std 5.64\n"
     ]
    },
    {
     "data": {
      "image/png": "[encoded data removed]",
      "text/plain": [
       "<matplotlib.figure.Figure at 0x7fd89f21f4e0>"
      ]
     },
     "metadata": {},
     "output_type": "display_data"
    }
   ],
   "source": [
    "# iv\n",
    "res = yi - y_hat\n",
    "print('res mean %.2f res std %.2f' % (res.mean(), res.std()))\n",
    "plt.hist(res, color='orange', bins=15)\n",
    "plt.title('Histograma dos resíduos da regressão')\n",
    "plt.show()\n"
   ]
  },
  {
   "cell_type": "code",
   "execution_count": 17,
   "metadata": {},
   "outputs": [
    {
     "data": {
      "image/png": "[encoded data removed]",
      "text/plain": [
       "<matplotlib.figure.Figure at 0x7fd89f11d5f8>"
      ]
     },
     "metadata": {},
     "output_type": "display_data"
    }
   ],
   "source": [
    "plt.scatter(y=res, x=y_hat, color='green', s=50, alpha=.6)\n",
    "plt.hlines(y=0, xmin=0, xmax=20, color='orange')\n",
    "plt.ylabel('$\\epsilon = y - \\hat{y}$ - Resíduos')\n",
    "plt.xlabel('$\\hat{y}$ ou $E(y)$ - Predito')\n",
    "plt.show()"
   ]
  },
  {
   "cell_type": "markdown",
   "metadata": {},
   "source": [
    "## C9"
   ]
  },
  {
   "cell_type": "code",
   "execution_count": 18,
   "metadata": {},
   "outputs": [
    {
     "data": {
      "text/html": [
       "<div>\n",
       "<style scoped>\n",
       "    .dataframe tbody tr th:only-of-type {\n",
       "        vertical-align: middle;\n",
       "    }\n",
       "\n",
       "    .dataframe tbody tr th {\n",
       "        vertical-align: top;\n",
       "    }\n",
       "\n",
       "    .dataframe thead th {\n",
       "        text-align: right;\n",
       "    }\n",
       "</style>\n",
       "<table border=\"1\" class=\"dataframe\">\n",
       "  <thead>\n",
       "    <tr style=\"text-align: right;\">\n",
       "      <th></th>\n",
       "      <th>arrests</th>\n",
       "      <th>countyid</th>\n",
       "      <th>density</th>\n",
       "      <th>popul</th>\n",
       "      <th>perc1019</th>\n",
       "      <th>perc2029</th>\n",
       "      <th>percblack</th>\n",
       "      <th>percmale</th>\n",
       "      <th>rpcincmaint</th>\n",
       "      <th>rpcpersinc</th>\n",
       "      <th>rpcunemins</th>\n",
       "      <th>year</th>\n",
       "      <th>murders</th>\n",
       "      <th>murdrate</th>\n",
       "      <th>arrestrate</th>\n",
       "      <th>statefips</th>\n",
       "      <th>countyfips</th>\n",
       "      <th>execs</th>\n",
       "      <th>lpopul</th>\n",
       "      <th>execrate</th>\n",
       "    </tr>\n",
       "  </thead>\n",
       "  <tbody>\n",
       "    <tr>\n",
       "      <th>0</th>\n",
       "      <td>2.0</td>\n",
       "      <td>1001</td>\n",
       "      <td>54.049999</td>\n",
       "      <td>32216.0</td>\n",
       "      <td>20.629999</td>\n",
       "      <td>15.28</td>\n",
       "      <td>22.330000</td>\n",
       "      <td>40.250000</td>\n",
       "      <td>167.669998</td>\n",
       "      <td>8780.799805</td>\n",
       "      <td>29.160000</td>\n",
       "      <td>1980</td>\n",
       "      <td>2</td>\n",
       "      <td>0.620810</td>\n",
       "      <td>0.620809</td>\n",
       "      <td>1</td>\n",
       "      <td>1</td>\n",
       "      <td>0</td>\n",
       "      <td>10.380219</td>\n",
       "      <td>0.0</td>\n",
       "    </tr>\n",
       "    <tr>\n",
       "      <th>1</th>\n",
       "      <td>3.0</td>\n",
       "      <td>1001</td>\n",
       "      <td>53.660000</td>\n",
       "      <td>31984.0</td>\n",
       "      <td>20.190001</td>\n",
       "      <td>15.55</td>\n",
       "      <td>22.070000</td>\n",
       "      <td>40.360001</td>\n",
       "      <td>167.990005</td>\n",
       "      <td>8232.799805</td>\n",
       "      <td>43.919998</td>\n",
       "      <td>1981</td>\n",
       "      <td>1</td>\n",
       "      <td>0.312656</td>\n",
       "      <td>0.937969</td>\n",
       "      <td>1</td>\n",
       "      <td>1</td>\n",
       "      <td>0</td>\n",
       "      <td>10.372991</td>\n",
       "      <td>0.0</td>\n",
       "    </tr>\n",
       "    <tr>\n",
       "      <th>2</th>\n",
       "      <td>2.0</td>\n",
       "      <td>1001</td>\n",
       "      <td>53.750000</td>\n",
       "      <td>32036.0</td>\n",
       "      <td>19.660000</td>\n",
       "      <td>15.73</td>\n",
       "      <td>21.799999</td>\n",
       "      <td>40.419998</td>\n",
       "      <td>166.630005</td>\n",
       "      <td>8327.610352</td>\n",
       "      <td>71.410004</td>\n",
       "      <td>1982</td>\n",
       "      <td>3</td>\n",
       "      <td>0.936446</td>\n",
       "      <td>0.624298</td>\n",
       "      <td>1</td>\n",
       "      <td>1</td>\n",
       "      <td>0</td>\n",
       "      <td>10.374616</td>\n",
       "      <td>0.0</td>\n",
       "    </tr>\n",
       "    <tr>\n",
       "      <th>3</th>\n",
       "      <td>7.0</td>\n",
       "      <td>1001</td>\n",
       "      <td>53.779999</td>\n",
       "      <td>32056.0</td>\n",
       "      <td>19.100000</td>\n",
       "      <td>15.88</td>\n",
       "      <td>21.530001</td>\n",
       "      <td>40.470001</td>\n",
       "      <td>176.529999</td>\n",
       "      <td>8545.549805</td>\n",
       "      <td>72.220001</td>\n",
       "      <td>1983</td>\n",
       "      <td>7</td>\n",
       "      <td>2.183679</td>\n",
       "      <td>2.183679</td>\n",
       "      <td>1</td>\n",
       "      <td>1</td>\n",
       "      <td>0</td>\n",
       "      <td>10.375239</td>\n",
       "      <td>0.0</td>\n",
       "    </tr>\n",
       "    <tr>\n",
       "      <th>4</th>\n",
       "      <td>3.0</td>\n",
       "      <td>1001</td>\n",
       "      <td>53.910000</td>\n",
       "      <td>32128.0</td>\n",
       "      <td>18.539999</td>\n",
       "      <td>15.92</td>\n",
       "      <td>21.260000</td>\n",
       "      <td>40.509998</td>\n",
       "      <td>166.250000</td>\n",
       "      <td>8965.160156</td>\n",
       "      <td>40.360001</td>\n",
       "      <td>1984</td>\n",
       "      <td>2</td>\n",
       "      <td>0.622510</td>\n",
       "      <td>0.933765</td>\n",
       "      <td>1</td>\n",
       "      <td>1</td>\n",
       "      <td>0</td>\n",
       "      <td>10.377483</td>\n",
       "      <td>0.0</td>\n",
       "    </tr>\n",
       "  </tbody>\n",
       "</table>\n",
       "</div>"
      ],
      "text/plain": [
       "   arrests  countyid    density    popul   perc1019  perc2029  percblack  \\\n",
       "0      2.0      1001  54.049999  32216.0  20.629999     15.28  22.330000   \n",
       "1      3.0      1001  53.660000  31984.0  20.190001     15.55  22.070000   \n",
       "2      2.0      1001  53.750000  32036.0  19.660000     15.73  21.799999   \n",
       "3      7.0      1001  53.779999  32056.0  19.100000     15.88  21.530001   \n",
       "4      3.0      1001  53.910000  32128.0  18.539999     15.92  21.260000   \n",
       "\n",
       "    percmale  rpcincmaint   rpcpersinc  rpcunemins  year  murders  murdrate  \\\n",
       "0  40.250000   167.669998  8780.799805   29.160000  1980        2  0.620810   \n",
       "1  40.360001   167.990005  8232.799805   43.919998  1981        1  0.312656   \n",
       "2  40.419998   166.630005  8327.610352   71.410004  1982        3  0.936446   \n",
       "3  40.470001   176.529999  8545.549805   72.220001  1983        7  2.183679   \n",
       "4  40.509998   166.250000  8965.160156   40.360001  1984        2  0.622510   \n",
       "\n",
       "   arrestrate  statefips  countyfips  execs     lpopul  execrate  \n",
       "0    0.620809          1           1      0  10.380219       0.0  \n",
       "1    0.937969          1           1      0  10.372991       0.0  \n",
       "2    0.624298          1           1      0  10.374616       0.0  \n",
       "3    2.183679          1           1      0  10.375239       0.0  \n",
       "4    0.933765          1           1      0  10.377483       0.0  "
      ]
     },
     "execution_count": 18,
     "metadata": {},
     "output_type": "execute_result"
    }
   ],
   "source": [
    "filename = os.path.join(caminho, 'countymurders.dta')\n",
    "county_murders = pd.read_stata(filename, preserve_dtypes=False)\n",
    "county_murders.head()"
   ]
  },
  {
   "cell_type": "code",
   "execution_count": 19,
   "metadata": {},
   "outputs": [
    {
     "data": {
      "text/plain": [
       "count    37349.000000\n",
       "mean         7.286915\n",
       "std         47.217586\n",
       "min          0.000000\n",
       "25%          0.000000\n",
       "50%          1.000000\n",
       "75%          3.000000\n",
       "max       1944.000000\n",
       "Name: murders, dtype: float64"
      ]
     },
     "execution_count": 19,
     "metadata": {},
     "output_type": "execute_result"
    }
   ],
   "source": [
    "# i\n",
    "county_murders['murders'].describe()"
   ]
  },
  {
   "cell_type": "code",
   "execution_count": 20,
   "metadata": {},
   "outputs": [
    {
     "name": "stdout",
     "output_type": "stream",
     "text": [
      "1051 condados com zero assassinatos\n",
      "1146 condados com mais de um assassinato\n",
      "1403 maior numero de assassinatos\n"
     ]
    }
   ],
   "source": [
    "cm1996 = county_murders[county_murders['year'] == 1996]\n",
    "county_zero = cm1996[cm1996['murders'] == 0].groupby('countyid')\n",
    "county_nozero = cm1996[cm1996['murders'] > 0].groupby('countyid')\n",
    "print('%d condados com zero assassinatos\\n' % len(county_zero) +\n",
    "      '%d condados com mais de um assassinato\\n' % len(county_nozero) +\n",
    "      '%d maior numero de assassinatos' % cm1996['murders'].max()\n",
    "     )"
   ]
  },
  {
   "cell_type": "code",
   "execution_count": 21,
   "metadata": {},
   "outputs": [
    {
     "name": "stdout",
     "output_type": "stream",
     "text": [
      "                            OLS Regression Results                            \n",
      "==============================================================================\n",
      "Dep. Variable:                murders   R-squared:                       0.044\n",
      "Model:                            OLS   Adj. R-squared:                  0.043\n",
      "Method:                 Least Squares   F-statistic:                     100.8\n",
      "Date:                Sat, 07 Jul 2018   Prob (F-statistic):           3.25e-23\n",
      "Time:                        20:38:53   Log-Likelihood:                -11159.\n",
      "No. Observations:                2197   AIC:                         2.232e+04\n",
      "Df Residuals:                    2195   BIC:                         2.233e+04\n",
      "Df Model:                           1                                         \n",
      "Covariance Type:            nonrobust                                         \n",
      "==============================================================================\n",
      "                 coef    std err          t      P>|t|      [0.025      0.975]\n",
      "------------------------------------------------------------------------------\n",
      "Intercept      5.4572      0.835      6.537      0.000       3.820       7.094\n",
      "execs         58.5555      5.833     10.038      0.000      47.116      69.995\n",
      "==============================================================================\n",
      "Omnibus:                     5053.183   Durbin-Watson:                   1.960\n",
      "Prob(Omnibus):                  0.000   Jarque-Bera (JB):         40659859.297\n",
      "Skew:                          21.524   Prob(JB):                         0.00\n",
      "Kurtosis:                     668.067   Cond. No.                         7.03\n",
      "==============================================================================\n",
      "\n",
      "Warnings:\n",
      "[1] Standard Errors assume that the covariance matrix of the errors is correctly specified.\n"
     ]
    }
   ],
   "source": [
    "murder_model = smf.ols(formula='murders ~ execs', data=cm1996)\n",
    "murder_reg = murder_model.fit()\n",
    "print(murder_reg.summary())\n",
    "y_hat_murder = murder_reg.predict()"
   ]
  },
  {
   "cell_type": "code",
   "execution_count": 22,
   "metadata": {},
   "outputs": [
    {
     "data": {
      "image/png": "[encoded data removed]",
      "text/plain": [
       "<matplotlib.figure.Figure at 0x7fd89eaf8cf8>"
      ]
     },
     "metadata": {},
     "output_type": "display_data"
    }
   ],
   "source": [
    "x = np.arange(0, cm1996['execs'].max() + 1)\n",
    "y_hat_ = murder_reg.predict(exog={'execs':x})\n",
    "plt.figure(figsize=(10, 6))\n",
    "plt.plot(x, y_hat_, label='y_hat', color='black', linewidth=5.0)\n",
    "plt.scatter(x=cm1996['execs'], y=cm1996['murders'], label='murder x execs 1996')\n",
    "l = plt.legend()"
   ]
  },
  {
   "cell_type": "code",
   "execution_count": 23,
   "metadata": {},
   "outputs": [
    {
     "name": "stdout",
     "output_type": "stream",
     "text": [
      "iv - O resultado é igual ao intercepto 5.46\n"
     ]
    }
   ],
   "source": [
    "# iv\n",
    "print('iv - O resultado é igual ao intercepto %.2f' % murder_reg.params[0])"
   ]
  },
  {
   "cell_type": "markdown",
   "metadata": {},
   "source": [
    "# C10"
   ]
  },
  {
   "cell_type": "code",
   "execution_count": 25,
   "metadata": {},
   "outputs": [
    {
     "data": {
      "text/html": [
       "<div>\n",
       "<style scoped>\n",
       "    .dataframe tbody tr th:only-of-type {\n",
       "        vertical-align: middle;\n",
       "    }\n",
       "\n",
       "    .dataframe tbody tr th {\n",
       "        vertical-align: top;\n",
       "    }\n",
       "\n",
       "    .dataframe thead th {\n",
       "        text-align: right;\n",
       "    }\n",
       "</style>\n",
       "<table border=\"1\" class=\"dataframe\">\n",
       "  <thead>\n",
       "    <tr style=\"text-align: right;\">\n",
       "      <th></th>\n",
       "      <th>id</th>\n",
       "      <th>read12</th>\n",
       "      <th>math12</th>\n",
       "      <th>female</th>\n",
       "      <th>asian</th>\n",
       "      <th>hispan</th>\n",
       "      <th>black</th>\n",
       "      <th>motheduc</th>\n",
       "      <th>fatheduc</th>\n",
       "      <th>lfaminc</th>\n",
       "      <th>hsgrad</th>\n",
       "      <th>cathhs</th>\n",
       "      <th>parcath</th>\n",
       "    </tr>\n",
       "  </thead>\n",
       "  <tbody>\n",
       "    <tr>\n",
       "      <th>0</th>\n",
       "      <td>124902.0</td>\n",
       "      <td>61.410000</td>\n",
       "      <td>49.770000</td>\n",
       "      <td>0</td>\n",
       "      <td>0</td>\n",
       "      <td>0</td>\n",
       "      <td>0</td>\n",
       "      <td>14.0</td>\n",
       "      <td>12.0</td>\n",
       "      <td>10.308952</td>\n",
       "      <td>1.0</td>\n",
       "      <td>0</td>\n",
       "      <td>1</td>\n",
       "    </tr>\n",
       "    <tr>\n",
       "      <th>1</th>\n",
       "      <td>124915.0</td>\n",
       "      <td>58.340000</td>\n",
       "      <td>59.840000</td>\n",
       "      <td>0</td>\n",
       "      <td>0</td>\n",
       "      <td>0</td>\n",
       "      <td>0</td>\n",
       "      <td>14.0</td>\n",
       "      <td>14.0</td>\n",
       "      <td>10.308952</td>\n",
       "      <td>1.0</td>\n",
       "      <td>0</td>\n",
       "      <td>1</td>\n",
       "    </tr>\n",
       "    <tr>\n",
       "      <th>2</th>\n",
       "      <td>124916.0</td>\n",
       "      <td>59.330002</td>\n",
       "      <td>50.380001</td>\n",
       "      <td>1</td>\n",
       "      <td>0</td>\n",
       "      <td>0</td>\n",
       "      <td>0</td>\n",
       "      <td>14.0</td>\n",
       "      <td>11.0</td>\n",
       "      <td>10.308952</td>\n",
       "      <td>1.0</td>\n",
       "      <td>0</td>\n",
       "      <td>1</td>\n",
       "    </tr>\n",
       "    <tr>\n",
       "      <th>3</th>\n",
       "      <td>124932.0</td>\n",
       "      <td>49.590000</td>\n",
       "      <td>45.029999</td>\n",
       "      <td>1</td>\n",
       "      <td>0</td>\n",
       "      <td>0</td>\n",
       "      <td>0</td>\n",
       "      <td>12.0</td>\n",
       "      <td>14.0</td>\n",
       "      <td>10.308952</td>\n",
       "      <td>1.0</td>\n",
       "      <td>0</td>\n",
       "      <td>1</td>\n",
       "    </tr>\n",
       "    <tr>\n",
       "      <th>4</th>\n",
       "      <td>124944.0</td>\n",
       "      <td>57.619999</td>\n",
       "      <td>54.259998</td>\n",
       "      <td>1</td>\n",
       "      <td>0</td>\n",
       "      <td>0</td>\n",
       "      <td>0</td>\n",
       "      <td>12.0</td>\n",
       "      <td>12.0</td>\n",
       "      <td>10.657259</td>\n",
       "      <td>1.0</td>\n",
       "      <td>0</td>\n",
       "      <td>1</td>\n",
       "    </tr>\n",
       "  </tbody>\n",
       "</table>\n",
       "</div>"
      ],
      "text/plain": [
       "         id     read12     math12  female  asian  hispan  black  motheduc  \\\n",
       "0  124902.0  61.410000  49.770000       0      0       0      0      14.0   \n",
       "1  124915.0  58.340000  59.840000       0      0       0      0      14.0   \n",
       "2  124916.0  59.330002  50.380001       1      0       0      0      14.0   \n",
       "3  124932.0  49.590000  45.029999       1      0       0      0      12.0   \n",
       "4  124944.0  57.619999  54.259998       1      0       0      0      12.0   \n",
       "\n",
       "   fatheduc    lfaminc  hsgrad  cathhs  parcath  \n",
       "0      12.0  10.308952     1.0       0        1  \n",
       "1      14.0  10.308952     1.0       0        1  \n",
       "2      11.0  10.308952     1.0       0        1  \n",
       "3      14.0  10.308952     1.0       0        1  \n",
       "4      12.0  10.657259     1.0       0        1  "
      ]
     },
     "execution_count": 25,
     "metadata": {},
     "output_type": "execute_result"
    }
   ],
   "source": [
    "filename = os.path.join(caminho, 'catholic.dta')\n",
    "catholic = pd.read_stata(filename, preserve_dtypes=False)\n",
    "catholic.head()"
   ]
  },
  {
   "cell_type": "code",
   "execution_count": 80,
   "metadata": {},
   "outputs": [
    {
     "data": {
      "text/html": [
       "<div>\n",
       "<style scoped>\n",
       "    .dataframe tbody tr th:only-of-type {\n",
       "        vertical-align: middle;\n",
       "    }\n",
       "\n",
       "    .dataframe tbody tr th {\n",
       "        vertical-align: top;\n",
       "    }\n",
       "\n",
       "    .dataframe thead th {\n",
       "        text-align: right;\n",
       "    }\n",
       "</style>\n",
       "<table border=\"1\" class=\"dataframe\">\n",
       "  <thead>\n",
       "    <tr style=\"text-align: right;\">\n",
       "      <th></th>\n",
       "      <th>id</th>\n",
       "      <th>read12</th>\n",
       "      <th>math12</th>\n",
       "      <th>female</th>\n",
       "      <th>asian</th>\n",
       "      <th>hispan</th>\n",
       "      <th>black</th>\n",
       "      <th>motheduc</th>\n",
       "      <th>fatheduc</th>\n",
       "      <th>lfaminc</th>\n",
       "      <th>hsgrad</th>\n",
       "      <th>cathhs</th>\n",
       "      <th>parcath</th>\n",
       "    </tr>\n",
       "  </thead>\n",
       "  <tbody>\n",
       "    <tr>\n",
       "      <th>count</th>\n",
       "      <td>7.430000e+03</td>\n",
       "      <td>7430.000000</td>\n",
       "      <td>7430.000000</td>\n",
       "      <td>7430.000000</td>\n",
       "      <td>7430.000000</td>\n",
       "      <td>7430.000000</td>\n",
       "      <td>7430.000000</td>\n",
       "      <td>7430.000000</td>\n",
       "      <td>7430.000000</td>\n",
       "      <td>7430.000000</td>\n",
       "      <td>5970.000000</td>\n",
       "      <td>7430.000000</td>\n",
       "      <td>7430.000000</td>\n",
       "    </tr>\n",
       "    <tr>\n",
       "      <th>mean</th>\n",
       "      <td>4.589838e+06</td>\n",
       "      <td>51.772402</td>\n",
       "      <td>52.133623</td>\n",
       "      <td>0.517362</td>\n",
       "      <td>0.051682</td>\n",
       "      <td>0.103499</td>\n",
       "      <td>0.070659</td>\n",
       "      <td>13.356864</td>\n",
       "      <td>13.674159</td>\n",
       "      <td>10.353324</td>\n",
       "      <td>0.930318</td>\n",
       "      <td>0.060834</td>\n",
       "      <td>0.345895</td>\n",
       "    </tr>\n",
       "    <tr>\n",
       "      <th>std</th>\n",
       "      <td>2.744467e+06</td>\n",
       "      <td>9.407761</td>\n",
       "      <td>9.459117</td>\n",
       "      <td>0.499732</td>\n",
       "      <td>0.221400</td>\n",
       "      <td>0.304630</td>\n",
       "      <td>0.256272</td>\n",
       "      <td>2.005982</td>\n",
       "      <td>2.267797</td>\n",
       "      <td>0.794519</td>\n",
       "      <td>0.254631</td>\n",
       "      <td>0.239042</td>\n",
       "      <td>0.475691</td>\n",
       "    </tr>\n",
       "    <tr>\n",
       "      <th>min</th>\n",
       "      <td>1.249020e+05</td>\n",
       "      <td>29.150000</td>\n",
       "      <td>29.500000</td>\n",
       "      <td>0.000000</td>\n",
       "      <td>0.000000</td>\n",
       "      <td>0.000000</td>\n",
       "      <td>0.000000</td>\n",
       "      <td>8.000000</td>\n",
       "      <td>8.000000</td>\n",
       "      <td>6.214608</td>\n",
       "      <td>0.000000</td>\n",
       "      <td>0.000000</td>\n",
       "      <td>0.000000</td>\n",
       "    </tr>\n",
       "    <tr>\n",
       "      <th>25%</th>\n",
       "      <td>2.424049e+06</td>\n",
       "      <td>44.525001</td>\n",
       "      <td>45.020000</td>\n",
       "      <td>0.000000</td>\n",
       "      <td>0.000000</td>\n",
       "      <td>0.000000</td>\n",
       "      <td>0.000000</td>\n",
       "      <td>12.000000</td>\n",
       "      <td>12.000000</td>\n",
       "      <td>10.021271</td>\n",
       "      <td>1.000000</td>\n",
       "      <td>0.000000</td>\n",
       "      <td>0.000000</td>\n",
       "    </tr>\n",
       "    <tr>\n",
       "      <th>50%</th>\n",
       "      <td>4.592442e+06</td>\n",
       "      <td>53.080002</td>\n",
       "      <td>52.529999</td>\n",
       "      <td>1.000000</td>\n",
       "      <td>0.000000</td>\n",
       "      <td>0.000000</td>\n",
       "      <td>0.000000</td>\n",
       "      <td>14.000000</td>\n",
       "      <td>14.000000</td>\n",
       "      <td>10.308952</td>\n",
       "      <td>1.000000</td>\n",
       "      <td>0.000000</td>\n",
       "      <td>0.000000</td>\n",
       "    </tr>\n",
       "    <tr>\n",
       "      <th>75%</th>\n",
       "      <td>7.241106e+06</td>\n",
       "      <td>59.470001</td>\n",
       "      <td>59.857500</td>\n",
       "      <td>1.000000</td>\n",
       "      <td>0.000000</td>\n",
       "      <td>0.000000</td>\n",
       "      <td>0.000000</td>\n",
       "      <td>14.000000</td>\n",
       "      <td>16.000000</td>\n",
       "      <td>10.657259</td>\n",
       "      <td>1.000000</td>\n",
       "      <td>0.000000</td>\n",
       "      <td>1.000000</td>\n",
       "    </tr>\n",
       "    <tr>\n",
       "      <th>max</th>\n",
       "      <td>7.979086e+06</td>\n",
       "      <td>68.089996</td>\n",
       "      <td>71.370003</td>\n",
       "      <td>1.000000</td>\n",
       "      <td>1.000000</td>\n",
       "      <td>1.000000</td>\n",
       "      <td>1.000000</td>\n",
       "      <td>18.000000</td>\n",
       "      <td>18.000000</td>\n",
       "      <td>12.345835</td>\n",
       "      <td>1.000000</td>\n",
       "      <td>1.000000</td>\n",
       "      <td>1.000000</td>\n",
       "    </tr>\n",
       "  </tbody>\n",
       "</table>\n",
       "</div>"
      ],
      "text/plain": [
       "                 id       read12       math12       female        asian  \\\n",
       "count  7.430000e+03  7430.000000  7430.000000  7430.000000  7430.000000   \n",
       "mean   4.589838e+06    51.772402    52.133623     0.517362     0.051682   \n",
       "std    2.744467e+06     9.407761     9.459117     0.499732     0.221400   \n",
       "min    1.249020e+05    29.150000    29.500000     0.000000     0.000000   \n",
       "25%    2.424049e+06    44.525001    45.020000     0.000000     0.000000   \n",
       "50%    4.592442e+06    53.080002    52.529999     1.000000     0.000000   \n",
       "75%    7.241106e+06    59.470001    59.857500     1.000000     0.000000   \n",
       "max    7.979086e+06    68.089996    71.370003     1.000000     1.000000   \n",
       "\n",
       "            hispan        black     motheduc     fatheduc      lfaminc  \\\n",
       "count  7430.000000  7430.000000  7430.000000  7430.000000  7430.000000   \n",
       "mean      0.103499     0.070659    13.356864    13.674159    10.353324   \n",
       "std       0.304630     0.256272     2.005982     2.267797     0.794519   \n",
       "min       0.000000     0.000000     8.000000     8.000000     6.214608   \n",
       "25%       0.000000     0.000000    12.000000    12.000000    10.021271   \n",
       "50%       0.000000     0.000000    14.000000    14.000000    10.308952   \n",
       "75%       0.000000     0.000000    14.000000    16.000000    10.657259   \n",
       "max       1.000000     1.000000    18.000000    18.000000    12.345835   \n",
       "\n",
       "            hsgrad       cathhs      parcath  \n",
       "count  5970.000000  7430.000000  7430.000000  \n",
       "mean      0.930318     0.060834     0.345895  \n",
       "std       0.254631     0.239042     0.475691  \n",
       "min       0.000000     0.000000     0.000000  \n",
       "25%       1.000000     0.000000     0.000000  \n",
       "50%       1.000000     0.000000     0.000000  \n",
       "75%       1.000000     0.000000     1.000000  \n",
       "max       1.000000     1.000000     1.000000  "
      ]
     },
     "execution_count": 80,
     "metadata": {},
     "output_type": "execute_result"
    }
   ],
   "source": [
    "catholic.describe()"
   ]
  },
  {
   "cell_type": "code",
   "execution_count": 39,
   "metadata": {},
   "outputs": [
    {
     "data": {
      "text/plain": [
       "array([[1.        , 0.71041336],\n",
       "       [0.71041336, 1.        ]])"
      ]
     },
     "execution_count": 39,
     "metadata": {},
     "output_type": "execute_result"
    },
    {
     "data": {
      "image/png": "[encoded data removed]",
      "text/plain": [
       "<matplotlib.figure.Figure at 0x7fd89e7de208>"
      ]
     },
     "metadata": {},
     "output_type": "display_data"
    }
   ],
   "source": [
    "plt.scatter(catholic['math12'], catholic['read12'])\n",
    "np.corrcoef(catholic['math12'], catholic['read12'])"
   ]
  },
  {
   "cell_type": "code",
   "execution_count": 81,
   "metadata": {},
   "outputs": [
    {
     "name": "stdout",
     "output_type": "stream",
     "text": [
      "RESPOSTAS i\n",
      "número de estudantes na amostra 7430\n",
      "math12 mean 52.13\n",
      "math12 std 9.46\n",
      "read12 mean 51.77\n",
      "read12 std 9.41\n"
     ]
    }
   ],
   "source": [
    "# i\n",
    "print('RESPOSTAS i')\n",
    "print(f'número de estudantes na amostra {len(catholic)}')\n",
    "print(f'math12 mean {catholic[\"math12\"].mean():.2f}')\n",
    "print(f'math12 std {catholic[\"math12\"].std():.2f}')\n",
    "print(f'read12 mean {catholic[\"read12\"].mean():.2f}')\n",
    "print(f'read12 std {catholic[\"read12\"].std():.2f}')"
   ]
  },
  {
   "cell_type": "code",
   "execution_count": 82,
   "metadata": {},
   "outputs": [
    {
     "name": "stdout",
     "output_type": "stream",
     "text": [
      "Intercept    15.153038\n",
      "read12        0.714291\n",
      "dtype: float64\n"
     ]
    }
   ],
   "source": [
    "# ii\n",
    "x = catholic['read12']\n",
    "y = catholic['math12']\n",
    "y_bar = y.mean()\n",
    "cmodel =smf.ols(formula='math12 ~ read12', data=catholic)\n",
    "creg = cmodel.fit()\n",
    "y_hat = creg.predict()\n",
    "print(creg.params)"
   ]
  },
  {
   "cell_type": "code",
   "execution_count": 84,
   "metadata": {},
   "outputs": [
    {
     "name": "stdout",
     "output_type": "stream",
     "text": [
      "664709.0434328265\n",
      "329238.9323502146\n",
      "0.5046871475527224\n",
      "329238.9323502146\n"
     ]
    }
   ],
   "source": [
    "sst = np.sum((y - y_bar ) ** 2) # Soma total dos quadrados\n",
    "print(sqt)\n",
    "srt = np.sum((y_hat - y) ** 2) # Soma dos resíduos\n",
    "print(srt)\n",
    "r_squared = 1 - srt/sst\n",
    "print(r_squared)\n",
    "b0 = creg.params['Intercept']\n",
    "b1 = creg.params['read12']\n",
    "srt_manual = np.sum((y - (b0 + b1 * x)) ** 2)\n",
    "print(srt_manual)"
   ]
  },
  {
   "cell_type": "markdown",
   "metadata": {},
   "source": [
    "### Resp ii"
   ]
  },
  {
   "cell_type": "code",
   "execution_count": 83,
   "metadata": {},
   "outputs": [
    {
     "name": "stdout",
     "output_type": "stream",
     "text": [
      "math2  = 15.15 + 0.71xread13, n=7430, r²=0.5047\n"
     ]
    }
   ],
   "source": [
    "print(f'math2  = {b0:.2f} + {b1:.2f}xread13, n={len(catholic)}, r²={r_squared:.4f}' )"
   ]
  },
  {
   "cell_type": "code",
   "execution_count": 74,
   "metadata": {},
   "outputs": [
    {
     "name": "stdout",
     "output_type": "stream",
     "text": [
      "                            OLS Regression Results                            \n",
      "==============================================================================\n",
      "Dep. Variable:                 math12   R-squared:                       0.505\n",
      "Model:                            OLS   Adj. R-squared:                  0.505\n",
      "Method:                 Least Squares   F-statistic:                     7569.\n",
      "Date:                Sat, 07 Jul 2018   Prob (F-statistic):               0.00\n",
      "Time:                        21:14:04   Log-Likelihood:                -24627.\n",
      "No. Observations:                7430   AIC:                         4.926e+04\n",
      "Df Residuals:                    7428   BIC:                         4.927e+04\n",
      "Df Model:                           1                                         \n",
      "Covariance Type:            nonrobust                                         \n",
      "==============================================================================\n",
      "                 coef    std err          t      P>|t|      [0.025      0.975]\n",
      "------------------------------------------------------------------------------\n",
      "Intercept     15.1530      0.432     35.074      0.000      14.306      16.000\n",
      "read12         0.7143      0.008     86.998      0.000       0.698       0.730\n",
      "==============================================================================\n",
      "Omnibus:                        7.488   Durbin-Watson:                   1.881\n",
      "Prob(Omnibus):                  0.024   Jarque-Bera (JB):                7.481\n",
      "Skew:                          -0.069   Prob(JB):                       0.0237\n",
      "Kurtosis:                       2.930   Cond. No.                         294.\n",
      "==============================================================================\n",
      "\n",
      "Warnings:\n",
      "[1] Standard Errors assume that the covariance matrix of the errors is correctly specified.\n"
     ]
    }
   ],
   "source": [
    "print(creg.summary())"
   ]
  },
  {
   "cell_type": "markdown",
   "metadata": {},
   "source": [
    "### Resposta iii, iv e v:\n",
    "O intercepto não tem significado prático, provavelmente representa uma aproximação das notas mínimas da amostra.\n",
    "Conforme demonstrado acima, a correlação entre math12 e read12 é alta, portanto fica-se num dilema \"ovo ou galinha\". Não há causalidade real, mas simplesmente correlação. Conforme demonstrado abaixo, a regressão \"contrária\" dá resultado muito parecido, quase idêntico."
   ]
  },
  {
   "cell_type": "code",
   "execution_count": 87,
   "metadata": {},
   "outputs": [
    {
     "name": "stdout",
     "output_type": "stream",
     "text": [
      "                            OLS Regression Results                            \n",
      "==============================================================================\n",
      "Dep. Variable:                 read12   R-squared:                       0.505\n",
      "Model:                            OLS   Adj. R-squared:                  0.505\n",
      "Method:                 Least Squares   F-statistic:                     7569.\n",
      "Date:                Sat, 07 Jul 2018   Prob (F-statistic):               0.00\n",
      "Time:                        21:26:48   Log-Likelihood:                -24587.\n",
      "No. Observations:                7430   AIC:                         4.918e+04\n",
      "Df Residuals:                    7428   BIC:                         4.919e+04\n",
      "Df Model:                           1                                         \n",
      "Covariance Type:            nonrobust                                         \n",
      "==============================================================================\n",
      "                 coef    std err          t      P>|t|      [0.025      0.975]\n",
      "------------------------------------------------------------------------------\n",
      "Intercept     14.9371      0.430     34.712      0.000      14.094      15.781\n",
      "math12         0.7066      0.008     86.998      0.000       0.691       0.722\n",
      "==============================================================================\n",
      "Omnibus:                      109.175   Durbin-Watson:                   1.934\n",
      "Prob(Omnibus):                  0.000   Jarque-Bera (JB):              114.950\n",
      "Skew:                          -0.286   Prob(JB):                     1.09e-25\n",
      "Kurtosis:                       3.209   Cond. No.                         297.\n",
      "==============================================================================\n",
      "\n",
      "Warnings:\n",
      "[1] Standard Errors assume that the covariance matrix of the errors is correctly specified.\n"
     ]
    }
   ],
   "source": [
    "cmodel =smf.ols(formula='read12 ~ math12', data=catholic)\n",
    "creg = cmodel.fit()\n",
    "print(creg.summary())"
   ]
  },
  {
   "cell_type": "code",
   "execution_count": null,
   "metadata": {},
   "outputs": [],
   "source": []
  },
  {
   "cell_type": "code",
   "execution_count": null,
   "metadata": {},
   "outputs": [],
   "source": []
  }
 ],
 "metadata": {
  "kernelspec": {
   "display_name": "Python 3",
   "language": "python",
   "name": "python3"
  },
  "language_info": {
   "codemirror_mode": {
    "name": "ipython",
    "version": 3
   },
   "file_extension": ".py",
   "mimetype": "text/x-python",
   "name": "python",
   "nbconvert_exporter": "python",
   "pygments_lexer": "ipython3",
   "version": "3.6.4"
  }
 },
 "nbformat": 4,
 "nbformat_minor": 2
}
