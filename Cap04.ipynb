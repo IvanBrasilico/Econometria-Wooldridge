{
 "cells": [
  {
   "cell_type": "code",
   "execution_count": 1,
   "metadata": {},
   "outputs": [],
   "source": [
    "import os\n",
    "import pandas as pd\n",
    "import numpy as np\n",
    "import statsmodels.api as sm\n",
    "import statsmodels.formula.api as smf\n",
    "caminho = os.path.join('..', 'dados', 'Data Sets- STATA')"
   ]
  },
  {
   "cell_type": "markdown",
   "metadata": {},
   "source": [
    "## C1"
   ]
  },
  {
   "cell_type": "code",
   "execution_count": 2,
   "metadata": {},
   "outputs": [
    {
     "data": {
      "text/html": [
       "<div>\n",
       "<style scoped>\n",
       "    .dataframe tbody tr th:only-of-type {\n",
       "        vertical-align: middle;\n",
       "    }\n",
       "\n",
       "    .dataframe tbody tr th {\n",
       "        vertical-align: top;\n",
       "    }\n",
       "\n",
       "    .dataframe thead th {\n",
       "        text-align: right;\n",
       "    }\n",
       "</style>\n",
       "<table border=\"1\" class=\"dataframe\">\n",
       "  <thead>\n",
       "    <tr style=\"text-align: right;\">\n",
       "      <th></th>\n",
       "      <th>state</th>\n",
       "      <th>district</th>\n",
       "      <th>democA</th>\n",
       "      <th>voteA</th>\n",
       "      <th>expendA</th>\n",
       "      <th>expendB</th>\n",
       "      <th>prtystrA</th>\n",
       "      <th>lexpendA</th>\n",
       "      <th>lexpendB</th>\n",
       "      <th>shareA</th>\n",
       "    </tr>\n",
       "  </thead>\n",
       "  <tbody>\n",
       "    <tr>\n",
       "      <th>0</th>\n",
       "      <td>AL</td>\n",
       "      <td>7</td>\n",
       "      <td>1</td>\n",
       "      <td>68</td>\n",
       "      <td>328.295990</td>\n",
       "      <td>8.737000</td>\n",
       "      <td>41</td>\n",
       "      <td>5.793916</td>\n",
       "      <td>2.167567</td>\n",
       "      <td>97.407669</td>\n",
       "    </tr>\n",
       "    <tr>\n",
       "      <th>1</th>\n",
       "      <td>AK</td>\n",
       "      <td>1</td>\n",
       "      <td>0</td>\n",
       "      <td>62</td>\n",
       "      <td>626.377014</td>\n",
       "      <td>402.476990</td>\n",
       "      <td>60</td>\n",
       "      <td>6.439952</td>\n",
       "      <td>5.997638</td>\n",
       "      <td>60.881039</td>\n",
       "    </tr>\n",
       "    <tr>\n",
       "      <th>2</th>\n",
       "      <td>AZ</td>\n",
       "      <td>2</td>\n",
       "      <td>1</td>\n",
       "      <td>73</td>\n",
       "      <td>99.607002</td>\n",
       "      <td>3.065000</td>\n",
       "      <td>55</td>\n",
       "      <td>4.601233</td>\n",
       "      <td>1.120048</td>\n",
       "      <td>97.014763</td>\n",
       "    </tr>\n",
       "    <tr>\n",
       "      <th>3</th>\n",
       "      <td>AZ</td>\n",
       "      <td>3</td>\n",
       "      <td>0</td>\n",
       "      <td>69</td>\n",
       "      <td>319.690002</td>\n",
       "      <td>26.281000</td>\n",
       "      <td>64</td>\n",
       "      <td>5.767352</td>\n",
       "      <td>3.268846</td>\n",
       "      <td>92.403702</td>\n",
       "    </tr>\n",
       "    <tr>\n",
       "      <th>4</th>\n",
       "      <td>AR</td>\n",
       "      <td>3</td>\n",
       "      <td>0</td>\n",
       "      <td>75</td>\n",
       "      <td>159.220993</td>\n",
       "      <td>60.054001</td>\n",
       "      <td>66</td>\n",
       "      <td>5.070293</td>\n",
       "      <td>4.095244</td>\n",
       "      <td>72.612473</td>\n",
       "    </tr>\n",
       "  </tbody>\n",
       "</table>\n",
       "</div>"
      ],
      "text/plain": [
       "  state  district  democA  voteA     expendA     expendB  prtystrA  lexpendA  \\\n",
       "0    AL         7       1     68  328.295990    8.737000        41  5.793916   \n",
       "1    AK         1       0     62  626.377014  402.476990        60  6.439952   \n",
       "2    AZ         2       1     73   99.607002    3.065000        55  4.601233   \n",
       "3    AZ         3       0     69  319.690002   26.281000        64  5.767352   \n",
       "4    AR         3       0     75  159.220993   60.054001        66  5.070293   \n",
       "\n",
       "   lexpendB     shareA  \n",
       "0  2.167567  97.407669  \n",
       "1  5.997638  60.881039  \n",
       "2  1.120048  97.014763  \n",
       "3  3.268846  92.403702  \n",
       "4  4.095244  72.612473  "
      ]
     },
     "execution_count": 2,
     "metadata": {},
     "output_type": "execute_result"
    }
   ],
   "source": [
    "filename = os.path.join(caminho, 'VOTE1.DTA')\n",
    "dfc1 = pd.read_stata(filename, preserve_dtypes=False)\n",
    "dfc1.head()"
   ]
  },
  {
   "cell_type": "markdown",
   "metadata": {},
   "source": [
    "## i\n",
    "b1 é a força do parâmetro expendA. 1% de expansão em expendA aumenta b1 voteA\n",
    "## ii\n",
    "H0: b1 == -b2"
   ]
  },
  {
   "cell_type": "code",
   "execution_count": 54,
   "metadata": {},
   "outputs": [],
   "source": [
    "modelc1 = smf.ols(formula='voteA ~ np.log(expendA) + np.log(expendB) + prtystrA', data=dfc1)\n",
    "regrc1 = modelc1.fit()"
   ]
  },
  {
   "cell_type": "code",
   "execution_count": 55,
   "metadata": {},
   "outputs": [
    {
     "name": "stdout",
     "output_type": "stream",
     "text": [
      "voteA = 45.079 + 6.083log(expendA) + -6.615expendB + 0.152prtystrA\n",
      "\t(3.926) \t(0.382) \t(0.379) \t(0.062)\n",
      "n = 173, R^2 = 0.7926\n"
     ]
    }
   ],
   "source": [
    "print(f\"voteA = {regrc1.params['Intercept']:.3f} + \" +\n",
    "      f\"{regrc1.params['np.log(expendA)']:.3f}log(expendA) + \" + \n",
    "      f\"{regrc1.params['np.log(expendB)']:.3f}expendB + \" +\n",
    "      f\"{regrc1.params['prtystrA']:.3f}prtystrA\")\n",
    "print(f\"\\t({regrc1.bse['Intercept']:.3f}) \\t({regrc1.bse['np.log(expendA)']:.3f}) \" + \n",
    "      f\"\\t({regrc1.bse['np.log(expendB)']:.3f}) \\t({regrc1.bse['prtystrA']:.3f})\")\n",
    "\n",
    "print(f'n = {len(dfc1)}, R^2 = {regrc1.rsquared:.4f}')"
   ]
  },
  {
   "cell_type": "markdown",
   "metadata": {},
   "source": [
    "## iv\n"
   ]
  },
  {
   "cell_type": "code",
   "execution_count": 61,
   "metadata": {},
   "outputs": [],
   "source": [
    "modelc1b = smf.ols(formula='voteA ~ np.log(expendA) + I(np.log(expendB) - np.log(expendA)) + prtystrA', data=dfc1)\n",
    "regrc1b = modelc1b.fit()"
   ]
  },
  {
   "cell_type": "code",
   "execution_count": 63,
   "metadata": {},
   "outputs": [
    {
     "name": "stdout",
     "output_type": "stream",
     "text": [
      "voteA = 45.079 + -0.532O + -6.615log(expendB)-log(expendA) + 0.152prtystrA\n",
      "\t(3.926) \t(0.533) \t(0.379) \t(0.062)\n",
      "n = 173, R^2 = 0.7926\n"
     ]
    }
   ],
   "source": [
    "print(f\"voteA = {regrc1b.params['Intercept']:.3f} + \" +\n",
    "      f\"{regrc1b.params['np.log(expendA)']:.3f}O + \"  +\n",
    "      f\"{regrc1b.params['I(np.log(expendB) - np.log(expendA))']:.3f}log(expendB)-log(expendA) + \" +\n",
    "      f\"{regrc1b.params['prtystrA']:.3f}prtystrA\")\n",
    "print(f\"\\t({regrc1b.bse['Intercept']:.3f}) \\t({regrc1b.bse['np.log(expendA)']:.3f}) \" + \n",
    "      f\"\\t({regrc1b.bse['I(np.log(expendB) - np.log(expendA))']:.3f}) \\t({regrc1b.bse['prtystrA']:.3f})\")\n",
    "print(f'n = {len(dfc1)}, R^2 = {regrc1b.rsquared:.4f}')"
   ]
  },
  {
   "cell_type": "markdown",
   "metadata": {},
   "source": [
    "h0: b1 == -b2, O = 0, O = b1 - b2 (Para estimar erro padrão de h0, estimar erro padrão de b1 - b2 = 0)\n",
    "\n",
    "When we estimate this equation we obtain θ \u0003 1 ≈ –.532 and se( θ \u0003 1 ) ≈ .533.\n",
    "The t statistic for the hypothesis in part (ii) is –.532/.533 ≈ –1. Therefore, we fail to reject H 0 : β 2 = – β 1 ."
   ]
  },
  {
   "cell_type": "code",
   "execution_count": 60,
   "metadata": {},
   "outputs": [
    {
     "name": "stdout",
     "output_type": "stream",
     "text": [
      "                            OLS Regression Results                            \n",
      "==============================================================================\n",
      "Dep. Variable:                  voteA   R-squared:                       0.793\n",
      "Model:                            OLS   Adj. R-squared:                  0.789\n",
      "Method:                 Least Squares   F-statistic:                     215.2\n",
      "Date:                Wed, 11 Jul 2018   Prob (F-statistic):           1.76e-57\n",
      "Time:                        13:06:41   Log-Likelihood:                -596.86\n",
      "No. Observations:                 173   AIC:                             1202.\n",
      "Df Residuals:                     169   BIC:                             1214.\n",
      "Df Model:                           3                                         \n",
      "Covariance Type:            nonrobust                                         \n",
      "===================================================================================\n",
      "                      coef    std err          t      P>|t|      [0.025      0.975]\n",
      "-----------------------------------------------------------------------------------\n",
      "Intercept          45.0789      3.926     11.481      0.000      37.328      52.830\n",
      "np.log(expendA)     6.0833      0.382     15.919      0.000       5.329       6.838\n",
      "np.log(expendB)    -6.6154      0.379    -17.463      0.000      -7.363      -5.868\n",
      "prtystrA            0.1520      0.062      2.450      0.015       0.030       0.274\n",
      "==============================================================================\n",
      "Omnibus:                        8.900   Durbin-Watson:                   1.604\n",
      "Prob(Omnibus):                  0.012   Jarque-Bera (JB):                8.832\n",
      "Skew:                           0.493   Prob(JB):                       0.0121\n",
      "Kurtosis:                       3.505   Cond. No.                         344.\n",
      "==============================================================================\n",
      "\n",
      "Warnings:\n",
      "[1] Standard Errors assume that the covariance matrix of the errors is correctly specified.\n",
      "                            OLS Regression Results                            \n",
      "==============================================================================\n",
      "Dep. Variable:                  voteA   R-squared:                       0.793\n",
      "Model:                            OLS   Adj. R-squared:                  0.789\n",
      "Method:                 Least Squares   F-statistic:                     215.2\n",
      "Date:                Wed, 11 Jul 2018   Prob (F-statistic):           1.76e-57\n",
      "Time:                        13:06:41   Log-Likelihood:                -596.86\n",
      "No. Observations:                 173   AIC:                             1202.\n",
      "Df Residuals:                     169   BIC:                             1214.\n",
      "Df Model:                           3                                         \n",
      "Covariance Type:            nonrobust                                         \n",
      "===================================================================================\n",
      "                      coef    std err          t      P>|t|      [0.025      0.975]\n",
      "-----------------------------------------------------------------------------------\n",
      "Intercept          45.0789      3.926     11.481      0.000      37.328      52.830\n",
      "np.log(expendA)     6.0833      0.382     15.919      0.000       5.329       6.838\n",
      "np.log(expendB)    -6.6154      0.379    -17.463      0.000      -7.363      -5.868\n",
      "prtystrA            0.1520      0.062      2.450      0.015       0.030       0.274\n",
      "==============================================================================\n",
      "Omnibus:                        8.900   Durbin-Watson:                   1.604\n",
      "Prob(Omnibus):                  0.012   Jarque-Bera (JB):                8.832\n",
      "Skew:                           0.493   Prob(JB):                       0.0121\n",
      "Kurtosis:                       3.505   Cond. No.                         344.\n",
      "==============================================================================\n",
      "\n",
      "Warnings:\n",
      "[1] Standard Errors assume that the covariance matrix of the errors is correctly specified.\n"
     ]
    }
   ],
   "source": [
    "print(regrc1.summary())\n",
    "print(regrc1b.summary())"
   ]
  },
  {
   "cell_type": "code",
   "execution_count": null,
   "metadata": {},
   "outputs": [],
   "source": [
    "t"
   ]
  }
 ],
 "metadata": {
  "kernelspec": {
   "display_name": "Python 3",
   "language": "python",
   "name": "python3"
  },
  "language_info": {
   "codemirror_mode": {
    "name": "ipython",
    "version": 3
   },
   "file_extension": ".py",
   "mimetype": "text/x-python",
   "name": "python",
   "nbconvert_exporter": "python",
   "pygments_lexer": "ipython3",
   "version": "3.6.4"
  }
 },
 "nbformat": 4,
 "nbformat_minor": 2
}
