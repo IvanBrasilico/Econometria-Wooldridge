{
 "cells": [
  {
   "cell_type": "code",
   "execution_count": 4,
   "metadata": {},
   "outputs": [],
   "source": [
    "import os\n",
    "import pandas as pd\n",
    "import numpy as np\n",
    "import statsmodels.api as sm\n",
    "import statsmodels.formula.api as smf\n",
    "caminho = os.path.join('..', 'dados', 'Data Sets- STATA')"
   ]
  },
  {
   "cell_type": "markdown",
   "metadata": {},
   "source": [
    "## C1"
   ]
  },
  {
   "cell_type": "code",
   "execution_count": 5,
   "metadata": {},
   "outputs": [
    {
     "data": {
      "text/html": [
       "<div>\n",
       "<style scoped>\n",
       "    .dataframe tbody tr th:only-of-type {\n",
       "        vertical-align: middle;\n",
       "    }\n",
       "\n",
       "    .dataframe tbody tr th {\n",
       "        vertical-align: top;\n",
       "    }\n",
       "\n",
       "    .dataframe thead th {\n",
       "        text-align: right;\n",
       "    }\n",
       "</style>\n",
       "<table border=\"1\" class=\"dataframe\">\n",
       "  <thead>\n",
       "    <tr style=\"text-align: right;\">\n",
       "      <th></th>\n",
       "      <th>state</th>\n",
       "      <th>district</th>\n",
       "      <th>democA</th>\n",
       "      <th>voteA</th>\n",
       "      <th>expendA</th>\n",
       "      <th>expendB</th>\n",
       "      <th>prtystrA</th>\n",
       "      <th>lexpendA</th>\n",
       "      <th>lexpendB</th>\n",
       "      <th>shareA</th>\n",
       "    </tr>\n",
       "  </thead>\n",
       "  <tbody>\n",
       "    <tr>\n",
       "      <th>0</th>\n",
       "      <td>AL</td>\n",
       "      <td>7</td>\n",
       "      <td>1</td>\n",
       "      <td>68</td>\n",
       "      <td>328.295990</td>\n",
       "      <td>8.737000</td>\n",
       "      <td>41</td>\n",
       "      <td>5.793916</td>\n",
       "      <td>2.167567</td>\n",
       "      <td>97.407669</td>\n",
       "    </tr>\n",
       "    <tr>\n",
       "      <th>1</th>\n",
       "      <td>AK</td>\n",
       "      <td>1</td>\n",
       "      <td>0</td>\n",
       "      <td>62</td>\n",
       "      <td>626.377014</td>\n",
       "      <td>402.476990</td>\n",
       "      <td>60</td>\n",
       "      <td>6.439952</td>\n",
       "      <td>5.997638</td>\n",
       "      <td>60.881039</td>\n",
       "    </tr>\n",
       "    <tr>\n",
       "      <th>2</th>\n",
       "      <td>AZ</td>\n",
       "      <td>2</td>\n",
       "      <td>1</td>\n",
       "      <td>73</td>\n",
       "      <td>99.607002</td>\n",
       "      <td>3.065000</td>\n",
       "      <td>55</td>\n",
       "      <td>4.601233</td>\n",
       "      <td>1.120048</td>\n",
       "      <td>97.014763</td>\n",
       "    </tr>\n",
       "    <tr>\n",
       "      <th>3</th>\n",
       "      <td>AZ</td>\n",
       "      <td>3</td>\n",
       "      <td>0</td>\n",
       "      <td>69</td>\n",
       "      <td>319.690002</td>\n",
       "      <td>26.281000</td>\n",
       "      <td>64</td>\n",
       "      <td>5.767352</td>\n",
       "      <td>3.268846</td>\n",
       "      <td>92.403702</td>\n",
       "    </tr>\n",
       "    <tr>\n",
       "      <th>4</th>\n",
       "      <td>AR</td>\n",
       "      <td>3</td>\n",
       "      <td>0</td>\n",
       "      <td>75</td>\n",
       "      <td>159.220993</td>\n",
       "      <td>60.054001</td>\n",
       "      <td>66</td>\n",
       "      <td>5.070293</td>\n",
       "      <td>4.095244</td>\n",
       "      <td>72.612473</td>\n",
       "    </tr>\n",
       "  </tbody>\n",
       "</table>\n",
       "</div>"
      ],
      "text/plain": [
       "  state  district  democA  voteA     expendA     expendB  prtystrA  lexpendA  \\\n",
       "0    AL         7       1     68  328.295990    8.737000        41  5.793916   \n",
       "1    AK         1       0     62  626.377014  402.476990        60  6.439952   \n",
       "2    AZ         2       1     73   99.607002    3.065000        55  4.601233   \n",
       "3    AZ         3       0     69  319.690002   26.281000        64  5.767352   \n",
       "4    AR         3       0     75  159.220993   60.054001        66  5.070293   \n",
       "\n",
       "   lexpendB     shareA  \n",
       "0  2.167567  97.407669  \n",
       "1  5.997638  60.881039  \n",
       "2  1.120048  97.014763  \n",
       "3  3.268846  92.403702  \n",
       "4  4.095244  72.612473  "
      ]
     },
     "execution_count": 5,
     "metadata": {},
     "output_type": "execute_result"
    }
   ],
   "source": [
    "filename = os.path.join(caminho, 'VOTE1.DTA')\n",
    "dfc1 = pd.read_stata(filename, preserve_dtypes=False)\n",
    "dfc1.head()"
   ]
  },
  {
   "cell_type": "markdown",
   "metadata": {},
   "source": [
    "## i\n",
    "b1 é a força do parâmetro expendA. 1% de expansão em expendA aumenta b1 voteA\n",
    "## ii\n",
    "H0: b1 == -b2"
   ]
  },
  {
   "cell_type": "code",
   "execution_count": 6,
   "metadata": {},
   "outputs": [],
   "source": [
    "modelc1 = smf.ols(formula='voteA ~ np.log(expendA) + np.log(expendB) + prtystrA', data=dfc1)\n",
    "regrc1 = modelc1.fit()"
   ]
  },
  {
   "cell_type": "code",
   "execution_count": 7,
   "metadata": {},
   "outputs": [
    {
     "name": "stdout",
     "output_type": "stream",
     "text": [
      "voteA = 45.079 + 6.083log(expendA) + -6.615expendB + 0.152prtystrA\n",
      "\t(3.926) \t(0.382) \t(0.379) \t(0.062)\n",
      "n = 173, R^2 = 0.7926\n"
     ]
    }
   ],
   "source": [
    "print(f\"voteA = {regrc1.params['Intercept']:.3f} + \" +\n",
    "      f\"{regrc1.params['np.log(expendA)']:.3f}log(expendA) + \" + \n",
    "      f\"{regrc1.params['np.log(expendB)']:.3f}expendB + \" +\n",
    "      f\"{regrc1.params['prtystrA']:.3f}prtystrA\")\n",
    "print(f\"\\t({regrc1.bse['Intercept']:.3f}) \\t({regrc1.bse['np.log(expendA)']:.3f}) \" + \n",
    "      f\"\\t({regrc1.bse['np.log(expendB)']:.3f}) \\t({regrc1.bse['prtystrA']:.3f})\")\n",
    "\n",
    "print(f'n = {len(dfc1)}, R^2 = {regrc1.rsquared:.4f}')"
   ]
  },
  {
   "cell_type": "markdown",
   "metadata": {},
   "source": [
    "## iv\n"
   ]
  },
  {
   "cell_type": "code",
   "execution_count": 8,
   "metadata": {},
   "outputs": [],
   "source": [
    "modelc1b = smf.ols(formula='voteA ~ np.log(expendA) + I(np.log(expendB) - np.log(expendA)) + prtystrA', data=dfc1)\n",
    "regrc1b = modelc1b.fit()"
   ]
  },
  {
   "cell_type": "code",
   "execution_count": 9,
   "metadata": {},
   "outputs": [
    {
     "name": "stdout",
     "output_type": "stream",
     "text": [
      "voteA = 45.079 + -0.532O + -6.615log(expendB)-log(expendA) + 0.152prtystrA\n",
      "\t(3.926) \t(0.533) \t(0.379) \t(0.062)\n",
      "n = 173, R^2 = 0.7926\n"
     ]
    }
   ],
   "source": [
    "print(f\"voteA = {regrc1b.params['Intercept']:.3f} + \" +\n",
    "      f\"{regrc1b.params['np.log(expendA)']:.3f}O + \"  +\n",
    "      f\"{regrc1b.params['I(np.log(expendB) - np.log(expendA))']:.3f}log(expendB)-log(expendA) + \" +\n",
    "      f\"{regrc1b.params['prtystrA']:.3f}prtystrA\")\n",
    "print(f\"\\t({regrc1b.bse['Intercept']:.3f}) \\t({regrc1b.bse['np.log(expendA)']:.3f}) \" + \n",
    "      f\"\\t({regrc1b.bse['I(np.log(expendB) - np.log(expendA))']:.3f}) \\t({regrc1b.bse['prtystrA']:.3f})\")\n",
    "print(f'n = {len(dfc1)}, R^2 = {regrc1b.rsquared:.4f}')"
   ]
  },
  {
   "cell_type": "markdown",
   "metadata": {},
   "source": [
    "h0: b1 == -b2, O = 0, O = b1 - b2 (Para estimar erro padrão de h0, estimar erro padrão de b1 - b2 = 0)\n",
    "\n",
    "When we estimate this equation we obtain θ \u0003 1 ≈ –.532 and se( θ \u0003 1 ) ≈ .533.\n",
    "The t statistic for the hypothesis in part (ii) is –.532/.533 ≈ –1. Therefore, we fail to reject H 0 : β 2 = – β 1 ."
   ]
  },
  {
   "cell_type": "code",
   "execution_count": 10,
   "metadata": {},
   "outputs": [
    {
     "name": "stdout",
     "output_type": "stream",
     "text": [
      "                            OLS Regression Results                            \n",
      "==============================================================================\n",
      "Dep. Variable:                  voteA   R-squared:                       0.793\n",
      "Model:                            OLS   Adj. R-squared:                  0.789\n",
      "Method:                 Least Squares   F-statistic:                     215.2\n",
      "Date:                Fri, 13 Jul 2018   Prob (F-statistic):           1.76e-57\n",
      "Time:                        11:40:34   Log-Likelihood:                -596.86\n",
      "No. Observations:                 173   AIC:                             1202.\n",
      "Df Residuals:                     169   BIC:                             1214.\n",
      "Df Model:                           3                                         \n",
      "Covariance Type:            nonrobust                                         \n",
      "===================================================================================\n",
      "                      coef    std err          t      P>|t|      [0.025      0.975]\n",
      "-----------------------------------------------------------------------------------\n",
      "Intercept          45.0789      3.926     11.481      0.000      37.328      52.830\n",
      "np.log(expendA)     6.0833      0.382     15.919      0.000       5.329       6.838\n",
      "np.log(expendB)    -6.6154      0.379    -17.463      0.000      -7.363      -5.868\n",
      "prtystrA            0.1520      0.062      2.450      0.015       0.030       0.274\n",
      "==============================================================================\n",
      "Omnibus:                        8.900   Durbin-Watson:                   1.604\n",
      "Prob(Omnibus):                  0.012   Jarque-Bera (JB):                8.832\n",
      "Skew:                           0.493   Prob(JB):                       0.0121\n",
      "Kurtosis:                       3.505   Cond. No.                         344.\n",
      "==============================================================================\n",
      "\n",
      "Warnings:\n",
      "[1] Standard Errors assume that the covariance matrix of the errors is correctly specified.\n",
      "                            OLS Regression Results                            \n",
      "==============================================================================\n",
      "Dep. Variable:                  voteA   R-squared:                       0.793\n",
      "Model:                            OLS   Adj. R-squared:                  0.789\n",
      "Method:                 Least Squares   F-statistic:                     215.2\n",
      "Date:                Fri, 13 Jul 2018   Prob (F-statistic):           1.76e-57\n",
      "Time:                        11:40:34   Log-Likelihood:                -596.86\n",
      "No. Observations:                 173   AIC:                             1202.\n",
      "Df Residuals:                     169   BIC:                             1214.\n",
      "Df Model:                           3                                         \n",
      "Covariance Type:            nonrobust                                         \n",
      "========================================================================================================\n",
      "                                           coef    std err          t      P>|t|      [0.025      0.975]\n",
      "--------------------------------------------------------------------------------------------------------\n",
      "Intercept                               45.0789      3.926     11.481      0.000      37.328      52.830\n",
      "np.log(expendA)                         -0.5321      0.533     -0.998      0.320      -1.584       0.520\n",
      "I(np.log(expendB) - np.log(expendA))    -6.6154      0.379    -17.463      0.000      -7.363      -5.868\n",
      "prtystrA                                 0.1520      0.062      2.450      0.015       0.030       0.274\n",
      "==============================================================================\n",
      "Omnibus:                        8.900   Durbin-Watson:                   1.604\n",
      "Prob(Omnibus):                  0.012   Jarque-Bera (JB):                8.832\n",
      "Skew:                           0.493   Prob(JB):                       0.0121\n",
      "Kurtosis:                       3.505   Cond. No.                         343.\n",
      "==============================================================================\n",
      "\n",
      "Warnings:\n",
      "[1] Standard Errors assume that the covariance matrix of the errors is correctly specified.\n"
     ]
    }
   ],
   "source": [
    "print(regrc1.summary())\n",
    "print(regrc1b.summary())"
   ]
  },
  {
   "cell_type": "code",
   "execution_count": 20,
   "metadata": {},
   "outputs": [],
   "source": [
    "def print_regr(desc_y, regr):\n",
    "    lista = [f'{value:.3f} x {key}' for key, value in regr.params.items()]\n",
    "    lista[0] = f\"{regr.params['Intercept']:.3f}\"\n",
    "    print(desc_y + ' = ' + ' + '.join(lista))\n",
    "    lista = [f'({value:.3f})' for key, value in regr.bse.items()]\n",
    "    lista[0] = f\"({regr.bse['Intercept']:.3f})\"\n",
    "    print('\\t'.join(lista))\n",
    "    print(f'n = {regr.nobs}, R^2 = {regr.rsquared:.4f}')"
   ]
  },
  {
   "cell_type": "code",
   "execution_count": 21,
   "metadata": {},
   "outputs": [
    {
     "data": {
      "text/html": [
       "<div>\n",
       "<style scoped>\n",
       "    .dataframe tbody tr th:only-of-type {\n",
       "        vertical-align: middle;\n",
       "    }\n",
       "\n",
       "    .dataframe tbody tr th {\n",
       "        vertical-align: top;\n",
       "    }\n",
       "\n",
       "    .dataframe thead th {\n",
       "        text-align: right;\n",
       "    }\n",
       "</style>\n",
       "<table border=\"1\" class=\"dataframe\">\n",
       "  <thead>\n",
       "    <tr style=\"text-align: right;\">\n",
       "      <th></th>\n",
       "      <th>wage</th>\n",
       "      <th>abil</th>\n",
       "      <th>educ</th>\n",
       "      <th>ne</th>\n",
       "      <th>nc</th>\n",
       "      <th>west</th>\n",
       "      <th>south</th>\n",
       "      <th>exper</th>\n",
       "      <th>motheduc</th>\n",
       "      <th>fatheduc</th>\n",
       "      <th>...</th>\n",
       "      <th>ne18</th>\n",
       "      <th>nc18</th>\n",
       "      <th>south18</th>\n",
       "      <th>west18</th>\n",
       "      <th>urban18</th>\n",
       "      <th>tuit17</th>\n",
       "      <th>tuit18</th>\n",
       "      <th>lwage</th>\n",
       "      <th>expersq</th>\n",
       "      <th>ctuit</th>\n",
       "    </tr>\n",
       "  </thead>\n",
       "  <tbody>\n",
       "    <tr>\n",
       "      <th>0</th>\n",
       "      <td>12.019231</td>\n",
       "      <td>5.027738</td>\n",
       "      <td>15</td>\n",
       "      <td>0</td>\n",
       "      <td>0</td>\n",
       "      <td>1</td>\n",
       "      <td>0</td>\n",
       "      <td>9</td>\n",
       "      <td>12</td>\n",
       "      <td>12</td>\n",
       "      <td>...</td>\n",
       "      <td>1</td>\n",
       "      <td>0</td>\n",
       "      <td>0</td>\n",
       "      <td>0</td>\n",
       "      <td>1</td>\n",
       "      <td>7.582914</td>\n",
       "      <td>7.260242</td>\n",
       "      <td>2.486508</td>\n",
       "      <td>81</td>\n",
       "      <td>-0.322671</td>\n",
       "    </tr>\n",
       "    <tr>\n",
       "      <th>1</th>\n",
       "      <td>8.912656</td>\n",
       "      <td>2.037170</td>\n",
       "      <td>13</td>\n",
       "      <td>1</td>\n",
       "      <td>0</td>\n",
       "      <td>0</td>\n",
       "      <td>0</td>\n",
       "      <td>8</td>\n",
       "      <td>12</td>\n",
       "      <td>10</td>\n",
       "      <td>...</td>\n",
       "      <td>1</td>\n",
       "      <td>0</td>\n",
       "      <td>0</td>\n",
       "      <td>0</td>\n",
       "      <td>1</td>\n",
       "      <td>8.595144</td>\n",
       "      <td>9.499537</td>\n",
       "      <td>2.187472</td>\n",
       "      <td>64</td>\n",
       "      <td>0.904392</td>\n",
       "    </tr>\n",
       "    <tr>\n",
       "      <th>2</th>\n",
       "      <td>15.514334</td>\n",
       "      <td>2.475895</td>\n",
       "      <td>15</td>\n",
       "      <td>1</td>\n",
       "      <td>0</td>\n",
       "      <td>0</td>\n",
       "      <td>0</td>\n",
       "      <td>11</td>\n",
       "      <td>12</td>\n",
       "      <td>16</td>\n",
       "      <td>...</td>\n",
       "      <td>1</td>\n",
       "      <td>0</td>\n",
       "      <td>0</td>\n",
       "      <td>0</td>\n",
       "      <td>1</td>\n",
       "      <td>7.311346</td>\n",
       "      <td>7.311346</td>\n",
       "      <td>2.741764</td>\n",
       "      <td>121</td>\n",
       "      <td>0.000000</td>\n",
       "    </tr>\n",
       "    <tr>\n",
       "      <th>3</th>\n",
       "      <td>13.333333</td>\n",
       "      <td>3.609240</td>\n",
       "      <td>15</td>\n",
       "      <td>1</td>\n",
       "      <td>0</td>\n",
       "      <td>0</td>\n",
       "      <td>0</td>\n",
       "      <td>6</td>\n",
       "      <td>12</td>\n",
       "      <td>12</td>\n",
       "      <td>...</td>\n",
       "      <td>1</td>\n",
       "      <td>0</td>\n",
       "      <td>0</td>\n",
       "      <td>0</td>\n",
       "      <td>1</td>\n",
       "      <td>9.499537</td>\n",
       "      <td>10.162070</td>\n",
       "      <td>2.590267</td>\n",
       "      <td>36</td>\n",
       "      <td>0.662534</td>\n",
       "    </tr>\n",
       "    <tr>\n",
       "      <th>4</th>\n",
       "      <td>11.070110</td>\n",
       "      <td>2.636546</td>\n",
       "      <td>13</td>\n",
       "      <td>1</td>\n",
       "      <td>0</td>\n",
       "      <td>0</td>\n",
       "      <td>0</td>\n",
       "      <td>15</td>\n",
       "      <td>12</td>\n",
       "      <td>15</td>\n",
       "      <td>...</td>\n",
       "      <td>1</td>\n",
       "      <td>0</td>\n",
       "      <td>0</td>\n",
       "      <td>0</td>\n",
       "      <td>1</td>\n",
       "      <td>7.311346</td>\n",
       "      <td>7.311346</td>\n",
       "      <td>2.404249</td>\n",
       "      <td>225</td>\n",
       "      <td>0.000000</td>\n",
       "    </tr>\n",
       "  </tbody>\n",
       "</table>\n",
       "<p>5 rows × 23 columns</p>\n",
       "</div>"
      ],
      "text/plain": [
       "        wage      abil  educ  ne  nc  west  south  exper  motheduc  fatheduc  \\\n",
       "0  12.019231  5.027738    15   0   0     1      0      9        12        12   \n",
       "1   8.912656  2.037170    13   1   0     0      0      8        12        10   \n",
       "2  15.514334  2.475895    15   1   0     0      0     11        12        16   \n",
       "3  13.333333  3.609240    15   1   0     0      0      6        12        12   \n",
       "4  11.070110  2.636546    13   1   0     0      0     15        12        15   \n",
       "\n",
       "     ...     ne18  nc18  south18  west18  urban18    tuit17     tuit18  \\\n",
       "0    ...        1     0        0       0        1  7.582914   7.260242   \n",
       "1    ...        1     0        0       0        1  8.595144   9.499537   \n",
       "2    ...        1     0        0       0        1  7.311346   7.311346   \n",
       "3    ...        1     0        0       0        1  9.499537  10.162070   \n",
       "4    ...        1     0        0       0        1  7.311346   7.311346   \n",
       "\n",
       "      lwage  expersq     ctuit  \n",
       "0  2.486508       81 -0.322671  \n",
       "1  2.187472       64  0.904392  \n",
       "2  2.741764      121  0.000000  \n",
       "3  2.590267       36  0.662534  \n",
       "4  2.404249      225  0.000000  \n",
       "\n",
       "[5 rows x 23 columns]"
      ]
     },
     "execution_count": 21,
     "metadata": {},
     "output_type": "execute_result"
    }
   ],
   "source": [
    "filename = os.path.join(caminho, 'HTV.DTA')\n",
    "dfc11 = pd.read_stata(filename, preserve_dtypes=False)\n",
    "dfc11.head()"
   ]
  },
  {
   "cell_type": "code",
   "execution_count": 22,
   "metadata": {},
   "outputs": [
    {
     "name": "stdout",
     "output_type": "stream",
     "text": [
      "educ = 8.449 + 0.189 x motheduc + 0.111 x fatheduc + 0.502 x abil\n",
      "(0.290)\t(0.029)\t(0.020)\t(0.026)\n",
      "n = 1230.0, R^2 = 0.4275\n"
     ]
    }
   ],
   "source": [
    "modelc11 = smf.ols(formula='educ ~ motheduc + fatheduc + abil', data=dfc11)\n",
    "regrc11 = modelc11.fit()\n",
    "print_regr('educ', regrc11)"
   ]
  },
  {
   "cell_type": "code",
   "execution_count": 31,
   "metadata": {},
   "outputs": [
    {
     "name": "stdout",
     "output_type": "stream",
     "text": [
      "t_test\n",
      "                             Test for Constraints                             \n",
      "==============================================================================\n",
      "                 coef    std err          t      P>|t|      [0.025      0.975]\n",
      "------------------------------------------------------------------------------\n",
      "c0             0.0780      0.043      1.834      0.067      -0.005       0.162\n",
      "==============================================================================\n",
      "f_test\n",
      "<F test: F=array([[3.36381227]]), p=0.0668858831671904, df_denom=1226, df_num=1>\n"
     ]
    }
   ],
   "source": [
    "hypotheses = '(motheduc=fatheduc)'\n",
    "t_test = regrc11.t_test(hypotheses)\n",
    "print('t_test')\n",
    "print(t_test)\n",
    "f_test = regrc11.f_test(hypotheses)\n",
    "print('f_test')\n",
    "print(f_test)"
   ]
  },
  {
   "cell_type": "code",
   "execution_count": 25,
   "metadata": {},
   "outputs": [
    {
     "name": "stdout",
     "output_type": "stream",
     "text": [
      "educ = 8.291 + 0.192 x motheduc + 0.111 x fatheduc + 0.500 x abil + 0.032 x tuit17 + -0.016 x tuit18\n",
      "(0.315)\t(0.029)\t(0.020)\t(0.026)\t(0.063)\t(0.065)\n",
      "n = 1230.0, R^2 = 0.4283\n"
     ]
    }
   ],
   "source": [
    "modelc11b = smf.ols(formula='educ ~ motheduc + fatheduc + abil + tuit17 + tuit18', data=dfc11)\n",
    "regrc11b = modelc11b.fit()\n",
    "print_regr('educ', regrc11b)"
   ]
  },
  {
   "cell_type": "code",
   "execution_count": 33,
   "metadata": {},
   "outputs": [
    {
     "name": "stdout",
     "output_type": "stream",
     "text": [
      "t_test\n",
      "                             Test for Constraints                             \n",
      "==============================================================================\n",
      "                 coef    std err          t      P>|t|      [0.025      0.975]\n",
      "------------------------------------------------------------------------------\n",
      "c0             0.0484      0.127      0.380      0.704      -0.201       0.298\n",
      "c1            -0.0164      0.065     -0.255      0.799      -0.143       0.110\n",
      "==============================================================================\n",
      "f_test\n",
      "<F test: F=array([[0.88003953]]), p=0.41502878576960733, df_denom=1224, df_num=2>\n"
     ]
    }
   ],
   "source": [
    "hypotheses = '(tuit17=tuit18=0)'\n",
    "t_test = regrc11b.t_test(hypotheses)\n",
    "print('t_test')\n",
    "print(t_test)\n",
    "f_test = regrc11b.f_test(hypotheses)\n",
    "print('f_test')\n",
    "print(f_test)"
   ]
  },
  {
   "cell_type": "code",
   "execution_count": 34,
   "metadata": {},
   "outputs": [
    {
     "data": {
      "text/plain": [
       "array([[1.        , 0.98083326],\n",
       "       [0.98083326, 1.        ]])"
      ]
     },
     "execution_count": 34,
     "metadata": {},
     "output_type": "execute_result"
    }
   ],
   "source": [
    "np.corrcoef(dfc11['tuit17'], dfc11['tuit18'])"
   ]
  },
  {
   "cell_type": "code",
   "execution_count": 36,
   "metadata": {},
   "outputs": [
    {
     "name": "stdout",
     "output_type": "stream",
     "text": [
      "educ = 8.289 + 0.192 x motheduc + 0.111 x fatheduc + 0.500 x abil + 0.011 x I(tuit17 + tuit18 / 2)\n",
      "(0.315)\t(0.029)\t(0.020)\t(0.026)\t(0.008)\n",
      "n = 1230.0, R^2 = 0.4283\n"
     ]
    }
   ],
   "source": [
    "# Variáveis altamente correlacionadas, usar a média!!!\n",
    "modelc11c = smf.ols(formula='educ ~ motheduc + fatheduc + abil + I(tuit17 + tuit18 / 2)', data=dfc11)\n",
    "regrc11c = modelc11c.fit()\n",
    "print_regr('educ', regrc11c)"
   ]
  },
  {
   "cell_type": "code",
   "execution_count": 38,
   "metadata": {},
   "outputs": [
    {
     "name": "stdout",
     "output_type": "stream",
     "text": [
      "t_test\n",
      "                             Test for Constraints                             \n",
      "==============================================================================\n",
      "                 coef    std err          t      P>|t|      [0.025      0.975]\n",
      "------------------------------------------------------------------------------\n",
      "c0             0.0107      0.008      1.283      0.200      -0.006       0.027\n",
      "==============================================================================\n"
     ]
    }
   ],
   "source": [
    "hypotheses = '(I(tuit17 + tuit18 / 2)=0)'\n",
    "t_test = regrc11c.t_test(hypotheses)\n",
    "print('t_test')\n",
    "print(t_test)"
   ]
  },
  {
   "cell_type": "code",
   "execution_count": 40,
   "metadata": {},
   "outputs": [
    {
     "name": "stdout",
     "output_type": "stream",
     "text": [
      "                            OLS Regression Results                            \n",
      "==============================================================================\n",
      "Dep. Variable:                   educ   R-squared:                       0.428\n",
      "Model:                            OLS   Adj. R-squared:                  0.426\n",
      "Method:                 Least Squares   F-statistic:                     229.4\n",
      "Date:                Fri, 13 Jul 2018   Prob (F-statistic):          4.97e-147\n",
      "Time:                        11:54:35   Log-Likelihood:                -2454.2\n",
      "No. Observations:                1230   AIC:                             4918.\n",
      "Df Residuals:                    1225   BIC:                             4944.\n",
      "Df Model:                           4                                         \n",
      "Covariance Type:            nonrobust                                         \n",
      "==========================================================================================\n",
      "                             coef    std err          t      P>|t|      [0.025      0.975]\n",
      "------------------------------------------------------------------------------------------\n",
      "Intercept                  8.2885      0.315     26.294      0.000       7.670       8.907\n",
      "motheduc                   0.1919      0.029      6.714      0.000       0.136       0.248\n",
      "fatheduc                   0.1105      0.020      5.559      0.000       0.072       0.150\n",
      "abil                       0.5000      0.026     19.395      0.000       0.449       0.551\n",
      "I(tuit17 + tuit18 / 2)     0.0107      0.008      1.283      0.200      -0.006       0.027\n",
      "==============================================================================\n",
      "Omnibus:                       52.249   Durbin-Watson:                   1.826\n",
      "Prob(Omnibus):                  0.000   Jarque-Bera (JB):               61.134\n",
      "Skew:                           0.468   Prob(JB):                     5.31e-14\n",
      "Kurtosis:                       3.562   Cond. No.                         138.\n",
      "==============================================================================\n",
      "\n",
      "Warnings:\n",
      "[1] Standard Errors assume that the covariance matrix of the errors is correctly specified.\n"
     ]
    }
   ],
   "source": [
    "print(regrc11c.summary())"
   ]
  },
  {
   "cell_type": "code",
   "execution_count": null,
   "metadata": {},
   "outputs": [],
   "source": []
  }
 ],
 "metadata": {
  "kernelspec": {
   "display_name": "Python 3",
   "language": "python",
   "name": "python3"
  },
  "language_info": {
   "codemirror_mode": {
    "name": "ipython",
    "version": 3
   },
   "file_extension": ".py",
   "mimetype": "text/x-python",
   "name": "python",
   "nbconvert_exporter": "python",
   "pygments_lexer": "ipython3",
   "version": "3.6.4"
  }
 },
 "nbformat": 4,
 "nbformat_minor": 2
}
