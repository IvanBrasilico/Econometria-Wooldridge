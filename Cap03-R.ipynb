{
 "cells": [
  {
   "cell_type": "code",
   "execution_count": 1,
   "metadata": {},
   "outputs": [],
   "source": [
    "caminho <- c(\"..\", \"dados\", \"Data Sets- R\")"
   ]
  },
  {
   "cell_type": "markdown",
   "metadata": {},
   "source": [
    "## C2"
   ]
  },
  {
   "cell_type": "code",
   "execution_count": 2,
   "metadata": {},
   "outputs": [
    {
     "data": {
      "text/html": [
       "'../dados/Data Sets- R/hprice1.RData'"
      ],
      "text/latex": [
       "'../dados/Data Sets- R/hprice1.RData'"
      ],
      "text/markdown": [
       "'../dados/Data Sets- R/hprice1.RData'"
      ],
      "text/plain": [
       "[1] \"../dados/Data Sets- R/hprice1.RData\""
      ]
     },
     "metadata": {},
     "output_type": "display_data"
    }
   ],
   "source": [
    "filepath = append(caminho, \"hprice1.RData\")\n",
    "filepath = paste(filepath, collapse='/')\n",
    "filepath"
   ]
  },
  {
   "cell_type": "code",
   "execution_count": 10,
   "metadata": {},
   "outputs": [
    {
     "data": {
      "text/html": [
       "<ol class=list-inline>\n",
       "\t<li>'c1'</li>\n",
       "\t<li>'caminho'</li>\n",
       "\t<li>'data'</li>\n",
       "\t<li>'desc'</li>\n",
       "\t<li>'filepath'</li>\n",
       "\t<li>'regr'</li>\n",
       "\t<li>'self'</li>\n",
       "</ol>\n"
      ],
      "text/latex": [
       "\\begin{enumerate*}\n",
       "\\item 'c1'\n",
       "\\item 'caminho'\n",
       "\\item 'data'\n",
       "\\item 'desc'\n",
       "\\item 'filepath'\n",
       "\\item 'regr'\n",
       "\\item 'self'\n",
       "\\end{enumerate*}\n"
      ],
      "text/markdown": [
       "1. 'c1'\n",
       "2. 'caminho'\n",
       "3. 'data'\n",
       "4. 'desc'\n",
       "5. 'filepath'\n",
       "6. 'regr'\n",
       "7. 'self'\n",
       "\n",
       "\n"
      ],
      "text/plain": [
       "[1] \"c1\"       \"caminho\"  \"data\"     \"desc\"     \"filepath\" \"regr\"     \"self\"    "
      ]
     },
     "metadata": {},
     "output_type": "display_data"
    }
   ],
   "source": [
    "load(filepath)\n",
    "ls()"
   ]
  },
  {
   "cell_type": "code",
   "execution_count": 12,
   "metadata": {},
   "outputs": [
    {
     "data": {
      "text/plain": [
       "\n",
       "Call:\n",
       "lm(formula = price ~ sqrft + bdrms, data = data)\n",
       "\n",
       "Residuals:\n",
       "     Min       1Q   Median       3Q      Max \n",
       "-127.627  -42.876   -7.051   32.589  229.003 \n",
       "\n",
       "Coefficients:\n",
       "             Estimate Std. Error t value Pr(>|t|)    \n",
       "(Intercept) -19.31500   31.04662  -0.622    0.536    \n",
       "sqrft         0.12844    0.01382   9.291 1.39e-14 ***\n",
       "bdrms        15.19819    9.48352   1.603    0.113    \n",
       "---\n",
       "Signif. codes:  0 ‘***’ 0.001 ‘**’ 0.01 ‘*’ 0.05 ‘.’ 0.1 ‘ ’ 1\n",
       "\n",
       "Residual standard error: 63.04 on 85 degrees of freedom\n",
       "Multiple R-squared:  0.6319,\tAdjusted R-squared:  0.6233 \n",
       "F-statistic: 72.96 on 2 and 85 DF,  p-value: < 2.2e-16\n"
      ]
     },
     "metadata": {},
     "output_type": "display_data"
    }
   ],
   "source": [
    "regr <- lm(price ~ sqrft + bdrms, data=data)\n",
    "summary(regr)"
   ]
  },
  {
   "cell_type": "markdown",
   "metadata": {},
   "source": [
    "# i \n",
    "price = -19.315 + 0.128 x sqrft + 15.19 x bdrms"
   ]
  },
  {
   "cell_type": "markdown",
   "metadata": {},
   "source": [
    "## ii 15.19 dólares"
   ]
  },
  {
   "cell_type": "markdown",
   "metadata": {},
   "source": [
    "## iii 0.128 x 140 = 17.92"
   ]
  },
  {
   "cell_type": "markdown",
   "metadata": {},
   "source": [
    "## iv 62%"
   ]
  },
  {
   "cell_type": "markdown",
   "metadata": {},
   "source": [
    "## v"
   ]
  },
  {
   "cell_type": "code",
   "execution_count": 31,
   "metadata": {},
   "outputs": [
    {
     "data": {
      "text/html": [
       "<strong>1:</strong> 354.605248983999"
      ],
      "text/latex": [
       "\\textbf{1:} 354.605248983999"
      ],
      "text/markdown": [
       "**1:** 354.605248983999"
      ],
      "text/plain": [
       "       1 \n",
       "354.6052 "
      ]
     },
     "metadata": {},
     "output_type": "display_data"
    }
   ],
   "source": [
    "predict(regr, newdata = data.frame(sqrft = c(2438), bdrms = c(4)))"
   ]
  },
  {
   "cell_type": "code",
   "execution_count": null,
   "metadata": {},
   "outputs": [],
   "source": []
  }
 ],
 "metadata": {
  "kernelspec": {
   "display_name": "R",
   "language": "R",
   "name": "ir"
  },
  "language_info": {
   "codemirror_mode": "r",
   "file_extension": ".r",
   "mimetype": "text/x-r-source",
   "name": "R",
   "pygments_lexer": "r",
   "version": "3.4.3"
  }
 },
 "nbformat": 4,
 "nbformat_minor": 2
}
