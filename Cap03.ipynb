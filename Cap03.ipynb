{
 "cells": [
  {
   "cell_type": "code",
   "execution_count": 2,
   "metadata": {},
   "outputs": [],
   "source": [
    "import os\n",
    "import pandas as pd\n",
    "import numpy as np\n",
    "import statsmodels.api as sm\n",
    "import statsmodels.formula.api as smf\n",
    "caminho = os.path.join('..', 'dados', 'Data Sets- STATA')"
   ]
  },
  {
   "cell_type": "markdown",
   "metadata": {},
   "source": [
    "# C1"
   ]
  },
  {
   "cell_type": "code",
   "execution_count": 3,
   "metadata": {},
   "outputs": [
    {
     "data": {
      "text/html": [
       "<div>\n",
       "<style scoped>\n",
       "    .dataframe tbody tr th:only-of-type {\n",
       "        vertical-align: middle;\n",
       "    }\n",
       "\n",
       "    .dataframe tbody tr th {\n",
       "        vertical-align: top;\n",
       "    }\n",
       "\n",
       "    .dataframe thead th {\n",
       "        text-align: right;\n",
       "    }\n",
       "</style>\n",
       "<table border=\"1\" class=\"dataframe\">\n",
       "  <thead>\n",
       "    <tr style=\"text-align: right;\">\n",
       "      <th></th>\n",
       "      <th>faminc</th>\n",
       "      <th>cigtax</th>\n",
       "      <th>cigprice</th>\n",
       "      <th>bwght</th>\n",
       "      <th>fatheduc</th>\n",
       "      <th>motheduc</th>\n",
       "      <th>parity</th>\n",
       "      <th>male</th>\n",
       "      <th>white</th>\n",
       "      <th>cigs</th>\n",
       "      <th>lbwght</th>\n",
       "      <th>bwghtlbs</th>\n",
       "      <th>packs</th>\n",
       "      <th>lfaminc</th>\n",
       "    </tr>\n",
       "  </thead>\n",
       "  <tbody>\n",
       "    <tr>\n",
       "      <th>0</th>\n",
       "      <td>13.5</td>\n",
       "      <td>16.5</td>\n",
       "      <td>122.300003</td>\n",
       "      <td>109</td>\n",
       "      <td>12.0</td>\n",
       "      <td>12.0</td>\n",
       "      <td>1</td>\n",
       "      <td>1</td>\n",
       "      <td>1</td>\n",
       "      <td>0</td>\n",
       "      <td>4.691348</td>\n",
       "      <td>6.8125</td>\n",
       "      <td>0.0</td>\n",
       "      <td>2.602690</td>\n",
       "    </tr>\n",
       "    <tr>\n",
       "      <th>1</th>\n",
       "      <td>7.5</td>\n",
       "      <td>16.5</td>\n",
       "      <td>122.300003</td>\n",
       "      <td>133</td>\n",
       "      <td>6.0</td>\n",
       "      <td>12.0</td>\n",
       "      <td>2</td>\n",
       "      <td>1</td>\n",
       "      <td>0</td>\n",
       "      <td>0</td>\n",
       "      <td>4.890349</td>\n",
       "      <td>8.3125</td>\n",
       "      <td>0.0</td>\n",
       "      <td>2.014903</td>\n",
       "    </tr>\n",
       "    <tr>\n",
       "      <th>2</th>\n",
       "      <td>0.5</td>\n",
       "      <td>16.5</td>\n",
       "      <td>122.300003</td>\n",
       "      <td>129</td>\n",
       "      <td>NaN</td>\n",
       "      <td>12.0</td>\n",
       "      <td>2</td>\n",
       "      <td>0</td>\n",
       "      <td>0</td>\n",
       "      <td>0</td>\n",
       "      <td>4.859812</td>\n",
       "      <td>8.0625</td>\n",
       "      <td>0.0</td>\n",
       "      <td>-0.693147</td>\n",
       "    </tr>\n",
       "    <tr>\n",
       "      <th>3</th>\n",
       "      <td>15.5</td>\n",
       "      <td>16.5</td>\n",
       "      <td>122.300003</td>\n",
       "      <td>126</td>\n",
       "      <td>12.0</td>\n",
       "      <td>12.0</td>\n",
       "      <td>2</td>\n",
       "      <td>1</td>\n",
       "      <td>0</td>\n",
       "      <td>0</td>\n",
       "      <td>4.836282</td>\n",
       "      <td>7.8750</td>\n",
       "      <td>0.0</td>\n",
       "      <td>2.740840</td>\n",
       "    </tr>\n",
       "    <tr>\n",
       "      <th>4</th>\n",
       "      <td>27.5</td>\n",
       "      <td>16.5</td>\n",
       "      <td>122.300003</td>\n",
       "      <td>134</td>\n",
       "      <td>14.0</td>\n",
       "      <td>12.0</td>\n",
       "      <td>2</td>\n",
       "      <td>1</td>\n",
       "      <td>1</td>\n",
       "      <td>0</td>\n",
       "      <td>4.897840</td>\n",
       "      <td>8.3750</td>\n",
       "      <td>0.0</td>\n",
       "      <td>3.314186</td>\n",
       "    </tr>\n",
       "  </tbody>\n",
       "</table>\n",
       "</div>"
      ],
      "text/plain": [
       "   faminc  cigtax    cigprice  bwght  fatheduc  motheduc  parity  male  white  \\\n",
       "0    13.5    16.5  122.300003    109      12.0      12.0       1     1      1   \n",
       "1     7.5    16.5  122.300003    133       6.0      12.0       2     1      0   \n",
       "2     0.5    16.5  122.300003    129       NaN      12.0       2     0      0   \n",
       "3    15.5    16.5  122.300003    126      12.0      12.0       2     1      0   \n",
       "4    27.5    16.5  122.300003    134      14.0      12.0       2     1      1   \n",
       "\n",
       "   cigs    lbwght  bwghtlbs  packs   lfaminc  \n",
       "0     0  4.691348    6.8125    0.0  2.602690  \n",
       "1     0  4.890349    8.3125    0.0  2.014903  \n",
       "2     0  4.859812    8.0625    0.0 -0.693147  \n",
       "3     0  4.836282    7.8750    0.0  2.740840  \n",
       "4     0  4.897840    8.3750    0.0  3.314186  "
      ]
     },
     "execution_count": 3,
     "metadata": {},
     "output_type": "execute_result"
    }
   ],
   "source": [
    "filename = os.path.join(caminho, 'BWGHT.DTA')\n",
    "dfc1 = pd.read_stata(filename, preserve_dtypes=False)\n",
    "dfc1.head()"
   ]
  },
  {
   "cell_type": "markdown",
   "metadata": {},
   "source": [
    "## i \n",
    "Sinal mais provável = positivo\n",
    "## ii\n",
    "Corelação cigs - faminc provavelmente negativa, pelo maior acesso à informação e menores problemas financeiros."
   ]
  },
  {
   "cell_type": "markdown",
   "metadata": {},
   "source": [
    "## iii"
   ]
  },
  {
   "cell_type": "code",
   "execution_count": 5,
   "metadata": {},
   "outputs": [
    {
     "name": "stdout",
     "output_type": "stream",
     "text": [
      "bwght = 113.99 + -0.47cigs + 1.85lfaminc\n",
      "n = 1388, R^2 = 0.0295\n",
      "bwght = 119.77 + -0.51cigs\n",
      "n = 1388, R^2 = 0.0227\n"
     ]
    }
   ],
   "source": [
    "modelc1 = smf.ols(formula='bwght ~ cigs + lfaminc', data=dfc1)\n",
    "regrc1 = modelc1.fit()\n",
    "print(f\"bwght = {regrc1.params['Intercept']:.2f} + {regrc1.params['cigs']:.2f}cigs + {regrc1.params['lfaminc']:.2f}lfaminc\")\n",
    "print(f'n = {len(dfc1)}, R^2 = {regrc1.rsquared:.4f}')\n",
    "modelc1b = smf.ols(formula='bwght ~ cigs', data=dfc1)\n",
    "regrc1b = modelc1b.fit()\n",
    "print(f\"bwght = {regrc1b.params['Intercept']:.2f} + {regrc1b.params['cigs']:.2f}cigs\")\n",
    "print(f'n = {len(dfc1)}, R^2 = {regrc1b.rsquared:.4f}')\n"
   ]
  },
  {
   "cell_type": "code",
   "execution_count": 6,
   "metadata": {},
   "outputs": [
    {
     "data": {
      "text/plain": [
       "array([[ 1.      , -0.163616],\n",
       "       [-0.163616,  1.      ]])"
      ]
     },
     "execution_count": 6,
     "metadata": {},
     "output_type": "execute_result"
    }
   ],
   "source": [
    "np.corrcoef(dfc1['cigs'], np.log(dfc1['faminc']) + 1)"
   ]
  },
  {
   "cell_type": "code",
   "execution_count": 7,
   "metadata": {},
   "outputs": [
    {
     "data": {
      "text/html": [
       "<div>\n",
       "<style scoped>\n",
       "    .dataframe tbody tr th:only-of-type {\n",
       "        vertical-align: middle;\n",
       "    }\n",
       "\n",
       "    .dataframe tbody tr th {\n",
       "        vertical-align: top;\n",
       "    }\n",
       "\n",
       "    .dataframe thead th {\n",
       "        text-align: right;\n",
       "    }\n",
       "</style>\n",
       "<table border=\"1\" class=\"dataframe\">\n",
       "  <thead>\n",
       "    <tr style=\"text-align: right;\">\n",
       "      <th></th>\n",
       "      <th>cigs</th>\n",
       "      <th>faminc</th>\n",
       "    </tr>\n",
       "  </thead>\n",
       "  <tbody>\n",
       "    <tr>\n",
       "      <th>cigs</th>\n",
       "      <td>1.000000</td>\n",
       "      <td>-0.173045</td>\n",
       "    </tr>\n",
       "    <tr>\n",
       "      <th>faminc</th>\n",
       "      <td>-0.173045</td>\n",
       "      <td>1.000000</td>\n",
       "    </tr>\n",
       "  </tbody>\n",
       "</table>\n",
       "</div>"
      ],
      "text/plain": [
       "            cigs    faminc\n",
       "cigs    1.000000 -0.173045\n",
       "faminc -0.173045  1.000000"
      ]
     },
     "execution_count": 7,
     "metadata": {},
     "output_type": "execute_result"
    }
   ],
   "source": [
    "dfc1[['cigs', 'faminc']].corr()"
   ]
  },
  {
   "cell_type": "markdown",
   "metadata": {},
   "source": [
    "# C8"
   ]
  },
  {
   "cell_type": "code",
   "execution_count": 8,
   "metadata": {},
   "outputs": [
    {
     "data": {
      "text/html": [
       "<div>\n",
       "<style scoped>\n",
       "    .dataframe tbody tr th:only-of-type {\n",
       "        vertical-align: middle;\n",
       "    }\n",
       "\n",
       "    .dataframe tbody tr th {\n",
       "        vertical-align: top;\n",
       "    }\n",
       "\n",
       "    .dataframe thead th {\n",
       "        text-align: right;\n",
       "    }\n",
       "</style>\n",
       "<table border=\"1\" class=\"dataframe\">\n",
       "  <thead>\n",
       "    <tr style=\"text-align: right;\">\n",
       "      <th></th>\n",
       "      <th>psoda</th>\n",
       "      <th>pfries</th>\n",
       "      <th>pentree</th>\n",
       "      <th>wagest</th>\n",
       "      <th>nmgrs</th>\n",
       "      <th>nregs</th>\n",
       "      <th>hrsopen</th>\n",
       "      <th>emp</th>\n",
       "      <th>psoda2</th>\n",
       "      <th>pfries2</th>\n",
       "      <th>...</th>\n",
       "      <th>county</th>\n",
       "      <th>lpsoda</th>\n",
       "      <th>lpfries</th>\n",
       "      <th>lhseval</th>\n",
       "      <th>lincome</th>\n",
       "      <th>ldensity</th>\n",
       "      <th>NJ</th>\n",
       "      <th>BK</th>\n",
       "      <th>KFC</th>\n",
       "      <th>RR</th>\n",
       "    </tr>\n",
       "  </thead>\n",
       "  <tbody>\n",
       "    <tr>\n",
       "      <th>0</th>\n",
       "      <td>1.12</td>\n",
       "      <td>1.06</td>\n",
       "      <td>1.02</td>\n",
       "      <td>4.25</td>\n",
       "      <td>3.0</td>\n",
       "      <td>5.0</td>\n",
       "      <td>16.0</td>\n",
       "      <td>27.5</td>\n",
       "      <td>1.11</td>\n",
       "      <td>1.11</td>\n",
       "      <td>...</td>\n",
       "      <td>18</td>\n",
       "      <td>0.113329</td>\n",
       "      <td>0.058269</td>\n",
       "      <td>11.906993</td>\n",
       "      <td>10.704008</td>\n",
       "      <td>8.301521</td>\n",
       "      <td>1</td>\n",
       "      <td>0</td>\n",
       "      <td>0</td>\n",
       "      <td>1</td>\n",
       "    </tr>\n",
       "    <tr>\n",
       "      <th>1</th>\n",
       "      <td>1.06</td>\n",
       "      <td>0.91</td>\n",
       "      <td>0.95</td>\n",
       "      <td>4.75</td>\n",
       "      <td>3.0</td>\n",
       "      <td>3.0</td>\n",
       "      <td>16.5</td>\n",
       "      <td>21.5</td>\n",
       "      <td>1.05</td>\n",
       "      <td>0.89</td>\n",
       "      <td>...</td>\n",
       "      <td>18</td>\n",
       "      <td>0.058269</td>\n",
       "      <td>-0.094311</td>\n",
       "      <td>11.906993</td>\n",
       "      <td>10.704008</td>\n",
       "      <td>8.301521</td>\n",
       "      <td>1</td>\n",
       "      <td>1</td>\n",
       "      <td>0</td>\n",
       "      <td>0</td>\n",
       "    </tr>\n",
       "    <tr>\n",
       "      <th>2</th>\n",
       "      <td>1.06</td>\n",
       "      <td>0.91</td>\n",
       "      <td>0.98</td>\n",
       "      <td>4.25</td>\n",
       "      <td>3.0</td>\n",
       "      <td>5.0</td>\n",
       "      <td>18.0</td>\n",
       "      <td>30.0</td>\n",
       "      <td>1.05</td>\n",
       "      <td>0.94</td>\n",
       "      <td>...</td>\n",
       "      <td>12</td>\n",
       "      <td>0.058269</td>\n",
       "      <td>-0.094311</td>\n",
       "      <td>12.038836</td>\n",
       "      <td>10.625319</td>\n",
       "      <td>9.341369</td>\n",
       "      <td>1</td>\n",
       "      <td>1</td>\n",
       "      <td>0</td>\n",
       "      <td>0</td>\n",
       "    </tr>\n",
       "    <tr>\n",
       "      <th>3</th>\n",
       "      <td>1.12</td>\n",
       "      <td>1.02</td>\n",
       "      <td>1.06</td>\n",
       "      <td>5.00</td>\n",
       "      <td>4.0</td>\n",
       "      <td>5.0</td>\n",
       "      <td>16.0</td>\n",
       "      <td>27.5</td>\n",
       "      <td>1.15</td>\n",
       "      <td>1.05</td>\n",
       "      <td>...</td>\n",
       "      <td>10</td>\n",
       "      <td>0.113329</td>\n",
       "      <td>0.019803</td>\n",
       "      <td>12.052921</td>\n",
       "      <td>10.827071</td>\n",
       "      <td>9.029418</td>\n",
       "      <td>1</td>\n",
       "      <td>0</td>\n",
       "      <td>0</td>\n",
       "      <td>1</td>\n",
       "    </tr>\n",
       "    <tr>\n",
       "      <th>4</th>\n",
       "      <td>1.12</td>\n",
       "      <td>NaN</td>\n",
       "      <td>0.49</td>\n",
       "      <td>5.00</td>\n",
       "      <td>3.0</td>\n",
       "      <td>3.0</td>\n",
       "      <td>16.0</td>\n",
       "      <td>5.0</td>\n",
       "      <td>1.04</td>\n",
       "      <td>1.01</td>\n",
       "      <td>...</td>\n",
       "      <td>10</td>\n",
       "      <td>0.113329</td>\n",
       "      <td>NaN</td>\n",
       "      <td>12.425610</td>\n",
       "      <td>11.188399</td>\n",
       "      <td>6.579251</td>\n",
       "      <td>1</td>\n",
       "      <td>1</td>\n",
       "      <td>0</td>\n",
       "      <td>0</td>\n",
       "    </tr>\n",
       "  </tbody>\n",
       "</table>\n",
       "<p>5 rows × 37 columns</p>\n",
       "</div>"
      ],
      "text/plain": [
       "   psoda  pfries  pentree  wagest  nmgrs  nregs  hrsopen   emp  psoda2  \\\n",
       "0   1.12    1.06     1.02    4.25    3.0    5.0     16.0  27.5    1.11   \n",
       "1   1.06    0.91     0.95    4.75    3.0    3.0     16.5  21.5    1.05   \n",
       "2   1.06    0.91     0.98    4.25    3.0    5.0     18.0  30.0    1.05   \n",
       "3   1.12    1.02     1.06    5.00    4.0    5.0     16.0  27.5    1.15   \n",
       "4   1.12     NaN     0.49    5.00    3.0    3.0     16.0   5.0    1.04   \n",
       "\n",
       "   pfries2 ...  county    lpsoda   lpfries    lhseval    lincome  ldensity  \\\n",
       "0     1.11 ...      18  0.113329  0.058269  11.906993  10.704008  8.301521   \n",
       "1     0.89 ...      18  0.058269 -0.094311  11.906993  10.704008  8.301521   \n",
       "2     0.94 ...      12  0.058269 -0.094311  12.038836  10.625319  9.341369   \n",
       "3     1.05 ...      10  0.113329  0.019803  12.052921  10.827071  9.029418   \n",
       "4     1.01 ...      10  0.113329       NaN  12.425610  11.188399  6.579251   \n",
       "\n",
       "   NJ  BK  KFC  RR  \n",
       "0   1   0    0   1  \n",
       "1   1   1    0   0  \n",
       "2   1   1    0   0  \n",
       "3   1   0    0   1  \n",
       "4   1   1    0   0  \n",
       "\n",
       "[5 rows x 37 columns]"
      ]
     },
     "execution_count": 8,
     "metadata": {},
     "output_type": "execute_result"
    }
   ],
   "source": [
    "filename = os.path.join(caminho, 'discrim.dta')\n",
    "dfc8 = pd.read_stata(filename, preserve_dtypes=False)\n",
    "dfc8.head()"
   ]
  },
  {
   "cell_type": "markdown",
   "metadata": {},
   "source": [
    "## i"
   ]
  },
  {
   "cell_type": "code",
   "execution_count": 9,
   "metadata": {},
   "outputs": [
    {
     "name": "stdout",
     "output_type": "stream",
     "text": [
      "410\n"
     ]
    },
    {
     "data": {
      "text/html": [
       "<div>\n",
       "<style scoped>\n",
       "    .dataframe tbody tr th:only-of-type {\n",
       "        vertical-align: middle;\n",
       "    }\n",
       "\n",
       "    .dataframe tbody tr th {\n",
       "        vertical-align: top;\n",
       "    }\n",
       "\n",
       "    .dataframe thead th {\n",
       "        text-align: right;\n",
       "    }\n",
       "</style>\n",
       "<table border=\"1\" class=\"dataframe\">\n",
       "  <thead>\n",
       "    <tr style=\"text-align: right;\">\n",
       "      <th></th>\n",
       "      <th>prpblck</th>\n",
       "      <th>income</th>\n",
       "    </tr>\n",
       "  </thead>\n",
       "  <tbody>\n",
       "    <tr>\n",
       "      <th>count</th>\n",
       "      <td>409.000000</td>\n",
       "      <td>409.000000</td>\n",
       "    </tr>\n",
       "    <tr>\n",
       "      <th>mean</th>\n",
       "      <td>0.113486</td>\n",
       "      <td>47053.784841</td>\n",
       "    </tr>\n",
       "    <tr>\n",
       "      <th>std</th>\n",
       "      <td>0.182416</td>\n",
       "      <td>13179.286069</td>\n",
       "    </tr>\n",
       "    <tr>\n",
       "      <th>min</th>\n",
       "      <td>0.000000</td>\n",
       "      <td>15919.000000</td>\n",
       "    </tr>\n",
       "    <tr>\n",
       "      <th>25%</th>\n",
       "      <td>0.011649</td>\n",
       "      <td>37883.000000</td>\n",
       "    </tr>\n",
       "    <tr>\n",
       "      <th>50%</th>\n",
       "      <td>0.041444</td>\n",
       "      <td>46272.000000</td>\n",
       "    </tr>\n",
       "    <tr>\n",
       "      <th>75%</th>\n",
       "      <td>0.121059</td>\n",
       "      <td>54981.000000</td>\n",
       "    </tr>\n",
       "    <tr>\n",
       "      <th>max</th>\n",
       "      <td>0.981658</td>\n",
       "      <td>136529.000000</td>\n",
       "    </tr>\n",
       "  </tbody>\n",
       "</table>\n",
       "</div>"
      ],
      "text/plain": [
       "          prpblck         income\n",
       "count  409.000000     409.000000\n",
       "mean     0.113486   47053.784841\n",
       "std      0.182416   13179.286069\n",
       "min      0.000000   15919.000000\n",
       "25%      0.011649   37883.000000\n",
       "50%      0.041444   46272.000000\n",
       "75%      0.121059   54981.000000\n",
       "max      0.981658  136529.000000"
      ]
     },
     "execution_count": 9,
     "metadata": {},
     "output_type": "execute_result"
    }
   ],
   "source": [
    "print(len(dfc8)) # Para identificar se há linhas NA - Se houverem, count será menor que len\n",
    "dfc8[['prpblck', 'income']].describe()"
   ]
  },
  {
   "cell_type": "code",
   "execution_count": 10,
   "metadata": {},
   "outputs": [
    {
     "data": {
      "text/html": [
       "<div>\n",
       "<style scoped>\n",
       "    .dataframe tbody tr th:only-of-type {\n",
       "        vertical-align: middle;\n",
       "    }\n",
       "\n",
       "    .dataframe tbody tr th {\n",
       "        vertical-align: top;\n",
       "    }\n",
       "\n",
       "    .dataframe thead th {\n",
       "        text-align: right;\n",
       "    }\n",
       "</style>\n",
       "<table border=\"1\" class=\"dataframe\">\n",
       "  <thead>\n",
       "    <tr style=\"text-align: right;\">\n",
       "      <th></th>\n",
       "      <th>prpblck</th>\n",
       "      <th>income</th>\n",
       "      <th>psoda</th>\n",
       "    </tr>\n",
       "  </thead>\n",
       "  <tbody>\n",
       "    <tr>\n",
       "      <th>384</th>\n",
       "      <td>NaN</td>\n",
       "      <td>NaN</td>\n",
       "      <td>1.05</td>\n",
       "    </tr>\n",
       "  </tbody>\n",
       "</table>\n",
       "</div>"
      ],
      "text/plain": [
       "     prpblck  income  psoda\n",
       "384      NaN     NaN   1.05"
      ]
     },
     "execution_count": 10,
     "metadata": {},
     "output_type": "execute_result"
    }
   ],
   "source": [
    "dfc8_resumo = dfc8[['prpblck', 'income', 'psoda']]\n",
    "dfc8_resumo[dfc8['prpblck'].isnull()]"
   ]
  },
  {
   "cell_type": "code",
   "execution_count": 11,
   "metadata": {},
   "outputs": [
    {
     "data": {
      "text/html": [
       "<div>\n",
       "<style scoped>\n",
       "    .dataframe tbody tr th:only-of-type {\n",
       "        vertical-align: middle;\n",
       "    }\n",
       "\n",
       "    .dataframe tbody tr th {\n",
       "        vertical-align: top;\n",
       "    }\n",
       "\n",
       "    .dataframe thead th {\n",
       "        text-align: right;\n",
       "    }\n",
       "</style>\n",
       "<table border=\"1\" class=\"dataframe\">\n",
       "  <thead>\n",
       "    <tr style=\"text-align: right;\">\n",
       "      <th></th>\n",
       "      <th>prpblck</th>\n",
       "      <th>income</th>\n",
       "      <th>psoda</th>\n",
       "    </tr>\n",
       "  </thead>\n",
       "  <tbody>\n",
       "    <tr>\n",
       "      <th>384</th>\n",
       "      <td>NaN</td>\n",
       "      <td>NaN</td>\n",
       "      <td>1.05</td>\n",
       "    </tr>\n",
       "  </tbody>\n",
       "</table>\n",
       "</div>"
      ],
      "text/plain": [
       "     prpblck  income  psoda\n",
       "384      NaN     NaN   1.05"
      ]
     },
     "execution_count": 11,
     "metadata": {},
     "output_type": "execute_result"
    }
   ],
   "source": [
    "dfc8_resumo[dfc8['income'].isnull()]"
   ]
  },
  {
   "cell_type": "code",
   "execution_count": 12,
   "metadata": {},
   "outputs": [
    {
     "data": {
      "text/html": [
       "<div>\n",
       "<style scoped>\n",
       "    .dataframe tbody tr th:only-of-type {\n",
       "        vertical-align: middle;\n",
       "    }\n",
       "\n",
       "    .dataframe tbody tr th {\n",
       "        vertical-align: top;\n",
       "    }\n",
       "\n",
       "    .dataframe thead th {\n",
       "        text-align: right;\n",
       "    }\n",
       "</style>\n",
       "<table border=\"1\" class=\"dataframe\">\n",
       "  <thead>\n",
       "    <tr style=\"text-align: right;\">\n",
       "      <th></th>\n",
       "      <th>prpblck</th>\n",
       "      <th>income</th>\n",
       "      <th>psoda</th>\n",
       "    </tr>\n",
       "  </thead>\n",
       "  <tbody>\n",
       "    <tr>\n",
       "      <th>57</th>\n",
       "      <td>0.042239</td>\n",
       "      <td>48350.0</td>\n",
       "      <td>NaN</td>\n",
       "    </tr>\n",
       "    <tr>\n",
       "      <th>92</th>\n",
       "      <td>0.031873</td>\n",
       "      <td>64367.0</td>\n",
       "      <td>NaN</td>\n",
       "    </tr>\n",
       "    <tr>\n",
       "      <th>143</th>\n",
       "      <td>0.026525</td>\n",
       "      <td>53795.0</td>\n",
       "      <td>NaN</td>\n",
       "    </tr>\n",
       "    <tr>\n",
       "      <th>183</th>\n",
       "      <td>0.039983</td>\n",
       "      <td>48574.0</td>\n",
       "      <td>NaN</td>\n",
       "    </tr>\n",
       "    <tr>\n",
       "      <th>283</th>\n",
       "      <td>0.019091</td>\n",
       "      <td>51548.0</td>\n",
       "      <td>NaN</td>\n",
       "    </tr>\n",
       "    <tr>\n",
       "      <th>310</th>\n",
       "      <td>0.023150</td>\n",
       "      <td>63905.0</td>\n",
       "      <td>NaN</td>\n",
       "    </tr>\n",
       "    <tr>\n",
       "      <th>361</th>\n",
       "      <td>0.014509</td>\n",
       "      <td>32161.0</td>\n",
       "      <td>NaN</td>\n",
       "    </tr>\n",
       "    <tr>\n",
       "      <th>368</th>\n",
       "      <td>0.121563</td>\n",
       "      <td>35537.0</td>\n",
       "      <td>NaN</td>\n",
       "    </tr>\n",
       "  </tbody>\n",
       "</table>\n",
       "</div>"
      ],
      "text/plain": [
       "      prpblck   income  psoda\n",
       "57   0.042239  48350.0    NaN\n",
       "92   0.031873  64367.0    NaN\n",
       "143  0.026525  53795.0    NaN\n",
       "183  0.039983  48574.0    NaN\n",
       "283  0.019091  51548.0    NaN\n",
       "310  0.023150  63905.0    NaN\n",
       "361  0.014509  32161.0    NaN\n",
       "368  0.121563  35537.0    NaN"
      ]
     },
     "execution_count": 12,
     "metadata": {},
     "output_type": "execute_result"
    }
   ],
   "source": [
    "dfc8_resumo[dfc8['psoda'].isnull()]"
   ]
  },
  {
   "cell_type": "code",
   "execution_count": 13,
   "metadata": {},
   "outputs": [],
   "source": [
    "# Nan para prpblck ou income é a mesma linha e somente uma, não deve haver problema.\n"
   ]
  },
  {
   "cell_type": "code",
   "execution_count": 14,
   "metadata": {},
   "outputs": [
    {
     "data": {
      "text/html": [
       "<div>\n",
       "<style scoped>\n",
       "    .dataframe tbody tr th:only-of-type {\n",
       "        vertical-align: middle;\n",
       "    }\n",
       "\n",
       "    .dataframe tbody tr th {\n",
       "        vertical-align: top;\n",
       "    }\n",
       "\n",
       "    .dataframe thead th {\n",
       "        text-align: right;\n",
       "    }\n",
       "</style>\n",
       "<table border=\"1\" class=\"dataframe\">\n",
       "  <thead>\n",
       "    <tr style=\"text-align: right;\">\n",
       "      <th></th>\n",
       "      <th>prpblck</th>\n",
       "      <th>income</th>\n",
       "      <th>psoda</th>\n",
       "    </tr>\n",
       "  </thead>\n",
       "  <tbody>\n",
       "    <tr>\n",
       "      <th>0</th>\n",
       "      <td>0.171154</td>\n",
       "      <td>44534.0</td>\n",
       "      <td>1.12</td>\n",
       "    </tr>\n",
       "    <tr>\n",
       "      <th>1</th>\n",
       "      <td>0.171154</td>\n",
       "      <td>44534.0</td>\n",
       "      <td>1.06</td>\n",
       "    </tr>\n",
       "    <tr>\n",
       "      <th>2</th>\n",
       "      <td>0.047360</td>\n",
       "      <td>41164.0</td>\n",
       "      <td>1.06</td>\n",
       "    </tr>\n",
       "    <tr>\n",
       "      <th>3</th>\n",
       "      <td>0.052839</td>\n",
       "      <td>50366.0</td>\n",
       "      <td>1.12</td>\n",
       "    </tr>\n",
       "    <tr>\n",
       "      <th>4</th>\n",
       "      <td>0.034480</td>\n",
       "      <td>72287.0</td>\n",
       "      <td>1.12</td>\n",
       "    </tr>\n",
       "  </tbody>\n",
       "</table>\n",
       "</div>"
      ],
      "text/plain": [
       "    prpblck   income  psoda\n",
       "0  0.171154  44534.0   1.12\n",
       "1  0.171154  44534.0   1.06\n",
       "2  0.047360  41164.0   1.06\n",
       "3  0.052839  50366.0   1.12\n",
       "4  0.034480  72287.0   1.12"
      ]
     },
     "execution_count": 14,
     "metadata": {},
     "output_type": "execute_result"
    }
   ],
   "source": [
    "dfc8_resumo.head()"
   ]
  },
  {
   "cell_type": "markdown",
   "metadata": {},
   "source": [
    "### prpblck - percentual, income - valores absolutos (dólares anuais??)"
   ]
  },
  {
   "cell_type": "markdown",
   "metadata": {},
   "source": [
    "# ii"
   ]
  },
  {
   "cell_type": "code",
   "execution_count": 15,
   "metadata": {},
   "outputs": [],
   "source": [
    "modelc8 = smf.ols(formula='psoda ~ prpblck + income', data=dfc8)\n",
    "regrc8 = modelc8.fit()"
   ]
  },
  {
   "cell_type": "code",
   "execution_count": 16,
   "metadata": {},
   "outputs": [],
   "source": [
    "def print_regr(desc_y, regr):\n",
    "    lista = [f'{value:.3f} x {key}' for key, value in regr.params.items()]\n",
    "    lista[0] = f\"{regr.params['Intercept']:.3f}\"\n",
    "    print(desc_y + ' = ' + ' + '.join(lista))\n",
    "    print(f'n = {regr.nobs}, R^2 = {regr.rsquared:.4f}')"
   ]
  },
  {
   "cell_type": "code",
   "execution_count": 17,
   "metadata": {},
   "outputs": [
    {
     "name": "stdout",
     "output_type": "stream",
     "text": [
      "psoda = 0.956 + 0.115 x prpblck + 0.000 x income\n",
      "n = 401.0, R^2 = 0.0642\n"
     ]
    }
   ],
   "source": [
    "print_regr('psoda', regrc8)"
   ]
  },
  {
   "cell_type": "markdown",
   "metadata": {},
   "source": [
    "## iii"
   ]
  },
  {
   "cell_type": "code",
   "execution_count": 18,
   "metadata": {},
   "outputs": [
    {
     "name": "stdout",
     "output_type": "stream",
     "text": [
      "psoda = 1.037 + 0.065 x prpblck\n",
      "n = 401.0, R^2 = 0.0181\n"
     ]
    }
   ],
   "source": [
    "modelc8b = smf.ols(formula='psoda ~ prpblck ', data=dfc8)\n",
    "regrc8b = modelc8b.fit()\n",
    "print_regr('psoda', regrc8b)"
   ]
  },
  {
   "cell_type": "markdown",
   "metadata": {},
   "source": [
    "## iv"
   ]
  },
  {
   "cell_type": "code",
   "execution_count": 19,
   "metadata": {},
   "outputs": [
    {
     "name": "stdout",
     "output_type": "stream",
     "text": [
      "psoda = 0.186 + 0.126 x prpblck + 0.079 x np.log(income)\n",
      "n = 401.0, R^2 = 0.0663\n"
     ]
    }
   ],
   "source": [
    "modelc8c = smf.ols(formula='psoda ~ prpblck + np.log(income) ', data=dfc8)\n",
    "regrc8c = modelc8c.fit()\n",
    "print_regr('psoda', regrc8c)"
   ]
  },
  {
   "cell_type": "code",
   "execution_count": 20,
   "metadata": {},
   "outputs": [
    {
     "name": "stdout",
     "output_type": "stream",
     "text": [
      "2.52%\n"
     ]
    }
   ],
   "source": [
    "increment = (0.126 * 0.2)\n",
    "print(f'{increment * 100}%') # *100 é para colocar como porcentagem"
   ]
  },
  {
   "cell_type": "markdown",
   "metadata": {},
   "source": [
    "## v"
   ]
  },
  {
   "cell_type": "code",
   "execution_count": 21,
   "metadata": {},
   "outputs": [
    {
     "name": "stdout",
     "output_type": "stream",
     "text": [
      "psoda = -0.512 + 0.075 x prpblck + 0.142 x np.log(income) + 0.396 x prppov\n",
      "n = 401.0, R^2 = 0.0850\n"
     ]
    }
   ],
   "source": [
    "modelc8d = smf.ols(formula='psoda ~ prpblck + np.log(income) + prppov', data=dfc8)\n",
    "regrc8d = modelc8d.fit()\n",
    "print_regr('psoda', regrc8d)"
   ]
  },
  {
   "cell_type": "markdown",
   "metadata": {},
   "source": [
    "## vi"
   ]
  },
  {
   "cell_type": "code",
   "execution_count": 22,
   "metadata": {},
   "outputs": [
    {
     "data": {
      "text/html": [
       "<div>\n",
       "<style scoped>\n",
       "    .dataframe tbody tr th:only-of-type {\n",
       "        vertical-align: middle;\n",
       "    }\n",
       "\n",
       "    .dataframe tbody tr th {\n",
       "        vertical-align: top;\n",
       "    }\n",
       "\n",
       "    .dataframe thead th {\n",
       "        text-align: right;\n",
       "    }\n",
       "</style>\n",
       "<table border=\"1\" class=\"dataframe\">\n",
       "  <thead>\n",
       "    <tr style=\"text-align: right;\">\n",
       "      <th></th>\n",
       "      <th>income</th>\n",
       "      <th>prppov</th>\n",
       "    </tr>\n",
       "  </thead>\n",
       "  <tbody>\n",
       "    <tr>\n",
       "      <th>0</th>\n",
       "      <td>10.704008</td>\n",
       "      <td>0.036579</td>\n",
       "    </tr>\n",
       "    <tr>\n",
       "      <th>1</th>\n",
       "      <td>10.704008</td>\n",
       "      <td>0.036579</td>\n",
       "    </tr>\n",
       "    <tr>\n",
       "      <th>2</th>\n",
       "      <td>10.625319</td>\n",
       "      <td>0.087907</td>\n",
       "    </tr>\n",
       "    <tr>\n",
       "      <th>3</th>\n",
       "      <td>10.827072</td>\n",
       "      <td>0.059123</td>\n",
       "    </tr>\n",
       "    <tr>\n",
       "      <th>4</th>\n",
       "      <td>11.188400</td>\n",
       "      <td>0.025415</td>\n",
       "    </tr>\n",
       "  </tbody>\n",
       "</table>\n",
       "</div>"
      ],
      "text/plain": [
       "      income    prppov\n",
       "0  10.704008  0.036579\n",
       "1  10.704008  0.036579\n",
       "2  10.625319  0.087907\n",
       "3  10.827072  0.059123\n",
       "4  11.188400  0.025415"
      ]
     },
     "execution_count": 22,
     "metadata": {},
     "output_type": "execute_result"
    }
   ],
   "source": [
    "df_resumoVI = pd.DataFrame([np.log(dfc8['income']), dfc8['prppov']]).transpose()\n",
    "df_resumoVI.head()"
   ]
  },
  {
   "cell_type": "code",
   "execution_count": 23,
   "metadata": {},
   "outputs": [
    {
     "name": "stdout",
     "output_type": "stream",
     "text": [
      "410\n",
      "409\n"
     ]
    }
   ],
   "source": [
    "print(len(df_resumoVI))\n",
    "df_resumoVI.dropna(inplace=True)\n",
    "print(len(df_resumoVI))"
   ]
  },
  {
   "cell_type": "code",
   "execution_count": 24,
   "metadata": {},
   "outputs": [
    {
     "data": {
      "text/plain": [
       "array([[ 1.        , -0.83846697],\n",
       "       [-0.83846697,  1.        ]])"
      ]
     },
     "execution_count": 24,
     "metadata": {},
     "output_type": "execute_result"
    }
   ],
   "source": [
    "np.corrcoef(df_resumoVI['income'], df_resumoVI['prppov'])"
   ]
  },
  {
   "cell_type": "markdown",
   "metadata": {},
   "source": [
    "## vii - A inclusão de prppob adiciona viés em B1, praticamente anulando \n",
    "## os efeitos de income e aproximando o resultado da equação\n",
    "## enviesada de iii\n",
    "\n",
    "Note-se que a simples adição de variável independente aumentou o r², mas a mudança dos paramêtros b leva a crer que as equações ii e iv eformam modelo mais representativo da população. Abaixo, compara-se o summary para avaliar também AIC e significância. Nota-se que em iii e v o p-value de pprblack torna-se não significativo."
   ]
  },
  {
   "cell_type": "code",
   "execution_count": 25,
   "metadata": {},
   "outputs": [
    {
     "name": "stdout",
     "output_type": "stream",
     "text": [
      "                            OLS Regression Results                            \n",
      "==============================================================================\n",
      "Dep. Variable:                  psoda   R-squared:                       0.064\n",
      "Model:                            OLS   Adj. R-squared:                  0.060\n",
      "Method:                 Least Squares   F-statistic:                     13.66\n",
      "Date:                Fri, 13 Jul 2018   Prob (F-statistic):           1.83e-06\n",
      "Time:                        11:24:36   Log-Likelihood:                 415.79\n",
      "No. Observations:                 401   AIC:                            -825.6\n",
      "Df Residuals:                     398   BIC:                            -813.6\n",
      "Df Model:                           2                                         \n",
      "Covariance Type:            nonrobust                                         \n",
      "==============================================================================\n",
      "                 coef    std err          t      P>|t|      [0.025      0.975]\n",
      "------------------------------------------------------------------------------\n",
      "Intercept      0.9563      0.019     50.354      0.000       0.919       0.994\n",
      "prpblck        0.1150      0.026      4.423      0.000       0.064       0.166\n",
      "income      1.603e-06   3.62e-07      4.430      0.000    8.91e-07    2.31e-06\n",
      "==============================================================================\n",
      "Omnibus:                       30.419   Durbin-Watson:                   1.688\n",
      "Prob(Omnibus):                  0.000   Jarque-Bera (JB):               68.506\n",
      "Skew:                           0.394   Prob(JB):                     1.33e-15\n",
      "Kurtosis:                       4.866   Cond. No.                     3.27e+05\n",
      "==============================================================================\n",
      "\n",
      "Warnings:\n",
      "[1] Standard Errors assume that the covariance matrix of the errors is correctly specified.\n",
      "[2] The condition number is large, 3.27e+05. This might indicate that there are\n",
      "strong multicollinearity or other numerical problems.\n",
      "                            OLS Regression Results                            \n",
      "==============================================================================\n",
      "Dep. Variable:                  psoda   R-squared:                       0.018\n",
      "Model:                            OLS   Adj. R-squared:                  0.016\n",
      "Method:                 Least Squares   F-statistic:                     7.345\n",
      "Date:                Fri, 13 Jul 2018   Prob (F-statistic):            0.00702\n",
      "Time:                        11:24:36   Log-Likelihood:                 406.14\n",
      "No. Observations:                 401   AIC:                            -808.3\n",
      "Df Residuals:                     399   BIC:                            -800.3\n",
      "Df Model:                           1                                         \n",
      "Covariance Type:            nonrobust                                         \n",
      "==============================================================================\n",
      "                 coef    std err          t      P>|t|      [0.025      0.975]\n",
      "------------------------------------------------------------------------------\n",
      "Intercept      1.0374      0.005    199.867      0.000       1.027       1.048\n",
      "prpblck        0.0649      0.024      2.710      0.007       0.018       0.112\n",
      "==============================================================================\n",
      "Omnibus:                       27.289   Durbin-Watson:                   1.606\n",
      "Prob(Omnibus):                  0.000   Jarque-Bera (JB):               57.084\n",
      "Skew:                           0.373   Prob(JB):                     4.02e-13\n",
      "Kurtosis:                       4.691   Cond. No.                         5.52\n",
      "==============================================================================\n",
      "\n",
      "Warnings:\n",
      "[1] Standard Errors assume that the covariance matrix of the errors is correctly specified.\n",
      "                            OLS Regression Results                            \n",
      "==============================================================================\n",
      "Dep. Variable:                  psoda   R-squared:                       0.066\n",
      "Model:                            OLS   Adj. R-squared:                  0.062\n",
      "Method:                 Least Squares   F-statistic:                     14.13\n",
      "Date:                Fri, 13 Jul 2018   Prob (F-statistic):           1.18e-06\n",
      "Time:                        11:24:36   Log-Likelihood:                 416.24\n",
      "No. Observations:                 401   AIC:                            -826.5\n",
      "Df Residuals:                     398   BIC:                            -814.5\n",
      "Df Model:                           2                                         \n",
      "Covariance Type:            nonrobust                                         \n",
      "==================================================================================\n",
      "                     coef    std err          t      P>|t|      [0.025      0.975]\n",
      "----------------------------------------------------------------------------------\n",
      "Intercept          0.1855      0.188      0.987      0.324      -0.184       0.555\n",
      "prpblck            0.1258      0.027      4.665      0.000       0.073       0.179\n",
      "np.log(income)     0.0788      0.017      4.533      0.000       0.045       0.113\n",
      "==============================================================================\n",
      "Omnibus:                       29.684   Durbin-Watson:                   1.686\n",
      "Prob(Omnibus):                  0.000   Jarque-Bera (JB):               67.894\n",
      "Skew:                           0.377   Prob(JB):                     1.81e-15\n",
      "Kurtosis:                       4.870   Cond. No.                         475.\n",
      "==============================================================================\n",
      "\n",
      "Warnings:\n",
      "[1] Standard Errors assume that the covariance matrix of the errors is correctly specified.\n",
      "                            OLS Regression Results                            \n",
      "==============================================================================\n",
      "Dep. Variable:                  psoda   R-squared:                       0.085\n",
      "Model:                            OLS   Adj. R-squared:                  0.078\n",
      "Method:                 Least Squares   F-statistic:                     12.29\n",
      "Date:                Fri, 13 Jul 2018   Prob (F-statistic):           1.05e-07\n",
      "Time:                        11:24:36   Log-Likelihood:                 420.29\n",
      "No. Observations:                 401   AIC:                            -832.6\n",
      "Df Residuals:                     397   BIC:                            -816.6\n",
      "Df Model:                           3                                         \n",
      "Covariance Type:            nonrobust                                         \n",
      "==================================================================================\n",
      "                     coef    std err          t      P>|t|      [0.025      0.975]\n",
      "----------------------------------------------------------------------------------\n",
      "Intercept         -0.5121      0.308     -1.664      0.097      -1.117       0.093\n",
      "prpblck            0.0750      0.032      2.334      0.020       0.012       0.138\n",
      "np.log(income)     0.1418      0.028      5.058      0.000       0.087       0.197\n",
      "prppov             0.3963      0.139      2.848      0.005       0.123       0.670\n",
      "==============================================================================\n",
      "Omnibus:                       30.968   Durbin-Watson:                   1.726\n",
      "Prob(Omnibus):                  0.000   Jarque-Bera (JB):               69.908\n",
      "Skew:                           0.401   Prob(JB):                     6.60e-16\n",
      "Kurtosis:                       4.882   Cond. No.                         834.\n",
      "==============================================================================\n",
      "\n",
      "Warnings:\n",
      "[1] Standard Errors assume that the covariance matrix of the errors is correctly specified.\n"
     ]
    }
   ],
   "source": [
    "print(regrc8.summary())\n",
    "print(regrc8b.summary())\n",
    "print(regrc8c.summary())\n",
    "print(regrc8d.summary())"
   ]
  },
  {
   "cell_type": "markdown",
   "metadata": {},
   "source": [
    "## C10"
   ]
  },
  {
   "cell_type": "code",
   "execution_count": 26,
   "metadata": {},
   "outputs": [
    {
     "data": {
      "text/html": [
       "<div>\n",
       "<style scoped>\n",
       "    .dataframe tbody tr th:only-of-type {\n",
       "        vertical-align: middle;\n",
       "    }\n",
       "\n",
       "    .dataframe tbody tr th {\n",
       "        vertical-align: top;\n",
       "    }\n",
       "\n",
       "    .dataframe thead th {\n",
       "        text-align: right;\n",
       "    }\n",
       "</style>\n",
       "<table border=\"1\" class=\"dataframe\">\n",
       "  <thead>\n",
       "    <tr style=\"text-align: right;\">\n",
       "      <th></th>\n",
       "      <th>wage</th>\n",
       "      <th>abil</th>\n",
       "      <th>educ</th>\n",
       "      <th>ne</th>\n",
       "      <th>nc</th>\n",
       "      <th>west</th>\n",
       "      <th>south</th>\n",
       "      <th>exper</th>\n",
       "      <th>motheduc</th>\n",
       "      <th>fatheduc</th>\n",
       "      <th>...</th>\n",
       "      <th>ne18</th>\n",
       "      <th>nc18</th>\n",
       "      <th>south18</th>\n",
       "      <th>west18</th>\n",
       "      <th>urban18</th>\n",
       "      <th>tuit17</th>\n",
       "      <th>tuit18</th>\n",
       "      <th>lwage</th>\n",
       "      <th>expersq</th>\n",
       "      <th>ctuit</th>\n",
       "    </tr>\n",
       "  </thead>\n",
       "  <tbody>\n",
       "    <tr>\n",
       "      <th>0</th>\n",
       "      <td>12.019231</td>\n",
       "      <td>5.027738</td>\n",
       "      <td>15</td>\n",
       "      <td>0</td>\n",
       "      <td>0</td>\n",
       "      <td>1</td>\n",
       "      <td>0</td>\n",
       "      <td>9</td>\n",
       "      <td>12</td>\n",
       "      <td>12</td>\n",
       "      <td>...</td>\n",
       "      <td>1</td>\n",
       "      <td>0</td>\n",
       "      <td>0</td>\n",
       "      <td>0</td>\n",
       "      <td>1</td>\n",
       "      <td>7.582914</td>\n",
       "      <td>7.260242</td>\n",
       "      <td>2.486508</td>\n",
       "      <td>81</td>\n",
       "      <td>-0.322671</td>\n",
       "    </tr>\n",
       "    <tr>\n",
       "      <th>1</th>\n",
       "      <td>8.912656</td>\n",
       "      <td>2.037170</td>\n",
       "      <td>13</td>\n",
       "      <td>1</td>\n",
       "      <td>0</td>\n",
       "      <td>0</td>\n",
       "      <td>0</td>\n",
       "      <td>8</td>\n",
       "      <td>12</td>\n",
       "      <td>10</td>\n",
       "      <td>...</td>\n",
       "      <td>1</td>\n",
       "      <td>0</td>\n",
       "      <td>0</td>\n",
       "      <td>0</td>\n",
       "      <td>1</td>\n",
       "      <td>8.595144</td>\n",
       "      <td>9.499537</td>\n",
       "      <td>2.187472</td>\n",
       "      <td>64</td>\n",
       "      <td>0.904392</td>\n",
       "    </tr>\n",
       "    <tr>\n",
       "      <th>2</th>\n",
       "      <td>15.514334</td>\n",
       "      <td>2.475895</td>\n",
       "      <td>15</td>\n",
       "      <td>1</td>\n",
       "      <td>0</td>\n",
       "      <td>0</td>\n",
       "      <td>0</td>\n",
       "      <td>11</td>\n",
       "      <td>12</td>\n",
       "      <td>16</td>\n",
       "      <td>...</td>\n",
       "      <td>1</td>\n",
       "      <td>0</td>\n",
       "      <td>0</td>\n",
       "      <td>0</td>\n",
       "      <td>1</td>\n",
       "      <td>7.311346</td>\n",
       "      <td>7.311346</td>\n",
       "      <td>2.741764</td>\n",
       "      <td>121</td>\n",
       "      <td>0.000000</td>\n",
       "    </tr>\n",
       "    <tr>\n",
       "      <th>3</th>\n",
       "      <td>13.333333</td>\n",
       "      <td>3.609240</td>\n",
       "      <td>15</td>\n",
       "      <td>1</td>\n",
       "      <td>0</td>\n",
       "      <td>0</td>\n",
       "      <td>0</td>\n",
       "      <td>6</td>\n",
       "      <td>12</td>\n",
       "      <td>12</td>\n",
       "      <td>...</td>\n",
       "      <td>1</td>\n",
       "      <td>0</td>\n",
       "      <td>0</td>\n",
       "      <td>0</td>\n",
       "      <td>1</td>\n",
       "      <td>9.499537</td>\n",
       "      <td>10.162070</td>\n",
       "      <td>2.590267</td>\n",
       "      <td>36</td>\n",
       "      <td>0.662534</td>\n",
       "    </tr>\n",
       "    <tr>\n",
       "      <th>4</th>\n",
       "      <td>11.070110</td>\n",
       "      <td>2.636546</td>\n",
       "      <td>13</td>\n",
       "      <td>1</td>\n",
       "      <td>0</td>\n",
       "      <td>0</td>\n",
       "      <td>0</td>\n",
       "      <td>15</td>\n",
       "      <td>12</td>\n",
       "      <td>15</td>\n",
       "      <td>...</td>\n",
       "      <td>1</td>\n",
       "      <td>0</td>\n",
       "      <td>0</td>\n",
       "      <td>0</td>\n",
       "      <td>1</td>\n",
       "      <td>7.311346</td>\n",
       "      <td>7.311346</td>\n",
       "      <td>2.404249</td>\n",
       "      <td>225</td>\n",
       "      <td>0.000000</td>\n",
       "    </tr>\n",
       "  </tbody>\n",
       "</table>\n",
       "<p>5 rows × 23 columns</p>\n",
       "</div>"
      ],
      "text/plain": [
       "        wage      abil  educ  ne  nc  west  south  exper  motheduc  fatheduc  \\\n",
       "0  12.019231  5.027738    15   0   0     1      0      9        12        12   \n",
       "1   8.912656  2.037170    13   1   0     0      0      8        12        10   \n",
       "2  15.514334  2.475895    15   1   0     0      0     11        12        16   \n",
       "3  13.333333  3.609240    15   1   0     0      0      6        12        12   \n",
       "4  11.070110  2.636546    13   1   0     0      0     15        12        15   \n",
       "\n",
       "     ...     ne18  nc18  south18  west18  urban18    tuit17     tuit18  \\\n",
       "0    ...        1     0        0       0        1  7.582914   7.260242   \n",
       "1    ...        1     0        0       0        1  8.595144   9.499537   \n",
       "2    ...        1     0        0       0        1  7.311346   7.311346   \n",
       "3    ...        1     0        0       0        1  9.499537  10.162070   \n",
       "4    ...        1     0        0       0        1  7.311346   7.311346   \n",
       "\n",
       "      lwage  expersq     ctuit  \n",
       "0  2.486508       81 -0.322671  \n",
       "1  2.187472       64  0.904392  \n",
       "2  2.741764      121  0.000000  \n",
       "3  2.590267       36  0.662534  \n",
       "4  2.404249      225  0.000000  \n",
       "\n",
       "[5 rows x 23 columns]"
      ]
     },
     "execution_count": 26,
     "metadata": {},
     "output_type": "execute_result"
    }
   ],
   "source": [
    "filename = os.path.join(caminho, 'HTV.DTA')\n",
    "dfc10 = pd.read_stata(filename, preserve_dtypes=False)\n",
    "dfc10.head()"
   ]
  },
  {
   "cell_type": "markdown",
   "metadata": {},
   "source": [
    "## i\n",
    "educ são os anos de educação, fatheduc e motheduc anos de educação do pai e mãe, respectivamente.\n",
    "\n",
    "A média dos pais é ligeiramente menor"
   ]
  },
  {
   "cell_type": "code",
   "execution_count": 33,
   "metadata": {},
   "outputs": [
    {
     "data": {
      "text/html": [
       "<div>\n",
       "<style scoped>\n",
       "    .dataframe tbody tr th:only-of-type {\n",
       "        vertical-align: middle;\n",
       "    }\n",
       "\n",
       "    .dataframe tbody tr th {\n",
       "        vertical-align: top;\n",
       "    }\n",
       "\n",
       "    .dataframe thead th {\n",
       "        text-align: right;\n",
       "    }\n",
       "</style>\n",
       "<table border=\"1\" class=\"dataframe\">\n",
       "  <thead>\n",
       "    <tr style=\"text-align: right;\">\n",
       "      <th></th>\n",
       "      <th>educ</th>\n",
       "      <th>fatheduc</th>\n",
       "      <th>motheduc</th>\n",
       "    </tr>\n",
       "  </thead>\n",
       "  <tbody>\n",
       "    <tr>\n",
       "      <th>count</th>\n",
       "      <td>1230.000000</td>\n",
       "      <td>1230.000000</td>\n",
       "      <td>1230.000000</td>\n",
       "    </tr>\n",
       "    <tr>\n",
       "      <th>mean</th>\n",
       "      <td>13.037398</td>\n",
       "      <td>12.447154</td>\n",
       "      <td>12.178049</td>\n",
       "    </tr>\n",
       "    <tr>\n",
       "      <th>std</th>\n",
       "      <td>2.354346</td>\n",
       "      <td>3.263835</td>\n",
       "      <td>2.278067</td>\n",
       "    </tr>\n",
       "    <tr>\n",
       "      <th>min</th>\n",
       "      <td>6.000000</td>\n",
       "      <td>0.000000</td>\n",
       "      <td>0.000000</td>\n",
       "    </tr>\n",
       "    <tr>\n",
       "      <th>25%</th>\n",
       "      <td>12.000000</td>\n",
       "      <td>11.000000</td>\n",
       "      <td>12.000000</td>\n",
       "    </tr>\n",
       "    <tr>\n",
       "      <th>50%</th>\n",
       "      <td>12.000000</td>\n",
       "      <td>12.000000</td>\n",
       "      <td>12.000000</td>\n",
       "    </tr>\n",
       "    <tr>\n",
       "      <th>75%</th>\n",
       "      <td>15.000000</td>\n",
       "      <td>14.000000</td>\n",
       "      <td>12.000000</td>\n",
       "    </tr>\n",
       "    <tr>\n",
       "      <th>max</th>\n",
       "      <td>20.000000</td>\n",
       "      <td>20.000000</td>\n",
       "      <td>20.000000</td>\n",
       "    </tr>\n",
       "  </tbody>\n",
       "</table>\n",
       "</div>"
      ],
      "text/plain": [
       "              educ     fatheduc     motheduc\n",
       "count  1230.000000  1230.000000  1230.000000\n",
       "mean     13.037398    12.447154    12.178049\n",
       "std       2.354346     3.263835     2.278067\n",
       "min       6.000000     0.000000     0.000000\n",
       "25%      12.000000    11.000000    12.000000\n",
       "50%      12.000000    12.000000    12.000000\n",
       "75%      15.000000    14.000000    12.000000\n",
       "max      20.000000    20.000000    20.000000"
      ]
     },
     "execution_count": 33,
     "metadata": {},
     "output_type": "execute_result"
    }
   ],
   "source": [
    "dfc10[['educ', 'fatheduc', 'motheduc']].describe()"
   ]
  },
  {
   "cell_type": "code",
   "execution_count": 34,
   "metadata": {},
   "outputs": [
    {
     "name": "stdout",
     "output_type": "stream",
     "text": [
      "educ = 6.964 + 0.304 x motheduc + 0.190 x fatheduc\n",
      "n = 1230.0, R^2 = 0.2493\n"
     ]
    }
   ],
   "source": [
    "modelc10 = smf.ols(formula='educ ~ motheduc + fatheduc ', data=dfc10)\n",
    "regrc10 = modelc10.fit()\n",
    "print_regr('educ', regrc10)"
   ]
  },
  {
   "cell_type": "code",
   "execution_count": 35,
   "metadata": {},
   "outputs": [
    {
     "name": "stdout",
     "output_type": "stream",
     "text": [
      "educ = 8.449 + 0.189 x motheduc + 0.111 x fatheduc + 0.502 x abil\n",
      "n = 1230.0, R^2 = 0.4275\n"
     ]
    }
   ],
   "source": [
    "modelc10b = smf.ols(formula='educ ~ motheduc + fatheduc + abil', data=dfc10)\n",
    "regrc10b = modelc10b.fit()\n",
    "print_regr('educ', regrc10b)"
   ]
  },
  {
   "cell_type": "code",
   "execution_count": 37,
   "metadata": {},
   "outputs": [
    {
     "name": "stdout",
     "output_type": "stream",
     "text": [
      "educ = 8.240 + 0.190 x motheduc + 0.109 x fatheduc + 0.401 x abil + 0.051 x I(abil ** 2)\n",
      "n = 1230.0, R^2 = 0.4444\n"
     ]
    }
   ],
   "source": [
    "modelc10b = smf.ols(formula='educ ~ motheduc + fatheduc + abil + I(abil ** 2)', data=dfc10)\n",
    "regrc10b = modelc10b.fit()\n",
    "print_regr('educ', regrc10b)"
   ]
  },
  {
   "cell_type": "code",
   "execution_count": null,
   "metadata": {},
   "outputs": [],
   "source": []
  },
  {
   "cell_type": "code",
   "execution_count": null,
   "metadata": {},
   "outputs": [],
   "source": []
  }
 ],
 "metadata": {
  "kernelspec": {
   "display_name": "Python 3",
   "language": "python",
   "name": "python3"
  },
  "language_info": {
   "codemirror_mode": {
    "name": "ipython",
    "version": 3
   },
   "file_extension": ".py",
   "mimetype": "text/x-python",
   "name": "python",
   "nbconvert_exporter": "python",
   "pygments_lexer": "ipython3",
   "version": "3.6.4"
  }
 },
 "nbformat": 4,
 "nbformat_minor": 2
}
