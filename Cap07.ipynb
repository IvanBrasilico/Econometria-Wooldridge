{
 "cells": [
  {
   "cell_type": "code",
   "execution_count": 1,
   "metadata": {},
   "outputs": [],
   "source": [
    "import os\n",
    "import pandas as pd\n",
    "import numpy as np\n",
    "import statsmodels.api as sm\n",
    "import statsmodels.formula.api as smf\n",
    "from utils import print_regr\n",
    "caminho = os.path.join('..', 'dados', 'Data Sets- STATA')"
   ]
  },
  {
   "cell_type": "markdown",
   "metadata": {},
   "source": [
    "## Ex. 7.11"
   ]
  },
  {
   "cell_type": "code",
   "execution_count": 5,
   "metadata": {},
   "outputs": [
    {
     "data": {
      "text/html": [
       "<div>\n",
       "<style scoped>\n",
       "    .dataframe tbody tr th:only-of-type {\n",
       "        vertical-align: middle;\n",
       "    }\n",
       "\n",
       "    .dataframe tbody tr th {\n",
       "        vertical-align: top;\n",
       "    }\n",
       "\n",
       "    .dataframe thead th {\n",
       "        text-align: right;\n",
       "    }\n",
       "</style>\n",
       "<table border=\"1\" class=\"dataframe\">\n",
       "  <thead>\n",
       "    <tr style=\"text-align: right;\">\n",
       "      <th></th>\n",
       "      <th>salary</th>\n",
       "      <th>teamsal</th>\n",
       "      <th>nl</th>\n",
       "      <th>years</th>\n",
       "      <th>games</th>\n",
       "      <th>atbats</th>\n",
       "      <th>runs</th>\n",
       "      <th>hits</th>\n",
       "      <th>doubles</th>\n",
       "      <th>triples</th>\n",
       "      <th>...</th>\n",
       "      <th>runsyr</th>\n",
       "      <th>percwhte</th>\n",
       "      <th>percblck</th>\n",
       "      <th>perchisp</th>\n",
       "      <th>blckpb</th>\n",
       "      <th>hispph</th>\n",
       "      <th>whtepw</th>\n",
       "      <th>blckph</th>\n",
       "      <th>hisppb</th>\n",
       "      <th>lsalary</th>\n",
       "    </tr>\n",
       "  </thead>\n",
       "  <tbody>\n",
       "    <tr>\n",
       "      <th>0</th>\n",
       "      <td>6329213.0</td>\n",
       "      <td>38407380.0</td>\n",
       "      <td>1</td>\n",
       "      <td>12</td>\n",
       "      <td>1705</td>\n",
       "      <td>6705</td>\n",
       "      <td>1076</td>\n",
       "      <td>1939</td>\n",
       "      <td>320</td>\n",
       "      <td>67</td>\n",
       "      <td>...</td>\n",
       "      <td>89.666664</td>\n",
       "      <td>70.277969</td>\n",
       "      <td>18.844229</td>\n",
       "      <td>10.877804</td>\n",
       "      <td>0.000000</td>\n",
       "      <td>0.0</td>\n",
       "      <td>70.277969</td>\n",
       "      <td>0.000000</td>\n",
       "      <td>0.0</td>\n",
       "      <td>15.660686</td>\n",
       "    </tr>\n",
       "    <tr>\n",
       "      <th>1</th>\n",
       "      <td>3375000.0</td>\n",
       "      <td>38407380.0</td>\n",
       "      <td>1</td>\n",
       "      <td>8</td>\n",
       "      <td>918</td>\n",
       "      <td>3333</td>\n",
       "      <td>407</td>\n",
       "      <td>863</td>\n",
       "      <td>156</td>\n",
       "      <td>38</td>\n",
       "      <td>...</td>\n",
       "      <td>50.875000</td>\n",
       "      <td>70.277969</td>\n",
       "      <td>18.844229</td>\n",
       "      <td>10.877804</td>\n",
       "      <td>18.844229</td>\n",
       "      <td>0.0</td>\n",
       "      <td>0.000000</td>\n",
       "      <td>10.877804</td>\n",
       "      <td>0.0</td>\n",
       "      <td>15.031906</td>\n",
       "    </tr>\n",
       "    <tr>\n",
       "      <th>2</th>\n",
       "      <td>3100000.0</td>\n",
       "      <td>38407380.0</td>\n",
       "      <td>1</td>\n",
       "      <td>5</td>\n",
       "      <td>751</td>\n",
       "      <td>2807</td>\n",
       "      <td>370</td>\n",
       "      <td>840</td>\n",
       "      <td>148</td>\n",
       "      <td>18</td>\n",
       "      <td>...</td>\n",
       "      <td>74.000000</td>\n",
       "      <td>70.277969</td>\n",
       "      <td>18.844229</td>\n",
       "      <td>10.877804</td>\n",
       "      <td>0.000000</td>\n",
       "      <td>0.0</td>\n",
       "      <td>70.277969</td>\n",
       "      <td>0.000000</td>\n",
       "      <td>0.0</td>\n",
       "      <td>14.946913</td>\n",
       "    </tr>\n",
       "    <tr>\n",
       "      <th>3</th>\n",
       "      <td>2900000.0</td>\n",
       "      <td>38407380.0</td>\n",
       "      <td>1</td>\n",
       "      <td>8</td>\n",
       "      <td>1056</td>\n",
       "      <td>3337</td>\n",
       "      <td>405</td>\n",
       "      <td>816</td>\n",
       "      <td>143</td>\n",
       "      <td>18</td>\n",
       "      <td>...</td>\n",
       "      <td>50.625000</td>\n",
       "      <td>70.277969</td>\n",
       "      <td>18.844229</td>\n",
       "      <td>10.877804</td>\n",
       "      <td>0.000000</td>\n",
       "      <td>0.0</td>\n",
       "      <td>70.277969</td>\n",
       "      <td>0.000000</td>\n",
       "      <td>0.0</td>\n",
       "      <td>14.880221</td>\n",
       "    </tr>\n",
       "    <tr>\n",
       "      <th>4</th>\n",
       "      <td>1650000.0</td>\n",
       "      <td>38407380.0</td>\n",
       "      <td>1</td>\n",
       "      <td>12</td>\n",
       "      <td>1196</td>\n",
       "      <td>3603</td>\n",
       "      <td>437</td>\n",
       "      <td>928</td>\n",
       "      <td>19</td>\n",
       "      <td>16</td>\n",
       "      <td>...</td>\n",
       "      <td>36.416668</td>\n",
       "      <td>70.277969</td>\n",
       "      <td>18.844229</td>\n",
       "      <td>10.877804</td>\n",
       "      <td>18.844229</td>\n",
       "      <td>0.0</td>\n",
       "      <td>0.000000</td>\n",
       "      <td>10.877804</td>\n",
       "      <td>0.0</td>\n",
       "      <td>14.316286</td>\n",
       "    </tr>\n",
       "  </tbody>\n",
       "</table>\n",
       "<p>5 rows × 47 columns</p>\n",
       "</div>"
      ],
      "text/plain": [
       "      salary     teamsal  nl  years  games  atbats  runs  hits  doubles  \\\n",
       "0  6329213.0  38407380.0   1     12   1705    6705  1076  1939      320   \n",
       "1  3375000.0  38407380.0   1      8    918    3333   407   863      156   \n",
       "2  3100000.0  38407380.0   1      5    751    2807   370   840      148   \n",
       "3  2900000.0  38407380.0   1      8   1056    3337   405   816      143   \n",
       "4  1650000.0  38407380.0   1     12   1196    3603   437   928       19   \n",
       "\n",
       "   triples    ...         runsyr   percwhte   percblck   perchisp     blckpb  \\\n",
       "0       67    ...      89.666664  70.277969  18.844229  10.877804   0.000000   \n",
       "1       38    ...      50.875000  70.277969  18.844229  10.877804  18.844229   \n",
       "2       18    ...      74.000000  70.277969  18.844229  10.877804   0.000000   \n",
       "3       18    ...      50.625000  70.277969  18.844229  10.877804   0.000000   \n",
       "4       16    ...      36.416668  70.277969  18.844229  10.877804  18.844229   \n",
       "\n",
       "   hispph     whtepw     blckph  hisppb    lsalary  \n",
       "0     0.0  70.277969   0.000000     0.0  15.660686  \n",
       "1     0.0   0.000000  10.877804     0.0  15.031906  \n",
       "2     0.0  70.277969   0.000000     0.0  14.946913  \n",
       "3     0.0  70.277969   0.000000     0.0  14.880221  \n",
       "4     0.0   0.000000  10.877804     0.0  14.316286  \n",
       "\n",
       "[5 rows x 47 columns]"
      ]
     },
     "execution_count": 5,
     "metadata": {},
     "output_type": "execute_result"
    }
   ],
   "source": [
    "filename = os.path.join(caminho, 'MLB1.DTA')\n",
    "df = pd.read_stata(filename, preserve_dtypes=False)\n",
    "df.head()"
   ]
  },
  {
   "cell_type": "markdown",
   "metadata": {},
   "source": [
    "### Se não forem eliminadas as linhas com dados ausentes, a segunda modelagem terá 353 linhas, o que prejudicará a comparação do R²"
   ]
  },
  {
   "cell_type": "code",
   "execution_count": 33,
   "metadata": {},
   "outputs": [],
   "source": [
    "df = df.dropna()"
   ]
  },
  {
   "cell_type": "code",
   "execution_count": 34,
   "metadata": {},
   "outputs": [
    {
     "name": "stdout",
     "output_type": "stream",
     "text": [
      "log(salary) = 10.344 + 0.067 x years + 0.009 x gamesyr + 0.001 x bavg + 0.015 x hrunsyr + 0.004 x rbisyr + 0.007 x runsyr + 0.001 x fldperc + 0.008 x allstar + -0.198 x black + -0.190 x hispan + 0.012 x I(black * percblck) + 0.020 x I(hispan * perchisp)\n",
      "(2.183)\t(0.013)\t(0.003)\t(0.002)\t(0.016)\t(0.008)\t(0.005)\t(0.002)\t(0.003)\t(0.125)\t(0.153)\t(0.005)\t(0.010)\n",
      "n = 330.0, R^2 = 0.6376\n"
     ]
    }
   ],
   "source": [
    "model = smf.ols(formula='np.log(salary) ~ years + gamesyr + bavg + ' +\n",
    "                ' hrunsyr + rbisyr + runsyr + fldperc + allstar + ' +\n",
    "                'black + hispan + I(black*percblck) + I(hispan*perchisp)', data=df)\n",
    "regr = model.fit()\n",
    "print_regr('log(salary)', regr)"
   ]
  },
  {
   "cell_type": "code",
   "execution_count": 35,
   "metadata": {},
   "outputs": [
    {
     "name": "stdout",
     "output_type": "stream",
     "text": [
      "log(salary) = 10.637 + 0.067 x years + 0.009 x gamesyr + 0.001 x bavg + 0.014 x hrunsyr + 0.005 x rbisyr + 0.008 x runsyr + 0.001 x fldperc + 0.007 x allstar\n",
      "(2.199)\t(0.013)\t(0.003)\t(0.002)\t(0.017)\t(0.008)\t(0.005)\t(0.002)\t(0.003)\n",
      "n = 330.0, R^2 = 0.6255\n"
     ]
    }
   ],
   "source": [
    "model2 = smf.ols(formula='np.log(salary) ~ years + gamesyr + bavg + ' +\n",
    "                ' hrunsyr + rbisyr + runsyr + fldperc + allstar', data=df)\n",
    "regr2 = model2.fit()\n",
    "print_regr('log(salary)', regr2)"
   ]
  },
  {
   "cell_type": "code",
   "execution_count": 36,
   "metadata": {},
   "outputs": [
    {
     "name": "stdout",
     "output_type": "stream",
     "text": [
      "log(salary) = 10.618 + 0.068 x years + 0.009 x gamesyr + 0.001 x bavg + 0.014 x hrunsyr + 0.005 x rbisyr + 0.008 x runsyr + 0.001 x fldperc + 0.007 x allstar + 0.009 x black + 0.033 x hispan\n",
      "(2.209)\t(0.013)\t(0.003)\t(0.002)\t(0.017)\t(0.008)\t(0.005)\t(0.002)\t(0.003)\t(0.095)\t(0.110)\n",
      "n = 330.0, R^2 = 0.6256\n"
     ]
    }
   ],
   "source": [
    "model3 = smf.ols(formula='np.log(salary) ~ years + gamesyr + bavg + ' +\n",
    "                ' hrunsyr + rbisyr + runsyr + fldperc + allstar + ' +\n",
    "                'black + hispan', data=df)\n",
    "regr3 = model3.fit()\n",
    "print_regr('log(salary)', regr3)"
   ]
  },
  {
   "cell_type": "code",
   "execution_count": 37,
   "metadata": {},
   "outputs": [
    {
     "name": "stdout",
     "output_type": "stream",
     "text": [
      "f_test\n",
      "<F test: F=array([[2.64788815]]), p=0.033476155666573075, df_denom=317, df_num=4>\n"
     ]
    }
   ],
   "source": [
    "hypotheses = '(black=hispan=I(black * percblck)=I(hispan * perchisp)=0)'\n",
    "f_test = regr.f_test(hypotheses)\n",
    "print('f_test')\n",
    "print(f_test)"
   ]
  },
  {
   "cell_type": "code",
   "execution_count": 38,
   "metadata": {},
   "outputs": [
    {
     "name": "stdout",
     "output_type": "stream",
     "text": [
      "                            OLS Regression Results                            \n",
      "==============================================================================\n",
      "Dep. Variable:         np.log(salary)   R-squared:                       0.638\n",
      "Model:                            OLS   Adj. R-squared:                  0.624\n",
      "Method:                 Least Squares   F-statistic:                     46.48\n",
      "Date:                Fri, 13 Jul 2018   Prob (F-statistic):           1.31e-62\n",
      "Time:                        13:06:50   Log-Likelihood:                -350.12\n",
      "No. Observations:                 330   AIC:                             726.2\n",
      "Df Residuals:                     317   BIC:                             775.6\n",
      "Df Model:                          12                                         \n",
      "Covariance Type:            nonrobust                                         \n",
      "========================================================================================\n",
      "                           coef    std err          t      P>|t|      [0.025      0.975]\n",
      "----------------------------------------------------------------------------------------\n",
      "Intercept               10.3437      2.183      4.739      0.000       6.050      14.638\n",
      "years                    0.0673      0.013      5.224      0.000       0.042       0.093\n",
      "gamesyr                  0.0089      0.003      2.624      0.009       0.002       0.016\n",
      "bavg                     0.0009      0.002      0.625      0.533      -0.002       0.004\n",
      "hrunsyr                  0.0146      0.016      0.889      0.375      -0.018       0.047\n",
      "rbisyr                   0.0045      0.008      0.593      0.553      -0.010       0.019\n",
      "runsyr                   0.0072      0.005      1.577      0.116      -0.002       0.016\n",
      "fldperc                  0.0011      0.002      0.513      0.609      -0.003       0.005\n",
      "allstar                  0.0075      0.003      2.621      0.009       0.002       0.013\n",
      "black                   -0.1980      0.125     -1.578      0.116      -0.445       0.049\n",
      "hispan                  -0.1900      0.153     -1.241      0.215      -0.491       0.111\n",
      "I(black * percblck)      0.0125      0.005      2.509      0.013       0.003       0.022\n",
      "I(hispan * perchisp)     0.0201      0.010      2.051      0.041       0.001       0.039\n",
      "==============================================================================\n",
      "Omnibus:                        1.828   Durbin-Watson:                   1.341\n",
      "Prob(Omnibus):                  0.401   Jarque-Bera (JB):                1.709\n",
      "Skew:                           0.012   Prob(JB):                        0.425\n",
      "Kurtosis:                       3.352   Cond. No.                     5.65e+04\n",
      "==============================================================================\n",
      "\n",
      "Warnings:\n",
      "[1] Standard Errors assume that the covariance matrix of the errors is correctly specified.\n",
      "[2] The condition number is large, 5.65e+04. This might indicate that there are\n",
      "strong multicollinearity or other numerical problems.\n",
      "                            OLS Regression Results                            \n",
      "==============================================================================\n",
      "Dep. Variable:         np.log(salary)   R-squared:                       0.626\n",
      "Model:                            OLS   Adj. R-squared:                  0.616\n",
      "Method:                 Least Squares   F-statistic:                     67.02\n",
      "Date:                Fri, 13 Jul 2018   Prob (F-statistic):           6.08e-64\n",
      "Time:                        13:06:50   Log-Likelihood:                -355.54\n",
      "No. Observations:                 330   AIC:                             729.1\n",
      "Df Residuals:                     321   BIC:                             763.3\n",
      "Df Model:                           8                                         \n",
      "Covariance Type:            nonrobust                                         \n",
      "==============================================================================\n",
      "                 coef    std err          t      P>|t|      [0.025      0.975]\n",
      "------------------------------------------------------------------------------\n",
      "Intercept     10.6367      2.199      4.838      0.000       6.311      14.962\n",
      "years          0.0673      0.013      5.184      0.000       0.042       0.093\n",
      "gamesyr        0.0086      0.003      2.548      0.011       0.002       0.015\n",
      "bavg           0.0007      0.002      0.435      0.664      -0.002       0.004\n",
      "hrunsyr        0.0140      0.017      0.848      0.397      -0.019       0.047\n",
      "rbisyr         0.0046      0.008      0.607      0.544      -0.010       0.020\n",
      "runsyr         0.0084      0.005      1.869      0.063      -0.000       0.017\n",
      "fldperc        0.0009      0.002      0.401      0.688      -0.003       0.005\n",
      "allstar        0.0069      0.003      2.390      0.017       0.001       0.013\n",
      "==============================================================================\n",
      "Omnibus:                        1.891   Durbin-Watson:                   1.286\n",
      "Prob(Omnibus):                  0.388   Jarque-Bera (JB):                1.756\n",
      "Skew:                           0.046   Prob(JB):                        0.416\n",
      "Kurtosis:                       3.345   Cond. No.                     5.63e+04\n",
      "==============================================================================\n",
      "\n",
      "Warnings:\n",
      "[1] Standard Errors assume that the covariance matrix of the errors is correctly specified.\n",
      "[2] The condition number is large, 5.63e+04. This might indicate that there are\n",
      "strong multicollinearity or other numerical problems.\n"
     ]
    }
   ],
   "source": [
    "print(regr.summary())\n",
    "print(regr2.summary())"
   ]
  },
  {
   "cell_type": "code",
   "execution_count": null,
   "metadata": {},
   "outputs": [],
   "source": []
  },
  {
   "cell_type": "code",
   "execution_count": null,
   "metadata": {},
   "outputs": [],
   "source": []
  }
 ],
 "metadata": {
  "kernelspec": {
   "display_name": "Python 3",
   "language": "python",
   "name": "python3"
  },
  "language_info": {
   "codemirror_mode": {
    "name": "ipython",
    "version": 3
   },
   "file_extension": ".py",
   "mimetype": "text/x-python",
   "name": "python",
   "nbconvert_exporter": "python",
   "pygments_lexer": "ipython3",
   "version": "3.6.4"
  }
 },
 "nbformat": 4,
 "nbformat_minor": 2
}
